{
 "cells": [
  {
   "cell_type": "markdown",
   "metadata": {
    "application/vnd.databricks.v1+cell": {
     "cellMetadata": {
      "byteLimit": 2048000,
      "rowLimit": 10000
     },
     "inputWidgets": {},
     "nuid": "dd1b038c-7edc-418a-9cf5-b3aa1310c34e",
     "showTitle": false,
     "title": ""
    },
    "id": "uFg6o5crvGxv"
   },
   "source": [
    "\n",
    "# Algoritmo de Flajolet-Martin\n",
    "En esta libreta programaremos el algoritmo Flajolet-Martin  para estimar el número de elementos distintos en un flujo de datos.\n",
    "\n",
    "La idea detrás de este algoritmo es que entre más elementos diferentes haya en el flujo de datos, más valores _hash_ diferentes veremos y es más probable que alguno de estos valores tenga una representación binaria que termine con un mayor número de ceros consecutivos.\n",
    "\n",
    "En particular, sea \\\\( tam(x) \\\\) el número de 0s al final de la cadena correspondiente al valor _hash_ del elemento \\\\( x \\\\), se inicializa un arreglo de bits de tamaño \\\\( L \\\\) con ceros y se pone a 1 el bit de la posición \\\\( tam(x) \\\\) para cada \\\\( x \\\\) del flujo. Sea \\\\( r \\\\) la primera posición del arreglo de bits cuyo valor es cero, un estimador del número de elementos en el flujo de datos es \\\\( \\frac{2^{r}}{\\phi} \\\\), donde \\\\( \\phi \\approx 0.77351 \\\\) es un factor de corrección."
   ]
  },
  {
   "cell_type": "code",
   "execution_count": 0,
   "metadata": {
    "application/vnd.databricks.v1+cell": {
     "cellMetadata": {
      "byteLimit": 2048000,
      "rowLimit": 10000
     },
     "inputWidgets": {},
     "nuid": "7a60faba-18ba-4ef5-9eab-853f8f9e1857",
     "showTitle": false,
     "title": ""
    },
    "colab": {
     "base_uri": "https://localhost:8080/"
    },
    "id": "2psVeydxgiGr",
    "outputId": "a5f33923-a0f3-45e7-a115-6c8140d628cf"
   },
   "outputs": [
    {
     "output_type": "stream",
     "name": "stdout",
     "output_type": "stream",
     "text": [
      "Valor hash en binario: (str) 0b10000\nExtracción del valor binario:  10000\nDando la 'vuelta' al valor binario:  00001\n¿Cuántos ceros tiene:? 4\n"
     ]
    }
   ],
   "source": [
    "\\\\( tam(x) \\\\)#Extracción de número de 0s al final de la cadena\n",
    "hash = 16\n",
    "print(\"Valor hash en binario: (str)\", bin(hash))\n",
    "print(\"Extracción del valor binario: \", bin(hash)[2:])\n",
    "print(\"Dando la 'vuelta' al valor binario: \",bin(hash)[2:][::-1])\n",
    "print(\"¿Cuántos ceros tiene:?\", bin(hash)[2:][::-1].find('1'))"
   ]
  },
  {
   "cell_type": "code",
   "execution_count": 0,
   "metadata": {
    "application/vnd.databricks.v1+cell": {
     "cellMetadata": {
      "byteLimit": 2048000,
      "rowLimit": 10000
     },
     "inputWidgets": {},
     "nuid": "bc80bf15-226f-4328-ab29-6edcfe4b5013",
     "showTitle": false,
     "title": ""
    },
    "id": "A5R50JK8NE4A"
   },
   "outputs": [],
   "source": [
    "import numpy as np\n",
    "np.random.seed(2021) # para reproducibilidad\n",
    "\n",
    "class ConteoProbabilista:  \n",
    "  def __init__(self, n_cubetas, primo, n_bits=64):\n",
    "    self.primo = primo  \n",
    "    self.n_cubetas = n_cubetas\n",
    "    self.a = np.random.randint(1, self.primo - 1) #iteraramos con diferentes funciones hash\n",
    "    self.b = np.random.randint(0, self.primo - 1)\n",
    "    self.bitmap = np.zeros(n_bits, dtype=bool)\n",
    "\n",
    "  def __call__(self, x):\n",
    "    hash = ((self.a * x + self.b) % self.primo) % self.n_cubetas #función hash universal\n",
    "    i = bin(hash)[2:][::-1].find('1') #nos regresa el número de 0s al final de la cadena\n",
    "    self.bitmap[i] = 1 #mantenemos el número máx de 0s que ha visto\n",
    "\n",
    "  def cardinalidad(self): #función para calcular el número de elementos distintos\n",
    "    r = np.argwhere(self.bitmap == 0)[0]\n",
    "    r = (2**r) / 0.77351\n",
    "    return r"
   ]
  },
  {
   "cell_type": "markdown",
   "metadata": {
    "application/vnd.databricks.v1+cell": {
     "cellMetadata": {
      "byteLimit": 2048000,
      "rowLimit": 10000
     },
     "inputWidgets": {},
     "nuid": "125cee43-9d71-4362-8285-ed761a85a55f",
     "showTitle": false,
     "title": ""
    },
    "id": "QfbDUb95fsGX"
   },
   "source": [
    "Definimos una clase que realiza varias estimaciones, las divide en grupos pequeños, obtiene la mediana de las estimaciones de cada grupo y toma el promedio de las medianas como estimación final."
   ]
  },
  {
   "cell_type": "code",
   "execution_count": 0,
   "metadata": {
    "application/vnd.databricks.v1+cell": {
     "cellMetadata": {
      "byteLimit": 2048000,
      "rowLimit": 10000
     },
     "inputWidgets": {},
     "nuid": "5f514a92-4dfc-44b1-a737-6a0e16833e12",
     "showTitle": false,
     "title": ""
    },
    "id": "a5kgdKmwf9mX"
   },
   "outputs": [],
   "source": [
    "class EstimadorElementosDistintos:\n",
    "  def __init__(self, n_cubetas, n_grupos, n_funciones, primo, n_bits):\n",
    "    self.n_grupos = n_grupos\n",
    "    self.n_funciones = n_funciones\n",
    "    self.estimadores = [] #es una lista de lista que guarda todos los estimadores (n_grupos ->n_funciones )\n",
    "    for i in range(self.n_grupos): #se itera en cada uno de los grupos\n",
    "      func = []\n",
    "      for j in range(self.n_funciones): #se generan n funciones por cada grupo\n",
    "        func.append(ConteoProbabilista(n_cubetas, primo, n_bits)) #se generan las diferentes estimaciones\n",
    "      self.estimadores.append(func)\n",
    "    self.conteos = np.zeros((self.n_grupos, self.n_funciones)) #matriz [n_grupos,nfunciones], va estar asociada a una función distinta hash\n",
    "\n",
    "  def __call__(self, x):\n",
    "    for i in range(self.n_grupos):\n",
    "      for j in range(self.n_funciones):  \n",
    "        self.estimadores[i][j](x)\n",
    "        self.conteos[i, j] = self.estimadores[i][j].cardinalidad()\n",
    "      \n",
    "  def cardinalidad(self):\n",
    "    return np.mean(np.median(self.conteos, axis=1)) ##Se calcula la mediana  de cada uno de los grupos pequeños y luego se calcula el promedio"
   ]
  },
  {
   "cell_type": "markdown",
   "metadata": {
    "application/vnd.databricks.v1+cell": {
     "cellMetadata": {
      "byteLimit": 2048000,
      "rowLimit": 10000
     },
     "inputWidgets": {},
     "nuid": "696ff59c-859b-43eb-a0e5-3a67b203aa75",
     "showTitle": false,
     "title": ""
    },
    "id": "rXaQA1Ome0NT"
   },
   "source": [
    "Generamos números aleatorios."
   ]
  },
  {
   "cell_type": "code",
   "execution_count": 0,
   "metadata": {
    "application/vnd.databricks.v1+cell": {
     "cellMetadata": {
      "byteLimit": 2048000,
      "rowLimit": 10000
     },
     "inputWidgets": {},
     "nuid": "876d1bc2-eae0-45e5-8e3c-ba3006a889fe",
     "showTitle": false,
     "title": ""
    },
    "colab": {
     "base_uri": "https://localhost:8080/"
    },
    "id": "xcFfCLRqYc76",
    "outputId": "915bbcad-8574-402d-b19c-d3e9a3a291cd"
   },
   "outputs": [
    {
     "output_type": "stream",
     "name": "stdout",
     "output_type": "stream",
     "text": [
      "Hay 99995 elementos distintos\n"
     ]
    }
   ],
   "source": [
    "import numpy as np\n",
    "\n",
    "X = np.random.randint(0,100000, size=1000000)\n",
    "print(\"Hay {0} elementos distintos\".format(np.unique(X).size))"
   ]
  },
  {
   "cell_type": "markdown",
   "metadata": {
    "application/vnd.databricks.v1+cell": {
     "cellMetadata": {
      "byteLimit": 2048000,
      "rowLimit": 10000
     },
     "inputWidgets": {},
     "nuid": "7ee5f6e1-d1f8-497a-a3f8-a1a57e4a13f7",
     "showTitle": false,
     "title": ""
    },
    "id": "aJYKNyORfVvL"
   },
   "source": [
    "Instanciamos nuestra clase y estimamos elementos distintos."
   ]
  },
  {
   "cell_type": "code",
   "execution_count": 0,
   "metadata": {
    "application/vnd.databricks.v1+cell": {
     "cellMetadata": {
      "byteLimit": 2048000,
      "rowLimit": 10000
     },
     "inputWidgets": {},
     "nuid": "5f2e5a9a-5488-4d39-ac0b-9d5631d09ca0",
     "showTitle": false,
     "title": ""
    },
    "colab": {
     "base_uri": "https://localhost:8080/"
    },
    "id": "vdXeSYsGwS9J",
    "outputId": "1ff6baf1-3fdc-4c6c-c951-3beab02492b1"
   },
   "outputs": [
    {
     "output_type": "stream",
     "name": "stdout",
     "output_type": "stream",
     "text": [
      "Real = 99995 Estimación = 88961.74580806971 \n"
     ]
    }
   ],
   "source": [
    "est = EstimadorElementosDistintos(n_cubetas=1000000, n_grupos=5, n_funciones=5, primo=4294967291, n_bits=64)\n",
    "\n",
    "for i,x in enumerate(X):\n",
    "  est(x)\n",
    "\n",
    "#Recordemos que: cada uno de los grupos nos darán estimaciones distintas\n",
    "print(u'Real = {0} Estimación = {1} '.format(np.unique(X[:i+1]).size, est.cardinalidad()))"
   ]
  }
 ],
 "metadata": {
  "application/vnd.databricks.v1+notebook": {
   "dashboards": [],
   "environmentMetadata": null,
   "language": "python",
   "notebookMetadata": {
    "pythonIndentUnit": 2
   },
   "notebookName": "3c_elementos_distintos",
   "widgets": {}
  },
  "colab": {
   "collapsed_sections": [],
   "include_colab_link": true,
   "name": "4c_elementos_distintos.ipynb",
   "provenance": []
  },
  "kernelspec": {
   "display_name": "Python 3",
   "name": "python3"
  },
  "language_info": {
   "name": "python"
  }
 },
 "nbformat": 4,
 "nbformat_minor": 0
}
