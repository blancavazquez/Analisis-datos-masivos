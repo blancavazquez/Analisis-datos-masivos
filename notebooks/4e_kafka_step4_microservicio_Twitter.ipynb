{
 "cells": [
  {
   "cell_type": "markdown",
   "metadata": {
    "application/vnd.databricks.v1+cell": {
     "cellMetadata": {
      "byteLimit": 2048000,
      "rowLimit": 10000
     },
     "inputWidgets": {},
     "nuid": "df9efee2-d649-4dca-88e7-65387cc239a6",
     "showTitle": false,
     "tableResultSettingsMap": {},
     "title": ""
    }
   },
   "source": [
    "### Creación del servicio del productor\n",
    "\n",
    "El objetivo de esta libreta es leer los tweets en tiempo real los cuáles son ingresados a Apache Kafka. Los pasos se describen a continuación:\n",
    "\n",
    "- Se importan todas las bibliotecas necesarias para crear una conexión con Twitter, se lee el tweet y se mantiene disponible para la transmisión.\n",
    "- Se lee el archivo JSON del tweet entrante (los tweets entrantes están en formato JSON).\n",
    "- Se recupera solo el tweet real y se envia al socket del cliente.\n",
    "- Se define el host y el puerto y se vinculan con el servicio.\n",
    "- Se establece la conexión.\n",
    "- Para conseguir la conexión en tiempo real: se usan las llaves de autenticación que proporciona Twitter.\n",
    "- Se filtran los tweets con un tema específico."
   ]
  },
  {
   "cell_type": "code",
   "execution_count": 0,
   "metadata": {
    "application/vnd.databricks.v1+cell": {
     "cellMetadata": {
      "byteLimit": 2048000,
      "rowLimit": 10000
     },
     "inputWidgets": {},
     "nuid": "b1a3d887-1aa6-456e-9524-cd692d859818",
     "showTitle": false,
     "tableResultSettingsMap": {},
     "title": ""
    }
   },
   "outputs": [
    {
     "output_type": "stream",
     "name": "stdout",
     "output_type": "stream",
     "text": [
      "Collecting kafka-python\r\n  Downloading kafka_python-2.0.2-py2.py3-none-any.whl (246 kB)\r\n\u001B[?25l\r\u001B[K     |█▎                              | 10 kB 26.3 MB/s eta 0:00:01\r\u001B[K     |██▋                             | 20 kB 30.1 MB/s eta 0:00:01\r\u001B[K     |████                            | 30 kB 37.8 MB/s eta 0:00:01\r\u001B[K     |█████▎                          | 40 kB 9.1 MB/s eta 0:00:01\r\u001B[K     |██████▋                         | 51 kB 8.5 MB/s eta 0:00:01\r\u001B[K     |████████                        | 61 kB 9.9 MB/s eta 0:00:01\r\u001B[K     |█████████▎                      | 71 kB 5.2 MB/s eta 0:00:01\r\u001B[K     |██████████▋                     | 81 kB 5.6 MB/s eta 0:00:01\r\u001B[K     |████████████                    | 92 kB 6.2 MB/s eta 0:00:01\r\u001B[K     |█████████████▎                  | 102 kB 6.6 MB/s eta 0:00:01\r\u001B[K     |██████████████▋                 | 112 kB 6.6 MB/s eta 0:00:01\r\u001B[K     |████████████████                | 122 kB 6.6 MB/s eta 0:00:01\r\u001B[K     |█████████████████▎              | 133 kB 6.6 MB/s eta 0:00:01\r\u001B[K     |██████████████████▋             | 143 kB 6.6 MB/s eta 0:00:01\r\u001B[K     |████████████████████            | 153 kB 6.6 MB/s eta 0:00:01\r\u001B[K     |█████████████████████▎          | 163 kB 6.6 MB/s eta 0:00:01\r\u001B[K     |██████████████████████▋         | 174 kB 6.6 MB/s eta 0:00:01\r\u001B[K     |████████████████████████        | 184 kB 6.6 MB/s eta 0:00:01\r\u001B[K     |█████████████████████████▎      | 194 kB 6.6 MB/s eta 0:00:01\r\u001B[K     |██████████████████████████▋     | 204 kB 6.6 MB/s eta 0:00:01\r\u001B[K     |████████████████████████████    | 215 kB 6.6 MB/s eta 0:00:01\r\u001B[K     |█████████████████████████████▎  | 225 kB 6.6 MB/s eta 0:00:01\r\u001B[K     |██████████████████████████████▋ | 235 kB 6.6 MB/s eta 0:00:01\r\u001B[K     |████████████████████████████████| 245 kB 6.6 MB/s eta 0:00:01\r\u001B[K     |████████████████████████████████| 246 kB 6.6 MB/s \r\n\u001B[?25hInstalling collected packages: kafka-python\r\nSuccessfully installed kafka-python-2.0.2\r\n\u001B[33mWARNING: You are using pip version 21.2.4; however, version 24.3.1 is available.\r\nYou should consider upgrading via the '/local_disk0/.ephemeral_nfs/envs/pythonEnv-28f745f0-58f9-4fd6-b29a-1e881e01fd4b/bin/python -m pip install --upgrade pip' command.\u001B[0m\r\nCollecting python-twitter\r\n  Downloading python_twitter-3.5-py2.py3-none-any.whl (67 kB)\r\n\u001B[?25l\r\u001B[K     |████▉                           | 10 kB 31.4 MB/s eta 0:00:01\r\u001B[K     |█████████▊                      | 20 kB 15.8 MB/s eta 0:00:01\r\u001B[K     |██████████████▋                 | 30 kB 9.6 MB/s eta 0:00:01\r\u001B[K     |███████████████████▌            | 40 kB 8.2 MB/s eta 0:00:01\r\u001B[K     |████████████████████████▎       | 51 kB 4.3 MB/s eta 0:00:01\r\u001B[K     |█████████████████████████████▏  | 61 kB 5.2 MB/s eta 0:00:01\r\u001B[K     |████████████████████████████████| 67 kB 3.3 MB/s \r\n\u001B[?25hCollecting requests-oauthlib\r\n  Downloading requests_oauthlib-2.0.0-py2.py3-none-any.whl (24 kB)\r\nCollecting future\r\n  Downloading future-1.0.0-py3-none-any.whl (491 kB)\r\n\u001B[?25l\r\u001B[K     |▊                               | 10 kB 42.4 MB/s eta 0:00:01\r\u001B[K     |█▍                              | 20 kB 54.7 MB/s eta 0:00:01\r\u001B[K     |██                              | 30 kB 68.3 MB/s eta 0:00:01\r\u001B[K     |██▊                             | 40 kB 59.9 MB/s eta 0:00:01\r\u001B[K     |███▍                            | 51 kB 6.0 MB/s eta 0:00:01\r\u001B[K     |████                            | 61 kB 7.1 MB/s eta 0:00:01\r\u001B[K     |████▊                           | 71 kB 7.1 MB/s eta 0:00:01\r\u001B[K     |█████▍                          | 81 kB 7.9 MB/s eta 0:00:01\r\u001B[K     |██████                          | 92 kB 8.8 MB/s eta 0:00:01\r\u001B[K     |██████▊                         | 102 kB 4.6 MB/s eta 0:00:01\r\u001B[K     |███████▍                        | 112 kB 4.6 MB/s eta 0:00:01\r\u001B[K     |████████                        | 122 kB 4.6 MB/s eta 0:00:01\r\u001B[K     |████████▊                       | 133 kB 4.6 MB/s eta 0:00:01\r\u001B[K     |█████████▍                      | 143 kB 4.6 MB/s eta 0:00:01\r\u001B[K     |██████████                      | 153 kB 4.6 MB/s eta 0:00:01\r\u001B[K     |██████████▊                     | 163 kB 4.6 MB/s eta 0:00:01\r\u001B[K     |███████████▍                    | 174 kB 4.6 MB/s eta 0:00:01\r\u001B[K     |████████████                    | 184 kB 4.6 MB/s eta 0:00:01\r\u001B[K     |████████████▊                   | 194 kB 4.6 MB/s eta 0:00:01\r\u001B[K     |█████████████▍                  | 204 kB 4.6 MB/s eta 0:00:01\r\u001B[K     |██████████████                  | 215 kB 4.6 MB/s eta 0:00:01\r\u001B[K     |██████████████▊                 | 225 kB 4.6 MB/s eta 0:00:01\r\u001B[K     |███████████████▍                | 235 kB 4.6 MB/s eta 0:00:01\r\u001B[K     |████████████████                | 245 kB 4.6 MB/s eta 0:00:01\r\u001B[K     |████████████████▊               | 256 kB 4.6 MB/s eta 0:00:01\r\u001B[K     |█████████████████▍              | 266 kB 4.6 MB/s eta 0:00:01\r\u001B[K     |██████████████████              | 276 kB 4.6 MB/s eta 0:00:01\r\u001B[K     |██████████████████▊             | 286 kB 4.6 MB/s eta 0:00:01\r\u001B[K     |███████████████████▍            | 296 kB 4.6 MB/s eta 0:00:01\r\u001B[K     |████████████████████            | 307 kB 4.6 MB/s eta 0:00:01\r\u001B[K     |████████████████████▊           | 317 kB 4.6 MB/s eta 0:00:01\r\u001B[K     |█████████████████████▍          | 327 kB 4.6 MB/s eta 0:00:01\r\u001B[K     |██████████████████████          | 337 kB 4.6 MB/s eta 0:00:01\r\u001B[K     |██████████████████████▊         | 348 kB 4.6 MB/s eta 0:00:01\r\u001B[K     |███████████████████████▍        | 358 kB 4.6 MB/s eta 0:00:01\r\u001B[K     |████████████████████████        | 368 kB 4.6 MB/s eta 0:00:01\r\u001B[K     |████████████████████████▊       | 378 kB 4.6 MB/s eta 0:00:01\r\u001B[K     |█████████████████████████▍      | 389 kB 4.6 MB/s eta 0:00:01\r\u001B[K     |██████████████████████████      | 399 kB 4.6 MB/s eta 0:00:01\r\u001B[K     |██████████████████████████▊     | 409 kB 4.6 MB/s eta 0:00:01\r\u001B[K     |███████████████████████████▍    | 419 kB 4.6 MB/s eta 0:00:01\r\u001B[K     |████████████████████████████    | 430 kB 4.6 MB/s eta 0:00:01\r\u001B[K     |████████████████████████████▊   | 440 kB 4.6 MB/s eta 0:00:01\r\u001B[K     |█████████████████████████████▍  | 450 kB 4.6 MB/s eta 0:00:01\r\u001B[K     |██████████████████████████████  | 460 kB 4.6 MB/s eta 0:00:01\r\u001B[K     |██████████████████████████████▊ | 471 kB 4.6 MB/s eta 0:00:01\r\u001B[K     |███████████████████████████████▍| 481 kB 4.6 MB/s eta 0:00:01\r\u001B[K     |████████████████████████████████| 491 kB 4.6 MB/s \r\n\u001B[?25hRequirement already satisfied: requests in /databricks/python3/lib/python3.9/site-packages (from python-twitter) (2.27.1)\r\nRequirement already satisfied: charset-normalizer~=2.0.0 in /databricks/python3/lib/python3.9/site-packages (from requests->python-twitter) (2.0.4)\r\nRequirement already satisfied: idna<4,>=2.5 in /databricks/python3/lib/python3.9/site-packages (from requests->python-twitter) (3.3)\r\nRequirement already satisfied: certifi>=2017.4.17 in /databricks/python3/lib/python3.9/site-packages (from requests->python-twitter) (2021.10.8)\r\nRequirement already satisfied: urllib3<1.27,>=1.21.1 in /databricks/python3/lib/python3.9/site-packages (from requests->python-twitter) (1.26.9)\r\nCollecting oauthlib>=3.0.0\r\n  Downloading oauthlib-3.2.2-py3-none-any.whl (151 kB)\r\n\u001B[?25l\r\u001B[K     |██▏                             | 10 kB 27.2 MB/s eta 0:00:01\r\u001B[K     |████▎                           | 20 kB 38.6 MB/s eta 0:00:01\r\u001B[K     |██████▌                         | 30 kB 50.9 MB/s eta 0:00:01\r\u001B[K     |████████▋                       | 40 kB 59.5 MB/s eta 0:00:01\r\u001B[K     |██████████▉                     | 51 kB 67.3 MB/s eta 0:00:01\r\u001B[K     |█████████████                   | 61 kB 75.4 MB/s eta 0:00:01\r\u001B[K     |███████████████▏                | 71 kB 79.7 MB/s eta 0:00:01\r\u001B[K     |█████████████████▎              | 81 kB 84.6 MB/s eta 0:00:01\r\u001B[K     |███████████████████▍            | 92 kB 89.9 MB/s eta 0:00:01\r\u001B[K     |█████████████████████▋          | 102 kB 92.9 MB/s eta 0:00:01\r\u001B[K     |███████████████████████▊        | 112 kB 92.9 MB/s eta 0:00:01\r\u001B[K     |██████████████████████████      | 122 kB 92.9 MB/s eta 0:00:01\r\u001B[K     |████████████████████████████    | 133 kB 92.9 MB/s eta 0:00:01\r\u001B[K     |██████████████████████████████▎ | 143 kB 92.9 MB/s eta 0:00:01\r\u001B[K     |████████████████████████████████| 151 kB 92.9 MB/s \r\n\u001B[?25hInstalling collected packages: oauthlib, requests-oauthlib, future, python-twitter\r\nSuccessfully installed future-1.0.0 oauthlib-3.2.2 python-twitter-3.5 requests-oauthlib-2.0.0\r\n\u001B[33mWARNING: You are using pip version 21.2.4; however, version 24.3.1 is available.\r\nYou should consider upgrading via the '/local_disk0/.ephemeral_nfs/envs/pythonEnv-28f745f0-58f9-4fd6-b29a-1e881e01fd4b/bin/python -m pip install --upgrade pip' command.\u001B[0m\r\n\u001B[31mERROR: Can not perform a '--user' install. User site-packages are not visible in this virtualenv.\u001B[0m\r\n\u001B[33mWARNING: You are using pip version 21.2.4; however, version 24.3.1 is available.\r\nYou should consider upgrading via the '/local_disk0/.ephemeral_nfs/envs/pythonEnv-28f745f0-58f9-4fd6-b29a-1e881e01fd4b/bin/python -m pip install --upgrade pip' command.\u001B[0m\r\n"
     ]
    }
   ],
   "source": [
    "!pip install kafka-python\n",
    "!pip install python-twitter\n",
    "!pip install --user tweepy"
   ]
  },
  {
   "cell_type": "code",
   "execution_count": 0,
   "metadata": {
    "application/vnd.databricks.v1+cell": {
     "cellMetadata": {
      "byteLimit": 2048000,
      "rowLimit": 10000
     },
     "inputWidgets": {},
     "nuid": "bf1ba95b-a759-4c0d-9fa2-faaedf19f9d0",
     "showTitle": false,
     "tableResultSettingsMap": {},
     "title": ""
    }
   },
   "outputs": [
    {
     "output_type": "stream",
     "name": "stdout",
     "output_type": "stream",
     "text": [
      "Collecting tweepy\r\n  Downloading tweepy-4.14.0-py3-none-any.whl (98 kB)\r\n\u001B[?25l\r\u001B[K     |███▎                            | 10 kB 30.8 MB/s eta 0:00:01\r\u001B[K     |██████▋                         | 20 kB 7.0 MB/s eta 0:00:01\r\u001B[K     |██████████                      | 30 kB 10.0 MB/s eta 0:00:01\r\u001B[K     |█████████████▎                  | 40 kB 5.0 MB/s eta 0:00:01\r\u001B[K     |████████████████▋               | 51 kB 5.2 MB/s eta 0:00:01\r\u001B[K     |████████████████████            | 61 kB 6.1 MB/s eta 0:00:01\r\u001B[K     |███████████████████████▎        | 71 kB 6.6 MB/s eta 0:00:01\r\u001B[K     |██████████████████████████▋     | 81 kB 7.5 MB/s eta 0:00:01\r\u001B[K     |██████████████████████████████  | 92 kB 2.2 MB/s eta 0:00:01\r\u001B[K     |████████████████████████████████| 98 kB 1.8 MB/s \r\n\u001B[?25hRequirement already satisfied: oauthlib<4,>=3.2.0 in /local_disk0/.ephemeral_nfs/envs/pythonEnv-28f745f0-58f9-4fd6-b29a-1e881e01fd4b/lib/python3.9/site-packages (from tweepy) (3.2.2)\r\nCollecting requests-oauthlib<2,>=1.2.0\r\n  Downloading requests_oauthlib-1.3.1-py2.py3-none-any.whl (23 kB)\r\nRequirement already satisfied: requests<3,>=2.27.0 in /databricks/python3/lib/python3.9/site-packages (from tweepy) (2.27.1)\r\nRequirement already satisfied: charset-normalizer~=2.0.0 in /databricks/python3/lib/python3.9/site-packages (from requests<3,>=2.27.0->tweepy) (2.0.4)\r\nRequirement already satisfied: idna<4,>=2.5 in /databricks/python3/lib/python3.9/site-packages (from requests<3,>=2.27.0->tweepy) (3.3)\r\nRequirement already satisfied: certifi>=2017.4.17 in /databricks/python3/lib/python3.9/site-packages (from requests<3,>=2.27.0->tweepy) (2021.10.8)\r\nRequirement already satisfied: urllib3<1.27,>=1.21.1 in /databricks/python3/lib/python3.9/site-packages (from requests<3,>=2.27.0->tweepy) (1.26.9)\r\nInstalling collected packages: requests-oauthlib, tweepy\r\n  Attempting uninstall: requests-oauthlib\r\n    Found existing installation: requests-oauthlib 2.0.0\r\n    Uninstalling requests-oauthlib-2.0.0:\r\n      Successfully uninstalled requests-oauthlib-2.0.0\r\nSuccessfully installed requests-oauthlib-1.3.1 tweepy-4.14.0\r\n\u001B[33mWARNING: You are using pip version 21.2.4; however, version 24.3.1 is available.\r\nYou should consider upgrading via the '/local_disk0/.ephemeral_nfs/envs/pythonEnv-28f745f0-58f9-4fd6-b29a-1e881e01fd4b/bin/python -m pip install --upgrade pip' command.\u001B[0m\r\n"
     ]
    }
   ],
   "source": [
    "!pip install tweepy"
   ]
  },
  {
   "cell_type": "code",
   "execution_count": 0,
   "metadata": {
    "application/vnd.databricks.v1+cell": {
     "cellMetadata": {
      "byteLimit": 2048000,
      "rowLimit": 10000
     },
     "inputWidgets": {},
     "nuid": "5b0d30f1-a7f9-4bfd-bee9-6b71da06de3b",
     "showTitle": false,
     "tableResultSettingsMap": {},
     "title": ""
    }
   },
   "outputs": [],
   "source": [
    "#Para conectarnos a twitter, se añaden las claves de acceso\n",
    "access_token = \"2896768435-CAgPFnvQn6HIAnUZr49tcT1BqLPuVNhH08pfP7f\"\n",
    "access_token_secret = \"0K5xDayKIpmBvxH4lvbPxDVHSQZFKIhOHIBnNWnWhuW8g\"\n",
    "api_key = \"2iymymMNxJzhXRbL0GU1LkZSE\"\n",
    "api_secret = \"kLFtDdjamRbxhbBOz2v4duvg8FVvKTG0jQA8abCK0zpXrRyOum\""
   ]
  },
  {
   "cell_type": "code",
   "execution_count": 0,
   "metadata": {
    "application/vnd.databricks.v1+cell": {
     "cellMetadata": {
      "byteLimit": 2048000,
      "rowLimit": 10000
     },
     "inputWidgets": {},
     "nuid": "e5b739fe-f681-4cb1-b904-b5986235886d",
     "showTitle": false,
     "tableResultSettingsMap": {},
     "title": ""
    }
   },
   "outputs": [],
   "source": [
    "#Creación de la clase\n",
    "import tweepy\n",
    "from kafka import KafkaProducer\n",
    "import json"
   ]
  },
  {
   "cell_type": "code",
   "execution_count": 0,
   "metadata": {
    "application/vnd.databricks.v1+cell": {
     "cellMetadata": {
      "byteLimit": 2048000,
      "rowLimit": 10000
     },
     "inputWidgets": {},
     "nuid": "aaf86408-79b9-420b-b739-8fa273521ff1",
     "showTitle": false,
     "tableResultSettingsMap": {},
     "title": ""
    }
   },
   "outputs": [
    {
     "output_type": "stream",
     "name": "stdout",
     "output_type": "stream",
     "text": [
      "  % Total    % Received % Xferd  Average Speed   Time    Time     Time  Current\n                                 Dload  Upload   Total   Spent    Left  Speed\n\n  0     0    0     0    0     0      0      0 --:--:-- --:--:-- --:--:--     0\n100   134  100   105  100    29    549    151 --:--:-- --:--:-- --:--:--   701\n{\"errors\":[{\"code\":99,\"message\":\"Unable to verify your credentials\",\"label\":\"authenticity_token_error\"}]}"
     ]
    }
   ],
   "source": [
    "%sh\n",
    "curl -u \"2iymymMNxJzhXRbL0GU1LkZSE:kLFtDdjamRbxhbBOz2v4duvg8FVvKTG0jQA8abCK0zpXrRyOum\" \\\n",
    "  --data 'grant_type=client_credentials' \\\n",
    "  'https://api.x.com/oauth2/token'"
   ]
  },
  {
   "cell_type": "code",
   "execution_count": 0,
   "metadata": {
    "application/vnd.databricks.v1+cell": {
     "cellMetadata": {
      "byteLimit": 2048000,
      "rowLimit": 10000
     },
     "inputWidgets": {},
     "nuid": "f20126ad-2ba9-48a3-bc34-2e072a57d145",
     "showTitle": false,
     "tableResultSettingsMap": {},
     "title": ""
    }
   },
   "outputs": [
    {
     "output_type": "stream",
     "name": "stdout",
     "output_type": "stream",
     "text": [
      "Collecting TwitterAPI\r\n  Downloading TwitterAPI-2.8.2.tar.gz (12 kB)\r\nRequirement already satisfied: requests in /databricks/python3/lib/python3.9/site-packages (from TwitterAPI) (2.27.1)\r\nRequirement already satisfied: requests_oauthlib in /local_disk0/.ephemeral_nfs/envs/pythonEnv-28f745f0-58f9-4fd6-b29a-1e881e01fd4b/lib/python3.9/site-packages (from TwitterAPI) (1.3.1)\r\nRequirement already satisfied: charset-normalizer~=2.0.0 in /databricks/python3/lib/python3.9/site-packages (from requests->TwitterAPI) (2.0.4)\r\nRequirement already satisfied: idna<4,>=2.5 in /databricks/python3/lib/python3.9/site-packages (from requests->TwitterAPI) (3.3)\r\nRequirement already satisfied: certifi>=2017.4.17 in /databricks/python3/lib/python3.9/site-packages (from requests->TwitterAPI) (2021.10.8)\r\nRequirement already satisfied: urllib3<1.27,>=1.21.1 in /databricks/python3/lib/python3.9/site-packages (from requests->TwitterAPI) (1.26.9)\r\nRequirement already satisfied: oauthlib>=3.0.0 in /local_disk0/.ephemeral_nfs/envs/pythonEnv-28f745f0-58f9-4fd6-b29a-1e881e01fd4b/lib/python3.9/site-packages (from requests_oauthlib->TwitterAPI) (3.2.2)\r\nBuilding wheels for collected packages: TwitterAPI\r\n  Building wheel for TwitterAPI (setup.py) ... \u001B[?25l-\b \b\\\b \b|\b \b/\b \b-\b \b\\\b \b|\b \b/\b \bdone\r\n\u001B[?25h  Created wheel for TwitterAPI: filename=TwitterAPI-2.8.2-py3-none-any.whl size=14896 sha256=96c6cd2dc9ba9dac3a2756a50c3a4f3b6739cd57eea96ded5f42cf10d07b188e\r\n  Stored in directory: /root/.cache/pip/wheels/1d/03/fd/b8439407e01e9754cb844c5d024fb82415d61f24109f9f0db1\r\nSuccessfully built TwitterAPI\r\nInstalling collected packages: TwitterAPI\r\nSuccessfully installed TwitterAPI-2.8.2\r\n\u001B[33mWARNING: You are using pip version 21.2.4; however, version 24.3.1 is available.\r\nYou should consider upgrading via the '/local_disk0/.ephemeral_nfs/envs/pythonEnv-28f745f0-58f9-4fd6-b29a-1e881e01fd4b/bin/python -m pip install --upgrade pip' command.\u001B[0m\r\n"
     ]
    }
   ],
   "source": [
    "!pip install TwitterAPI"
   ]
  },
  {
   "cell_type": "code",
   "execution_count": 0,
   "metadata": {
    "application/vnd.databricks.v1+cell": {
     "cellMetadata": {},
     "inputWidgets": {},
     "nuid": "6edc1afa-cb26-4871-8323-8fca09dd31ad",
     "showTitle": false,
     "tableResultSettingsMap": {},
     "title": ""
    }
   },
   "outputs": [],
   "source": [
    "access_token = \"2896768435-CAgPFnvQn6HIAnUZr49tcT1BqLPuVNhH08pfP7f\"\n",
    "access_token_secret = \"0K5xDayKIpmBvxH4lvbPxDVHSQZFKIhOHIBnNWnWhuW8g\"\n",
    "api_key = \"\"\n",
    "api_secret = \"kLFtDdjamRbxhbBOz2v4duvg8FVvKTG0jQA8abCK0zpXrRyOum\"\n",
    "\n",
    "client = tweepy.Client(consumer_key=CONSUMER_API_KEY, \n",
    "                       consumer_secret=CONSUMER_API_SECRET, \n",
    "                       access_token=TWITTER_ACCESS_TOKEN, \n",
    "                       access_token_secret=TWITTER_TOKEN_SECRET) "
   ]
  },
  {
   "cell_type": "code",
   "execution_count": 0,
   "metadata": {
    "application/vnd.databricks.v1+cell": {
     "cellMetadata": {
      "byteLimit": 2048000,
      "rowLimit": 10000
     },
     "inputWidgets": {},
     "nuid": "185f7643-5ccb-4a03-adc6-018245e25fdd",
     "showTitle": false,
     "tableResultSettingsMap": {},
     "title": ""
    }
   },
   "outputs": [
    {
     "output_type": "display_data",
     "data": {
      "text/plain": [
       "\u001B[0;31m---------------------------------------------------------------------------\u001B[0m\n",
       "\u001B[0;31mUnauthorized\u001B[0m                              Traceback (most recent call last)\n",
       "File \u001B[0;32m<command-10923988045406>:18\u001B[0m\n",
       "\u001B[1;32m     16\u001B[0m \u001B[38;5;66;03m# Topic set\u001B[39;00m\n",
       "\u001B[1;32m     17\u001B[0m query \u001B[38;5;241m=\u001B[39m \u001B[38;5;124m\"\u001B[39m\u001B[38;5;124mpython\u001B[39m\u001B[38;5;124m\"\u001B[39m  \u001B[38;5;66;03m# topic set\u001B[39;00m\n",
       "\u001B[0;32m---> 18\u001B[0m tweets \u001B[38;5;241m=\u001B[39m api\u001B[38;5;241m.\u001B[39msearch_tweets(q\u001B[38;5;241m=\u001B[39mquery, count\u001B[38;5;241m=\u001B[39m\u001B[38;5;241m10\u001B[39m)  \u001B[38;5;66;03m# Download 10 tweets\u001B[39;00m\n",
       "\u001B[1;32m     20\u001B[0m \u001B[38;5;66;03m# Showing tweets\u001B[39;00m\n",
       "\u001B[1;32m     21\u001B[0m \u001B[38;5;28;01mfor\u001B[39;00m tweet \u001B[38;5;129;01min\u001B[39;00m tweets:\n",
       "\n",
       "File \u001B[0;32m/local_disk0/.ephemeral_nfs/envs/pythonEnv-28f745f0-58f9-4fd6-b29a-1e881e01fd4b/lib/python3.9/site-packages/tweepy/api.py:33\u001B[0m, in \u001B[0;36mpagination.<locals>.decorator.<locals>.wrapper\u001B[0;34m(*args, **kwargs)\u001B[0m\n",
       "\u001B[1;32m     31\u001B[0m \u001B[38;5;129m@functools\u001B[39m\u001B[38;5;241m.\u001B[39mwraps(method)\n",
       "\u001B[1;32m     32\u001B[0m \u001B[38;5;28;01mdef\u001B[39;00m \u001B[38;5;21mwrapper\u001B[39m(\u001B[38;5;241m*\u001B[39margs, \u001B[38;5;241m*\u001B[39m\u001B[38;5;241m*\u001B[39mkwargs):\n",
       "\u001B[0;32m---> 33\u001B[0m     \u001B[38;5;28;01mreturn\u001B[39;00m \u001B[43mmethod\u001B[49m\u001B[43m(\u001B[49m\u001B[38;5;241;43m*\u001B[39;49m\u001B[43margs\u001B[49m\u001B[43m,\u001B[49m\u001B[43m \u001B[49m\u001B[38;5;241;43m*\u001B[39;49m\u001B[38;5;241;43m*\u001B[39;49m\u001B[43mkwargs\u001B[49m\u001B[43m)\u001B[49m\n",
       "\n",
       "File \u001B[0;32m/local_disk0/.ephemeral_nfs/envs/pythonEnv-28f745f0-58f9-4fd6-b29a-1e881e01fd4b/lib/python3.9/site-packages/tweepy/api.py:46\u001B[0m, in \u001B[0;36mpayload.<locals>.decorator.<locals>.wrapper\u001B[0;34m(*args, **kwargs)\u001B[0m\n",
       "\u001B[1;32m     44\u001B[0m kwargs[\u001B[38;5;124m'\u001B[39m\u001B[38;5;124mpayload_list\u001B[39m\u001B[38;5;124m'\u001B[39m] \u001B[38;5;241m=\u001B[39m payload_list\n",
       "\u001B[1;32m     45\u001B[0m kwargs[\u001B[38;5;124m'\u001B[39m\u001B[38;5;124mpayload_type\u001B[39m\u001B[38;5;124m'\u001B[39m] \u001B[38;5;241m=\u001B[39m payload_type\n",
       "\u001B[0;32m---> 46\u001B[0m \u001B[38;5;28;01mreturn\u001B[39;00m \u001B[43mmethod\u001B[49m\u001B[43m(\u001B[49m\u001B[38;5;241;43m*\u001B[39;49m\u001B[43margs\u001B[49m\u001B[43m,\u001B[49m\u001B[43m \u001B[49m\u001B[38;5;241;43m*\u001B[39;49m\u001B[38;5;241;43m*\u001B[39;49m\u001B[43mkwargs\u001B[49m\u001B[43m)\u001B[49m\n",
       "\n",
       "File \u001B[0;32m/local_disk0/.ephemeral_nfs/envs/pythonEnv-28f745f0-58f9-4fd6-b29a-1e881e01fd4b/lib/python3.9/site-packages/tweepy/api.py:1146\u001B[0m, in \u001B[0;36mAPI.search_tweets\u001B[0;34m(self, q, **kwargs)\u001B[0m\n",
       "\u001B[1;32m   1052\u001B[0m \u001B[38;5;129m@pagination\u001B[39m(mode\u001B[38;5;241m=\u001B[39m\u001B[38;5;124m'\u001B[39m\u001B[38;5;124mid\u001B[39m\u001B[38;5;124m'\u001B[39m)\n",
       "\u001B[1;32m   1053\u001B[0m \u001B[38;5;129m@payload\u001B[39m(\u001B[38;5;124m'\u001B[39m\u001B[38;5;124msearch_results\u001B[39m\u001B[38;5;124m'\u001B[39m)\n",
       "\u001B[1;32m   1054\u001B[0m \u001B[38;5;28;01mdef\u001B[39;00m \u001B[38;5;21msearch_tweets\u001B[39m(\u001B[38;5;28mself\u001B[39m, q, \u001B[38;5;241m*\u001B[39m\u001B[38;5;241m*\u001B[39mkwargs):\n",
       "\u001B[1;32m   1055\u001B[0m     \u001B[38;5;124;03m\"\"\"search_tweets(q, *, geocode, lang, locale, result_type, count, \\\u001B[39;00m\n",
       "\u001B[1;32m   1056\u001B[0m \u001B[38;5;124;03m                     until, since_id, max_id, include_entities)\u001B[39;00m\n",
       "\u001B[1;32m   1057\u001B[0m \n",
       "\u001B[0;32m   (...)\u001B[0m\n",
       "\u001B[1;32m   1144\u001B[0m \u001B[38;5;124;03m    .. _Twitter's documentation on the standard search API: https://developer.twitter.com/en/docs/twitter-api/v1/tweets/search/overview\u001B[39;00m\n",
       "\u001B[1;32m   1145\u001B[0m \u001B[38;5;124;03m    \"\"\"\u001B[39;00m\n",
       "\u001B[0;32m-> 1146\u001B[0m     \u001B[38;5;28;01mreturn\u001B[39;00m \u001B[38;5;28;43mself\u001B[39;49m\u001B[38;5;241;43m.\u001B[39;49m\u001B[43mrequest\u001B[49m\u001B[43m(\u001B[49m\n",
       "\u001B[1;32m   1147\u001B[0m \u001B[43m        \u001B[49m\u001B[38;5;124;43m'\u001B[39;49m\u001B[38;5;124;43mGET\u001B[39;49m\u001B[38;5;124;43m'\u001B[39;49m\u001B[43m,\u001B[49m\u001B[43m \u001B[49m\u001B[38;5;124;43m'\u001B[39;49m\u001B[38;5;124;43msearch/tweets\u001B[39;49m\u001B[38;5;124;43m'\u001B[39;49m\u001B[43m,\u001B[49m\u001B[43m \u001B[49m\u001B[43mendpoint_parameters\u001B[49m\u001B[38;5;241;43m=\u001B[39;49m\u001B[43m(\u001B[49m\n",
       "\u001B[1;32m   1148\u001B[0m \u001B[43m            \u001B[49m\u001B[38;5;124;43m'\u001B[39;49m\u001B[38;5;124;43mq\u001B[39;49m\u001B[38;5;124;43m'\u001B[39;49m\u001B[43m,\u001B[49m\u001B[43m \u001B[49m\u001B[38;5;124;43m'\u001B[39;49m\u001B[38;5;124;43mgeocode\u001B[39;49m\u001B[38;5;124;43m'\u001B[39;49m\u001B[43m,\u001B[49m\u001B[43m \u001B[49m\u001B[38;5;124;43m'\u001B[39;49m\u001B[38;5;124;43mlang\u001B[39;49m\u001B[38;5;124;43m'\u001B[39;49m\u001B[43m,\u001B[49m\u001B[43m \u001B[49m\u001B[38;5;124;43m'\u001B[39;49m\u001B[38;5;124;43mlocale\u001B[39;49m\u001B[38;5;124;43m'\u001B[39;49m\u001B[43m,\u001B[49m\u001B[43m \u001B[49m\u001B[38;5;124;43m'\u001B[39;49m\u001B[38;5;124;43mresult_type\u001B[39;49m\u001B[38;5;124;43m'\u001B[39;49m\u001B[43m,\u001B[49m\u001B[43m \u001B[49m\u001B[38;5;124;43m'\u001B[39;49m\u001B[38;5;124;43mcount\u001B[39;49m\u001B[38;5;124;43m'\u001B[39;49m\u001B[43m,\u001B[49m\n",
       "\u001B[1;32m   1149\u001B[0m \u001B[43m            \u001B[49m\u001B[38;5;124;43m'\u001B[39;49m\u001B[38;5;124;43muntil\u001B[39;49m\u001B[38;5;124;43m'\u001B[39;49m\u001B[43m,\u001B[49m\u001B[43m \u001B[49m\u001B[38;5;124;43m'\u001B[39;49m\u001B[38;5;124;43msince_id\u001B[39;49m\u001B[38;5;124;43m'\u001B[39;49m\u001B[43m,\u001B[49m\u001B[43m \u001B[49m\u001B[38;5;124;43m'\u001B[39;49m\u001B[38;5;124;43mmax_id\u001B[39;49m\u001B[38;5;124;43m'\u001B[39;49m\u001B[43m,\u001B[49m\u001B[43m \u001B[49m\u001B[38;5;124;43m'\u001B[39;49m\u001B[38;5;124;43minclude_entities\u001B[39;49m\u001B[38;5;124;43m'\u001B[39;49m\n",
       "\u001B[1;32m   1150\u001B[0m \u001B[43m        \u001B[49m\u001B[43m)\u001B[49m\u001B[43m,\u001B[49m\u001B[43m \u001B[49m\u001B[43mq\u001B[49m\u001B[38;5;241;43m=\u001B[39;49m\u001B[43mq\u001B[49m\u001B[43m,\u001B[49m\u001B[43m \u001B[49m\u001B[38;5;241;43m*\u001B[39;49m\u001B[38;5;241;43m*\u001B[39;49m\u001B[43mkwargs\u001B[49m\n",
       "\u001B[1;32m   1151\u001B[0m \u001B[43m    \u001B[49m\u001B[43m)\u001B[49m\n",
       "\n",
       "File \u001B[0;32m/local_disk0/.ephemeral_nfs/envs/pythonEnv-28f745f0-58f9-4fd6-b29a-1e881e01fd4b/lib/python3.9/site-packages/tweepy/api.py:269\u001B[0m, in \u001B[0;36mAPI.request\u001B[0;34m(self, method, endpoint, endpoint_parameters, params, headers, json_payload, parser, payload_list, payload_type, post_data, files, require_auth, return_cursors, upload_api, use_cache, **kwargs)\u001B[0m\n",
       "\u001B[1;32m    267\u001B[0m     \u001B[38;5;28;01mraise\u001B[39;00m BadRequest(resp)\n",
       "\u001B[1;32m    268\u001B[0m \u001B[38;5;28;01mif\u001B[39;00m resp\u001B[38;5;241m.\u001B[39mstatus_code \u001B[38;5;241m==\u001B[39m \u001B[38;5;241m401\u001B[39m:\n",
       "\u001B[0;32m--> 269\u001B[0m     \u001B[38;5;28;01mraise\u001B[39;00m Unauthorized(resp)\n",
       "\u001B[1;32m    270\u001B[0m \u001B[38;5;28;01mif\u001B[39;00m resp\u001B[38;5;241m.\u001B[39mstatus_code \u001B[38;5;241m==\u001B[39m \u001B[38;5;241m403\u001B[39m:\n",
       "\u001B[1;32m    271\u001B[0m     \u001B[38;5;28;01mraise\u001B[39;00m Forbidden(resp)\n",
       "\n",
       "\u001B[0;31mUnauthorized\u001B[0m: 401 Unauthorized\n",
       "32 - Could not authenticate you."
      ]
     },
     "metadata": {
      "application/vnd.databricks.v1+output": {
       "arguments": {},
       "data": "\u001B[0;31m---------------------------------------------------------------------------\u001B[0m\n\u001B[0;31mUnauthorized\u001B[0m                              Traceback (most recent call last)\nFile \u001B[0;32m<command-10923988045406>:18\u001B[0m\n\u001B[1;32m     16\u001B[0m \u001B[38;5;66;03m# Topic set\u001B[39;00m\n\u001B[1;32m     17\u001B[0m query \u001B[38;5;241m=\u001B[39m \u001B[38;5;124m\"\u001B[39m\u001B[38;5;124mpython\u001B[39m\u001B[38;5;124m\"\u001B[39m  \u001B[38;5;66;03m# topic set\u001B[39;00m\n\u001B[0;32m---> 18\u001B[0m tweets \u001B[38;5;241m=\u001B[39m api\u001B[38;5;241m.\u001B[39msearch_tweets(q\u001B[38;5;241m=\u001B[39mquery, count\u001B[38;5;241m=\u001B[39m\u001B[38;5;241m10\u001B[39m)  \u001B[38;5;66;03m# Download 10 tweets\u001B[39;00m\n\u001B[1;32m     20\u001B[0m \u001B[38;5;66;03m# Showing tweets\u001B[39;00m\n\u001B[1;32m     21\u001B[0m \u001B[38;5;28;01mfor\u001B[39;00m tweet \u001B[38;5;129;01min\u001B[39;00m tweets:\n\nFile \u001B[0;32m/local_disk0/.ephemeral_nfs/envs/pythonEnv-28f745f0-58f9-4fd6-b29a-1e881e01fd4b/lib/python3.9/site-packages/tweepy/api.py:33\u001B[0m, in \u001B[0;36mpagination.<locals>.decorator.<locals>.wrapper\u001B[0;34m(*args, **kwargs)\u001B[0m\n\u001B[1;32m     31\u001B[0m \u001B[38;5;129m@functools\u001B[39m\u001B[38;5;241m.\u001B[39mwraps(method)\n\u001B[1;32m     32\u001B[0m \u001B[38;5;28;01mdef\u001B[39;00m \u001B[38;5;21mwrapper\u001B[39m(\u001B[38;5;241m*\u001B[39margs, \u001B[38;5;241m*\u001B[39m\u001B[38;5;241m*\u001B[39mkwargs):\n\u001B[0;32m---> 33\u001B[0m     \u001B[38;5;28;01mreturn\u001B[39;00m \u001B[43mmethod\u001B[49m\u001B[43m(\u001B[49m\u001B[38;5;241;43m*\u001B[39;49m\u001B[43margs\u001B[49m\u001B[43m,\u001B[49m\u001B[43m \u001B[49m\u001B[38;5;241;43m*\u001B[39;49m\u001B[38;5;241;43m*\u001B[39;49m\u001B[43mkwargs\u001B[49m\u001B[43m)\u001B[49m\n\nFile \u001B[0;32m/local_disk0/.ephemeral_nfs/envs/pythonEnv-28f745f0-58f9-4fd6-b29a-1e881e01fd4b/lib/python3.9/site-packages/tweepy/api.py:46\u001B[0m, in \u001B[0;36mpayload.<locals>.decorator.<locals>.wrapper\u001B[0;34m(*args, **kwargs)\u001B[0m\n\u001B[1;32m     44\u001B[0m kwargs[\u001B[38;5;124m'\u001B[39m\u001B[38;5;124mpayload_list\u001B[39m\u001B[38;5;124m'\u001B[39m] \u001B[38;5;241m=\u001B[39m payload_list\n\u001B[1;32m     45\u001B[0m kwargs[\u001B[38;5;124m'\u001B[39m\u001B[38;5;124mpayload_type\u001B[39m\u001B[38;5;124m'\u001B[39m] \u001B[38;5;241m=\u001B[39m payload_type\n\u001B[0;32m---> 46\u001B[0m \u001B[38;5;28;01mreturn\u001B[39;00m \u001B[43mmethod\u001B[49m\u001B[43m(\u001B[49m\u001B[38;5;241;43m*\u001B[39;49m\u001B[43margs\u001B[49m\u001B[43m,\u001B[49m\u001B[43m \u001B[49m\u001B[38;5;241;43m*\u001B[39;49m\u001B[38;5;241;43m*\u001B[39;49m\u001B[43mkwargs\u001B[49m\u001B[43m)\u001B[49m\n\nFile \u001B[0;32m/local_disk0/.ephemeral_nfs/envs/pythonEnv-28f745f0-58f9-4fd6-b29a-1e881e01fd4b/lib/python3.9/site-packages/tweepy/api.py:1146\u001B[0m, in \u001B[0;36mAPI.search_tweets\u001B[0;34m(self, q, **kwargs)\u001B[0m\n\u001B[1;32m   1052\u001B[0m \u001B[38;5;129m@pagination\u001B[39m(mode\u001B[38;5;241m=\u001B[39m\u001B[38;5;124m'\u001B[39m\u001B[38;5;124mid\u001B[39m\u001B[38;5;124m'\u001B[39m)\n\u001B[1;32m   1053\u001B[0m \u001B[38;5;129m@payload\u001B[39m(\u001B[38;5;124m'\u001B[39m\u001B[38;5;124msearch_results\u001B[39m\u001B[38;5;124m'\u001B[39m)\n\u001B[1;32m   1054\u001B[0m \u001B[38;5;28;01mdef\u001B[39;00m \u001B[38;5;21msearch_tweets\u001B[39m(\u001B[38;5;28mself\u001B[39m, q, \u001B[38;5;241m*\u001B[39m\u001B[38;5;241m*\u001B[39mkwargs):\n\u001B[1;32m   1055\u001B[0m     \u001B[38;5;124;03m\"\"\"search_tweets(q, *, geocode, lang, locale, result_type, count, \\\u001B[39;00m\n\u001B[1;32m   1056\u001B[0m \u001B[38;5;124;03m                     until, since_id, max_id, include_entities)\u001B[39;00m\n\u001B[1;32m   1057\u001B[0m \n\u001B[0;32m   (...)\u001B[0m\n\u001B[1;32m   1144\u001B[0m \u001B[38;5;124;03m    .. _Twitter's documentation on the standard search API: https://developer.twitter.com/en/docs/twitter-api/v1/tweets/search/overview\u001B[39;00m\n\u001B[1;32m   1145\u001B[0m \u001B[38;5;124;03m    \"\"\"\u001B[39;00m\n\u001B[0;32m-> 1146\u001B[0m     \u001B[38;5;28;01mreturn\u001B[39;00m \u001B[38;5;28;43mself\u001B[39;49m\u001B[38;5;241;43m.\u001B[39;49m\u001B[43mrequest\u001B[49m\u001B[43m(\u001B[49m\n\u001B[1;32m   1147\u001B[0m \u001B[43m        \u001B[49m\u001B[38;5;124;43m'\u001B[39;49m\u001B[38;5;124;43mGET\u001B[39;49m\u001B[38;5;124;43m'\u001B[39;49m\u001B[43m,\u001B[49m\u001B[43m \u001B[49m\u001B[38;5;124;43m'\u001B[39;49m\u001B[38;5;124;43msearch/tweets\u001B[39;49m\u001B[38;5;124;43m'\u001B[39;49m\u001B[43m,\u001B[49m\u001B[43m \u001B[49m\u001B[43mendpoint_parameters\u001B[49m\u001B[38;5;241;43m=\u001B[39;49m\u001B[43m(\u001B[49m\n\u001B[1;32m   1148\u001B[0m \u001B[43m            \u001B[49m\u001B[38;5;124;43m'\u001B[39;49m\u001B[38;5;124;43mq\u001B[39;49m\u001B[38;5;124;43m'\u001B[39;49m\u001B[43m,\u001B[49m\u001B[43m \u001B[49m\u001B[38;5;124;43m'\u001B[39;49m\u001B[38;5;124;43mgeocode\u001B[39;49m\u001B[38;5;124;43m'\u001B[39;49m\u001B[43m,\u001B[49m\u001B[43m \u001B[49m\u001B[38;5;124;43m'\u001B[39;49m\u001B[38;5;124;43mlang\u001B[39;49m\u001B[38;5;124;43m'\u001B[39;49m\u001B[43m,\u001B[49m\u001B[43m \u001B[49m\u001B[38;5;124;43m'\u001B[39;49m\u001B[38;5;124;43mlocale\u001B[39;49m\u001B[38;5;124;43m'\u001B[39;49m\u001B[43m,\u001B[49m\u001B[43m \u001B[49m\u001B[38;5;124;43m'\u001B[39;49m\u001B[38;5;124;43mresult_type\u001B[39;49m\u001B[38;5;124;43m'\u001B[39;49m\u001B[43m,\u001B[49m\u001B[43m \u001B[49m\u001B[38;5;124;43m'\u001B[39;49m\u001B[38;5;124;43mcount\u001B[39;49m\u001B[38;5;124;43m'\u001B[39;49m\u001B[43m,\u001B[49m\n\u001B[1;32m   1149\u001B[0m \u001B[43m            \u001B[49m\u001B[38;5;124;43m'\u001B[39;49m\u001B[38;5;124;43muntil\u001B[39;49m\u001B[38;5;124;43m'\u001B[39;49m\u001B[43m,\u001B[49m\u001B[43m \u001B[49m\u001B[38;5;124;43m'\u001B[39;49m\u001B[38;5;124;43msince_id\u001B[39;49m\u001B[38;5;124;43m'\u001B[39;49m\u001B[43m,\u001B[49m\u001B[43m \u001B[49m\u001B[38;5;124;43m'\u001B[39;49m\u001B[38;5;124;43mmax_id\u001B[39;49m\u001B[38;5;124;43m'\u001B[39;49m\u001B[43m,\u001B[49m\u001B[43m \u001B[49m\u001B[38;5;124;43m'\u001B[39;49m\u001B[38;5;124;43minclude_entities\u001B[39;49m\u001B[38;5;124;43m'\u001B[39;49m\n\u001B[1;32m   1150\u001B[0m \u001B[43m        \u001B[49m\u001B[43m)\u001B[49m\u001B[43m,\u001B[49m\u001B[43m \u001B[49m\u001B[43mq\u001B[49m\u001B[38;5;241;43m=\u001B[39;49m\u001B[43mq\u001B[49m\u001B[43m,\u001B[49m\u001B[43m \u001B[49m\u001B[38;5;241;43m*\u001B[39;49m\u001B[38;5;241;43m*\u001B[39;49m\u001B[43mkwargs\u001B[49m\n\u001B[1;32m   1151\u001B[0m \u001B[43m    \u001B[49m\u001B[43m)\u001B[49m\n\nFile \u001B[0;32m/local_disk0/.ephemeral_nfs/envs/pythonEnv-28f745f0-58f9-4fd6-b29a-1e881e01fd4b/lib/python3.9/site-packages/tweepy/api.py:269\u001B[0m, in \u001B[0;36mAPI.request\u001B[0;34m(self, method, endpoint, endpoint_parameters, params, headers, json_payload, parser, payload_list, payload_type, post_data, files, require_auth, return_cursors, upload_api, use_cache, **kwargs)\u001B[0m\n\u001B[1;32m    267\u001B[0m     \u001B[38;5;28;01mraise\u001B[39;00m BadRequest(resp)\n\u001B[1;32m    268\u001B[0m \u001B[38;5;28;01mif\u001B[39;00m resp\u001B[38;5;241m.\u001B[39mstatus_code \u001B[38;5;241m==\u001B[39m \u001B[38;5;241m401\u001B[39m:\n\u001B[0;32m--> 269\u001B[0m     \u001B[38;5;28;01mraise\u001B[39;00m Unauthorized(resp)\n\u001B[1;32m    270\u001B[0m \u001B[38;5;28;01mif\u001B[39;00m resp\u001B[38;5;241m.\u001B[39mstatus_code \u001B[38;5;241m==\u001B[39m \u001B[38;5;241m403\u001B[39m:\n\u001B[1;32m    271\u001B[0m     \u001B[38;5;28;01mraise\u001B[39;00m Forbidden(resp)\n\n\u001B[0;31mUnauthorized\u001B[0m: 401 Unauthorized\n32 - Could not authenticate you.",
       "errorSummary": "<span class='ansi-red-fg'>Unauthorized</span>: 401 Unauthorized\n32 - Could not authenticate you.",
       "errorTraceType": "ansi",
       "metadata": {},
       "type": "ipynbError"
      }
     },
     "output_type": "display_data"
    }
   ],
   "source": [
    "import tweepy\n",
    "\n",
    "# API keys\n",
    "access_token = '2896768435-CAgPFnvQn6HIAnUZr49tcT1BqLPuVNhH08pfP7f'\n",
    "access_token_secret = '0K5xDayKIpmBvxH4lvbPxDVHSQZFKIhOHIBnNWnWhuW8g'\n",
    "consumer_key = '2iymymMNxJzhXRbL0GU1LkZSE'\n",
    "consumer_secret = 'kLFtDdjamRbxhbBOz2v4duvg8FVvKTG0jQA8abCK0zpXrRyOum'\n",
    "\n",
    "# Auth set\n",
    "auth = tweepy.OAuthHandler(consumer_key, consumer_secret)\n",
    "auth.set_access_token(access_token, access_token_secret)\n",
    "\n",
    "# Obj creation\n",
    "api = tweepy.API(auth)\n",
    "\n",
    "# Topic set\n",
    "query = \"python\"  # topic set\n",
    "tweets = api.search_tweets(q=query, count=10)  # Download 10 tweets\n",
    "\n",
    "# Showing tweets\n",
    "for tweet in tweets:\n",
    "    print(f\"{tweet.user.screen_name}: {tweet.text}\")"
   ]
  },
  {
   "cell_type": "code",
   "execution_count": 0,
   "metadata": {
    "application/vnd.databricks.v1+cell": {
     "cellMetadata": {
      "byteLimit": 2048000,
      "rowLimit": 10000
     },
     "inputWidgets": {},
     "nuid": "fa9dfab4-36d2-4517-9341-4de062162f15",
     "showTitle": false,
     "tableResultSettingsMap": {},
     "title": ""
    }
   },
   "outputs": [
    {
     "output_type": "display_data",
     "data": {
      "text/plain": [
       ""
      ]
     },
     "metadata": {
      "application/vnd.databricks.v1+output": {
       "arguments": {},
       "data": "",
       "errorSummary": "Command skipped",
       "errorTraceType": "ansi",
       "metadata": {},
       "type": "ipynbError"
      }
     },
     "output_type": "display_data"
    }
   ],
   "source": [
    "----------------------------"
   ]
  },
  {
   "cell_type": "code",
   "execution_count": 0,
   "metadata": {
    "application/vnd.databricks.v1+cell": {
     "cellMetadata": {
      "byteLimit": 2048000,
      "rowLimit": 10000
     },
     "inputWidgets": {},
     "nuid": "9eeb6f12-5f4b-4e0a-8d71-589fb1a0720f",
     "showTitle": false,
     "tableResultSettingsMap": {},
     "title": ""
    }
   },
   "outputs": [
    {
     "output_type": "display_data",
     "data": {
      "text/plain": [
       ""
      ]
     },
     "metadata": {
      "application/vnd.databricks.v1+output": {
       "arguments": {},
       "data": "",
       "errorSummary": "Command skipped",
       "errorTraceType": "ansi",
       "metadata": {},
       "type": "ipynbError"
      }
     },
     "output_type": "display_data"
    }
   ],
   "source": [
    "access_token = '2896768435-CAgPFnvQn6HIAnUZr49tcT1BqLPuVNhH08pfP7f'\n",
    "access_token_secret = '0K5xDayKIpmBvxH4lvbPxDVHSQZFKIhOHIBnNWnWhuW8g'\n",
    "consumer_key = '2iymymMNxJzhXRbL0GU1LkZSE'\n",
    "consumer_secret = 'kLFtDdjamRbxhbBOz2v4duvg8FVvKTG0jQA8abCK0zpXrRyOum'"
   ]
  },
  {
   "cell_type": "code",
   "execution_count": 0,
   "metadata": {
    "application/vnd.databricks.v1+cell": {
     "cellMetadata": {
      "byteLimit": 2048000,
      "rowLimit": 10000
     },
     "inputWidgets": {},
     "nuid": "7fecab6f-7173-4a95-bc02-0946572d89f3",
     "showTitle": false,
     "tableResultSettingsMap": {},
     "title": ""
    }
   },
   "outputs": [
    {
     "output_type": "display_data",
     "data": {
      "text/plain": [
       ""
      ]
     },
     "metadata": {
      "application/vnd.databricks.v1+output": {
       "arguments": {},
       "data": "",
       "errorSummary": "Command skipped",
       "errorTraceType": "ansi",
       "metadata": {},
       "type": "ipynbError"
      }
     },
     "output_type": "display_data"
    }
   ],
   "source": [
    "from TwitterAPI import TwitterAPI\n",
    "api = TwitterAPI(consumer_key,\n",
    "                 consumer_secret, access_token, access_token_secret)\n",
    "r = api.request('search/tweets', {'q':'pizza'})\n",
    "for item in r:\n",
    "        print(item)"
   ]
  },
  {
   "cell_type": "code",
   "execution_count": 0,
   "metadata": {
    "application/vnd.databricks.v1+cell": {
     "cellMetadata": {
      "byteLimit": 2048000,
      "rowLimit": 10000
     },
     "inputWidgets": {},
     "nuid": "e6db135f-87e0-44d2-ad51-8e30bbd40e45",
     "showTitle": false,
     "tableResultSettingsMap": {},
     "title": ""
    }
   },
   "outputs": [
    {
     "output_type": "display_data",
     "data": {
      "text/plain": [
       ""
      ]
     },
     "metadata": {
      "application/vnd.databricks.v1+output": {
       "arguments": {},
       "data": "",
       "errorSummary": "Command skipped",
       "errorTraceType": "ansi",
       "metadata": {},
       "type": "ipynbError"
      }
     },
     "output_type": "display_data"
    }
   ],
   "source": [
    "import tweepy\n",
    "import pandas as pd\n",
    "\n",
    "access_token = \"2896768435-CAgPFnvQn6HIAnUZr49tcT1BqLPuVNhH08pfP7f\"\n",
    "access_token_secret = \"0K5xDayKIpmBvxH4lvbPxDVHSQZFKIhOHIBnNWnWhuW8g\"\n",
    "consumer_key = \"2iymymMNxJzhXRbL0GU1LkZSE\"\n",
    "consumer_secret = \"kLFtDdjamRbxhbBOz2v4duvg8FVvKTG0jQA8abCK0zpXrRyOum\"\n",
    "\n",
    "#Pass in our twitter API authentication key\n",
    "auth = tweepy.OAuth1UserHandler(consumer_key, consumer_secret,\n",
    "                                access_token, access_token_secret)\n",
    "\n",
    "#Instantiate the tweepy API\n",
    "api = tweepy.API(auth, wait_on_rate_limit=True)\n",
    "\n",
    "search_query = \"'ref''world cup'-filter:retweets AND -filter:replies AND -filter:links\"\n",
    "no_of_tweets = 100\n",
    "\n",
    "try:\n",
    "    #The number of tweets we want to retrieved from the search\n",
    "    tweets = api.search_tweets(q=search_query, lang=\"en\", count=no_of_tweets, tweet_mode ='extended')\n",
    "    \n",
    "    #Pulling Some attributes from the tweet\n",
    "    attributes_container = [[tweet.user.name, tweet.created_at, tweet.favorite_count, tweet.source, tweet.full_text] for tweet in tweets]\n",
    "\n",
    "    #Creation of column list to rename the columns in the dataframe\n",
    "    columns = [\"User\", \"Date Created\", \"Number of Likes\", \"Source of Tweet\", \"Tweet\"]\n",
    "    \n",
    "    #Creation of Dataframe\n",
    "    tweets_df = pd.DataFrame(attributes_container, columns=columns)\n",
    "except BaseException as e:\n",
    "    print('Status Failed On,',str(e))"
   ]
  },
  {
   "cell_type": "code",
   "execution_count": 0,
   "metadata": {
    "application/vnd.databricks.v1+cell": {
     "cellMetadata": {
      "byteLimit": 2048000,
      "rowLimit": 10000
     },
     "inputWidgets": {},
     "nuid": "261ed78b-6169-441d-b736-c53dd43e1933",
     "showTitle": false,
     "tableResultSettingsMap": {},
     "title": ""
    }
   },
   "outputs": [
    {
     "output_type": "display_data",
     "data": {
      "text/plain": [
       ""
      ]
     },
     "metadata": {
      "application/vnd.databricks.v1+output": {
       "arguments": {},
       "data": "",
       "errorSummary": "Command skipped",
       "errorTraceType": "ansi",
       "metadata": {},
       "type": "ipynbError"
      }
     },
     "output_type": "display_data"
    }
   ],
   "source": [
    "import tweepy\n",
    "\n",
    "# Set up authentication\n",
    "access_token = \"2896768435-CAgPFnvQn6HIAnUZr49tcT1BqLPuVNhH08pfP7f\"\n",
    "access_token_secret = \"0K5xDayKIpmBvxH4lvbPxDVHSQZFKIhOHIBnNWnWhuW8g\"\n",
    "consumer_key = \"2iymymMNxJzhXRbL0GU1LkZSE\"\n",
    "consumer_secret = \"kLFtDdjamRbxhbBOz2v4duvg8FVvKTG0jQA8abCK0zpXrRyOum\"\n",
    "\n",
    "auth = tweepy.OAuthHandler(consumer_key, consumer_secret)\n",
    "auth.set_access_token(access_token, access_token_secret)\n",
    "\n",
    "# Create API object\n",
    "api = tweepy.API(auth)\n",
    "\n",
    "# Define search query and number of tweets\n",
    "query = 'python'\n",
    "num_tweets = 100\n",
    "\n",
    "# Extract tweets\n",
    "tweets = tweepy.Cursor(api.search_tweets, q=query).items(num_tweets)\n",
    "\n",
    "# Print tweets\n",
    "for tweet in tweets:\n",
    "    print(tweet.text)"
   ]
  },
  {
   "cell_type": "code",
   "execution_count": 0,
   "metadata": {
    "application/vnd.databricks.v1+cell": {
     "cellMetadata": {
      "byteLimit": 2048000,
      "rowLimit": 10000
     },
     "inputWidgets": {},
     "nuid": "8dcb44e8-ffe4-4fdb-9fb4-005006b58b3c",
     "showTitle": false,
     "tableResultSettingsMap": {},
     "title": ""
    }
   },
   "outputs": [
    {
     "output_type": "display_data",
     "data": {
      "text/plain": [
       ""
      ]
     },
     "metadata": {
      "application/vnd.databricks.v1+output": {
       "arguments": {},
       "data": "",
       "errorSummary": "Command skipped",
       "errorTraceType": "ansi",
       "metadata": {},
       "type": "ipynbError"
      }
     },
     "output_type": "display_data"
    }
   ],
   "source": [
    "import tweepy\n",
    "# Define a class inheriting from StreamingClient to handle the incoming stream of tweets\n",
    "class MyListener(tweepy.StreamingClient): \n",
    "    def on_tweet(self, tweet): # Use on_tweet to process incoming tweets\n",
    "        print(tweet.text)\n",
    "\n",
    "# Authenticate to the Twitter API using your credentials (replace placeholders with your actual keys)\n",
    "#producer = KafkaProducer(bootstrap_servers='localhost:9092')\n",
    "bearer_token = \"AAAAAAAAAAAAAAAAAAAAACs6wQEAAAAA6d7eRr%2B9UtoD5UgFPHUPIDg4p%2Bw%3DeH6TaXyn1Bm8PPs0Swzr53bD3T1zxla2CXKajRfvQOUf4vTwl5\"\n",
    "twitter_stream = MyListener(bearer_token)\n",
    "twitter_stream.filter(track=['#ucrania'])\n"
   ]
  },
  {
   "cell_type": "code",
   "execution_count": 0,
   "metadata": {
    "application/vnd.databricks.v1+cell": {
     "cellMetadata": {
      "byteLimit": 2048000,
      "rowLimit": 10000
     },
     "inputWidgets": {},
     "nuid": "434113a8-c9e9-4262-afd6-7333fc20334c",
     "showTitle": false,
     "tableResultSettingsMap": {},
     "title": ""
    }
   },
   "outputs": [
    {
     "output_type": "display_data",
     "data": {
      "text/plain": [
       ""
      ]
     },
     "metadata": {
      "application/vnd.databricks.v1+output": {
       "arguments": {},
       "data": "",
       "errorSummary": "Command skipped",
       "errorTraceType": "ansi",
       "metadata": {},
       "type": "ipynbError"
      }
     },
     "output_type": "display_data"
    }
   ],
   "source": [
    "class MyListener(tweepy.Stream):\n",
    "    def on_data(self, data):\n",
    "        try:\n",
    "            with open('python.json', 'a') as f:\n",
    "                #f.write(data)\n",
    "                json_ = json.loads(data)\n",
    "                print(json_['text'].encode('utf-8'))\n",
    "                producer.send(\"test\", json_[\"text\"].encode('utf-8'))\n",
    "                return True\n",
    "        except BaseException as e:\n",
    "            print(\"Error on_data: %s\" % str(e))\n",
    "        return True\n",
    " \n",
    "    def on_error(self, status):\n",
    "        print(status)\n",
    "        return True\n",
    "\n",
    "producer = KafkaProducer(bootstrap_servers='localhost:9092')\n",
    "twitter_stream = MyListener(api_key, api_secret,access_token, access_token_secret)\n",
    "twitter_stream.filter(track=['#ucrania'])"
   ]
  }
 ],
 "metadata": {
  "application/vnd.databricks.v1+notebook": {
   "dashboards": [],
   "environmentMetadata": null,
   "language": "python",
   "notebookMetadata": {
    "mostRecentlyExecutedCommandWithImplicitDF": {
     "commandId": 480967230790670,
     "dataframes": [
      "_sqldf"
     ]
    },
    "pythonIndentUnit": 4
   },
   "notebookName": "4e_kafka_step4_microservicio_Twitter",
   "widgets": {}
  }
 },
 "nbformat": 4,
 "nbformat_minor": 0
}
