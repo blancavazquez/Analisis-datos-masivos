{
 "cells": [
  {
   "cell_type": "markdown",
   "metadata": {
    "application/vnd.databricks.v1+cell": {
     "cellMetadata": {
      "byteLimit": 2048000,
      "rowLimit": 10000
     },
     "inputWidgets": {},
     "nuid": "e343ed23-5fee-4d3f-8fb2-ffa9ce53e3e2",
     "showTitle": false,
     "title": ""
    },
    "id": "uFg6o5crvGxv"
   },
   "source": [
    "# Algoritmo de Alon-Matias-Szegedy\n",
    "En esta libreta programaremos el algoritmo de Alon-Matias-Szegedy (AMS) para estimar momentos en un flujo de datos.\n",
    "\n",
    "Dado un flujo de tamaño $n$ constante, se definen \\\\( K \\\\) variables \\\\( X_1, X_2, \\ldots, X_K \\\\) usando posiciones del flujo elegidas de forma aleatoria y uniforme. Estas variables almacenan un elemento \\\\( X_k.elemento \\\\) y un valor entero \\\\( X_k.valor \\\\), el cual se inicializa con 1 y se incrementa en 1 cada vez que se encuentra una ocurrencia de \\\\( X_k.elemento \\\\).\n",
    " \n",
    "De esta forma, es posible estimar el \\\\( i \\\\)-ésimo momento a partir de una variable \\\\( X_k \\\\) calculando\n",
    "\n",
    "$$\n",
    "n \\cdot (X_k.valor^{i} - (X_k.valor - 1)^{i})\n",
    "$$"
   ]
  },
  {
   "cell_type": "code",
   "execution_count": 0,
   "metadata": {
    "application/vnd.databricks.v1+cell": {
     "cellMetadata": {
      "byteLimit": 2048000,
      "rowLimit": 10000
     },
     "inputWidgets": {},
     "nuid": "195b0640-5faa-4d1b-924d-c523a16fb912",
     "showTitle": false,
     "title": ""
    },
    "id": "dOGuD7z-T1cG"
   },
   "outputs": [],
   "source": [
    "from collections import Counter\n",
    "import numpy as np\n",
    "np.random.seed(2021) # para reproducibilidad\n",
    "\n",
    "n_variables = 50 #número de muestras para estimar los momentos"
   ]
  },
  {
   "cell_type": "markdown",
   "metadata": {
    "application/vnd.databricks.v1+cell": {
     "cellMetadata": {
      "byteLimit": 2048000,
      "rowLimit": 10000
     },
     "inputWidgets": {},
     "nuid": "ed84d3ee-fa33-4ed9-96d0-26f132aab4c0",
     "showTitle": false,
     "title": ""
    },
    "id": "JeQsh9eTMY__"
   },
   "source": [
    "Definimos la clase para el algoritmo AMS"
   ]
  },
  {
   "cell_type": "code",
   "execution_count": 0,
   "metadata": {
    "application/vnd.databricks.v1+cell": {
     "cellMetadata": {
      "byteLimit": 2048000,
      "rowLimit": 10000
     },
     "inputWidgets": {},
     "nuid": "a66bb5f4-3de5-4bef-b69b-75acad3378c0",
     "showTitle": false,
     "title": ""
    },
    "id": "A5R50JK8NE4A"
   },
   "outputs": [],
   "source": [
    "class AMS:  \n",
    "  def __init__(self, n_variables=10):\n",
    "    self.n_variables = n_variables\n",
    "\n",
    "  def estima_momento(self, i):\n",
    "    return np.mean(self.n * (self.valores**i - (self.valores - 1)**i)) #fórmula (esto produce un vector de k estimaciones distintas y se calcula el promedio)\n",
    "\n",
    "  def calcula_cuentas(self, x):\n",
    "    self.n = x.shape[0] #calculando cuántos elementos tiene el flujo\n",
    "    self.ind = np.random.randint(0, self.n - 1, size=self.n_variables) #posiciones de forma aleatoria\n",
    "    self.elementos = x[self.ind] #toma los elementos de esas posiciones\n",
    "    self.valores = np.zeros_like(self.elementos) #inicializamos los valores\n",
    "    for i,ind in enumerate(self.ind): #recorremos todos los índices \n",
    "      for j in range(ind, self.n): #recorremos cada una de las posiciones seleccionadas hasta el fin del flujo\n",
    "        if self.elementos[i] == x[j]: #si encuentra el elemento\n",
    "          self.valores[i] += 1 #incrementa el valor a 1"
   ]
  },
  {
   "cell_type": "markdown",
   "metadata": {
    "application/vnd.databricks.v1+cell": {
     "cellMetadata": {
      "byteLimit": 2048000,
      "rowLimit": 10000
     },
     "inputWidgets": {},
     "nuid": "6ed757d2-0a08-4ebc-8d7b-6f589ed10a67",
     "showTitle": false,
     "title": ""
    },
    "id": "Z11yDwqRMfjB"
   },
   "source": [
    "El momento $i$-ésimo está definido por\n",
    "$$\n",
    "\\sum_{e\\in \\mathbb{U}} (m_e)^i\n",
    "$$\n",
    "\n",
    "donde $m_e$ es el número de veces que ocurre el elemento $e$ en el flujo y $\\mathbb{U}$ es el conjunto universal."
   ]
  },
  {
   "cell_type": "code",
   "execution_count": 0,
   "metadata": {
    "application/vnd.databricks.v1+cell": {
     "cellMetadata": {
      "byteLimit": 2048000,
      "rowLimit": 10000
     },
     "inputWidgets": {},
     "nuid": "d92eb93f-94c7-4f0d-af90-9197c797496c",
     "showTitle": false,
     "title": ""
    },
    "id": "PKZ_vTovPLiX"
   },
   "outputs": [],
   "source": [
    "#Función para calcular el momento\n",
    "momento = lambda m, i: np.sum(m**i) "
   ]
  },
  {
   "cell_type": "markdown",
   "metadata": {
    "application/vnd.databricks.v1+cell": {
     "cellMetadata": {
      "byteLimit": 2048000,
      "rowLimit": 10000
     },
     "inputWidgets": {},
     "nuid": "b70c6ca5-d810-4a79-a570-fb77b5c50da6",
     "showTitle": false,
     "title": ""
    },
    "id": "dj4oMQFmNUaT"
   },
   "source": [
    "Generamos un flujo de números enteros aleatorios."
   ]
  },
  {
   "cell_type": "code",
   "execution_count": 0,
   "metadata": {
    "application/vnd.databricks.v1+cell": {
     "cellMetadata": {
      "byteLimit": 2048000,
      "rowLimit": 10000
     },
     "inputWidgets": {},
     "nuid": "b6437fdc-c906-44fe-bfd4-c6cf40efc900",
     "showTitle": false,
     "title": ""
    },
    "colab": {
     "base_uri": "https://localhost:8080/"
    },
    "id": "iv5Cy8YnPTpT",
    "outputId": "1c3a225a-2f7d-498f-ef00-cd48cafa6de3"
   },
   "outputs": [
    {
     "output_type": "stream",
     "name": "stdout",
     "output_type": "stream",
     "text": [
      "Out[4]: array([4, 5, 9, 0, 6, 5, 8, 6, 6, 6, 6, 1, 5, 7, 1, 1, 5, 2, 0, 3, 1, 0,\n       2, 6, 4, 8, 5, 1, 6, 7, 5, 6, 9, 5, 6, 9, 2, 4, 3, 9, 2, 8, 5, 3,\n       1, 1, 9, 2, 7, 5, 3, 7, 3, 9, 4, 9, 7, 9, 7, 7, 4, 3, 2, 9, 2, 5,\n       2, 0, 4, 7, 3, 1, 9, 4, 2, 3, 6, 6, 6, 1, 5, 7, 1, 9, 5, 0, 0, 4,\n       9, 7, 3, 4, 7, 0, 3, 9, 6, 9, 3, 9])"
     ]
    }
   ],
   "source": [
    "x_min = 0 \n",
    "x_max = 10\n",
    "n = 100 #tamaño del flujo\n",
    "flujo = np.random.randint(x_min, x_max, size=n)\n",
    "flujo"
   ]
  },
  {
   "cell_type": "code",
   "execution_count": 0,
   "metadata": {
    "application/vnd.databricks.v1+cell": {
     "cellMetadata": {
      "byteLimit": 2048000,
      "rowLimit": 10000
     },
     "inputWidgets": {},
     "nuid": "87d9e122-d104-401f-a633-2650128badbb",
     "showTitle": false,
     "title": ""
    },
    "colab": {
     "base_uri": "https://localhost:8080/"
    },
    "id": "Ru7-jslJ3KhP",
    "outputId": "1758e56f-dba0-4817-c98d-53802ad1fcc4"
   },
   "outputs": [
    {
     "output_type": "stream",
     "name": "stdout",
     "output_type": "stream",
     "text": [
      "Conteo de ocurrencias: Counter({9: 15, 6: 13, 5: 12, 7: 11, 3: 11, 1: 10, 4: 9, 2: 9, 0: 7, 8: 3})\nValores: dict_values([9, 12, 15, 7, 13, 3, 10, 11, 9, 11])\nLista: [9, 12, 15, 7, 13, 3, 10, 11, 9, 11]\n"
     ]
    }
   ],
   "source": [
    "#Calculamos las ocurencias para cada elemento distinto\n",
    "print(\"Conteo de ocurrencias:\",Counter(flujo))\n",
    "print(\"Valores:\",Counter(flujo).values())\n",
    "print(\"Lista:\",list(Counter(flujo).values()))"
   ]
  },
  {
   "cell_type": "code",
   "execution_count": 0,
   "metadata": {
    "application/vnd.databricks.v1+cell": {
     "cellMetadata": {
      "byteLimit": 2048000,
      "rowLimit": 10000
     },
     "inputWidgets": {},
     "nuid": "b9351fd2-87c4-4112-aedc-abc956bb743d",
     "showTitle": false,
     "title": ""
    },
    "colab": {
     "base_uri": "https://localhost:8080/"
    },
    "id": "dH8wypLu4LSn",
    "outputId": "13d83fc0-ca47-4c60-bf8e-5c09fef53fb1"
   },
   "outputs": [
    {
     "output_type": "stream",
     "name": "stdout",
     "output_type": "stream",
     "text": [
      "Frecuencias: [ 9 12 15  7 13  3 10 11  9 11]\n"
     ]
    }
   ],
   "source": [
    "#Almacenando las ocurrencias de cada elemento\n",
    "frec = np.array(list(Counter(flujo).values()))\n",
    "print(\"Frecuencias:\", frec)"
   ]
  },
  {
   "cell_type": "markdown",
   "metadata": {
    "application/vnd.databricks.v1+cell": {
     "cellMetadata": {
      "byteLimit": 2048000,
      "rowLimit": 10000
     },
     "inputWidgets": {},
     "nuid": "8a51b912-96a2-4662-96f7-b7a9fca26cb2",
     "showTitle": false,
     "title": ""
    },
    "id": "edzOZH3RNcm3"
   },
   "source": [
    "Instaciamos nuestra clase, calculamos las cuentas del elemento correspondiente a cada variable y estimamos los momentos 1, 2 y 3."
   ]
  },
  {
   "cell_type": "code",
   "execution_count": 0,
   "metadata": {
    "application/vnd.databricks.v1+cell": {
     "cellMetadata": {
      "byteLimit": 2048000,
      "rowLimit": 10000
     },
     "inputWidgets": {},
     "nuid": "90b1b7e1-3674-41e2-b08f-b7b83b2f24bf",
     "showTitle": false,
     "title": ""
    },
    "colab": {
     "base_uri": "https://localhost:8080/"
    },
    "id": "q1dc7PDd6MXn",
    "outputId": "cedf13f7-ea0b-46db-fde4-daa6132b50db"
   },
   "outputs": [
    {
     "output_type": "stream",
     "name": "stdout",
     "output_type": "stream",
     "text": [
      "Momento 1: Exacto = 100 Estimación = 100.0\nMomento 2: Exacto = 1100 Estimación = 1128.0\nMomento 3: Exacto = 12790 Estimación = 13444.0\n"
     ]
    }
   ],
   "source": [
    "em = AMS(n_variables) #instanciamos la clase con el núm de muestras\n",
    "em.calcula_cuentas(flujo) #calculamos las frecuencias\n",
    "\n",
    "for i in range(1, 4):\n",
    "  print(u'Momento {0}: Exacto = {1} Estimación = {2}'.format(i, momento(frec, i), em.estima_momento(i))) #recordemos: n es constante"
   ]
  },
  {
   "cell_type": "markdown",
   "metadata": {
    "application/vnd.databricks.v1+cell": {
     "cellMetadata": {
      "byteLimit": 2048000,
      "rowLimit": 10000
     },
     "inputWidgets": {},
     "nuid": "e38b9ee1-bab4-4011-b3e9-ab8ae54d0eca",
     "showTitle": false,
     "title": ""
    },
    "id": "VMqRXwOEN3Pu"
   },
   "source": [
    "Cuando el tamaño del flujo no es constante, seleccionamos las posiciones de las variables de la siguiente manera:\n",
    "+ Se toman las primeras $s$ posiciones del flujo como variables.\n",
    "+ Se elige la posición $n>s$ con probabilidad $\\frac{s}{n}$\n",
    "  + Si es elegida, se selecciona de forma aleatoria y uniforme una de las $s$ variables y se reemplaza por la de la posición $n$\n",
    "  + En caso contrario se mantienen las posiciones de las $s$ variables    "
   ]
  },
  {
   "cell_type": "code",
   "execution_count": 0,
   "metadata": {
    "application/vnd.databricks.v1+cell": {
     "cellMetadata": {
      "byteLimit": 2048000,
      "rowLimit": 10000
     },
     "inputWidgets": {},
     "nuid": "5d0b6acd-5e77-41d6-b507-240c871432f2",
     "showTitle": false,
     "title": ""
    },
    "id": "RjibctuDPpyV"
   },
   "outputs": [],
   "source": [
    "class AMSFlujo:\n",
    "  def __init__(self, n_variables):\n",
    "    self.n_variables = n_variables\n",
    "    self.i = 0 #contador de cuántos datos han pasado en el flujo\n",
    "    self.elementos = np.zeros(self.n_variables) #arreglo para los elementos\n",
    "    self.valores = np.zeros(self.n_variables) #arreglo para los valores\n",
    "\n",
    "  def estima_momento(self, k):\n",
    "    if self.i >= self.n_variables: #evaluamos: si el num_muestras visto es >= al num_muestras indicado\n",
    "      return np.mean(self.i * (self.valores**k - (self.valores - 1)**k))\n",
    "    else:\n",
    "      return np.mean(self.i * (self.valores[:self.i]**k - (self.valores[:self.i] - 1)**k)) #toma los valores hasta la posición i\n",
    "    \n",
    "  def __call__(self, x): #este \"x\" es un dato del flujo\n",
    "    if self.i < self.n_variables:\n",
    "      self.elementos[self.i] = x\n",
    "      self.valores[self.i] = 0 #inicializamos\n",
    "    else:\n",
    "      #analizo si sustituyo algunas de las variables \n",
    "      prob = self.n_variables / (self.i + 1) #caĺculo de la probabilidad\n",
    "      j = np.random.choice([0, 1], p=[1 - prob, prob]) #para obtener 0= 1-proba y para 1=prob\n",
    "      if j: #si \"j\" es 1 (entonces vamos a sustituir)\n",
    "        pos = np.random.randint(0, self.n_variables) #nueva posición\n",
    "        self.elementos[pos] = x\n",
    "        self.valores[pos] = 0 #inicializamos\n",
    "      \n",
    "      #iteramos los elementos\n",
    "      for a,e in enumerate(self.elementos):\n",
    "        if e == x:\n",
    "          self.valores[a] += 1 #aumenta en 1\n",
    "\n",
    "    self.i += 1 #incrementa el valor de n"
   ]
  },
  {
   "cell_type": "markdown",
   "metadata": {
    "application/vnd.databricks.v1+cell": {
     "cellMetadata": {
      "byteLimit": 2048000,
      "rowLimit": 10000
     },
     "inputWidgets": {},
     "nuid": "fa6cb6c9-65e7-4f39-aac8-cdd03711927a",
     "showTitle": false,
     "title": ""
    },
    "id": "PLsIEkIcOPfq"
   },
   "source": [
    "Instanciamos la clase y vamos agregando cada dato del flujo, actualizando las cuentas y estimando los momentos 1, 2 y 3."
   ]
  },
  {
   "cell_type": "code",
   "execution_count": 0,
   "metadata": {
    "application/vnd.databricks.v1+cell": {
     "cellMetadata": {
      "byteLimit": 2048000,
      "rowLimit": 10000
     },
     "inputWidgets": {},
     "nuid": "73e49f66-209e-4241-a779-18eae8cc29df",
     "showTitle": false,
     "title": ""
    },
    "id": "Xc69AjUZTZIQ"
   },
   "outputs": [],
   "source": [
    "emf = AMSFlujo(n_variables) #instanciamos la clase"
   ]
  },
  {
   "cell_type": "code",
   "execution_count": 0,
   "metadata": {
    "application/vnd.databricks.v1+cell": {
     "cellMetadata": {
      "byteLimit": 2048000,
      "rowLimit": 10000
     },
     "inputWidgets": {},
     "nuid": "ea2d9c68-58cd-4d3a-809f-a7dabebfcbaf",
     "showTitle": false,
     "title": ""
    },
    "colab": {
     "base_uri": "https://localhost:8080/"
    },
    "id": "aJXYMrnh9SCo",
    "outputId": "d1a306ef-f11a-4264-82e4-98bfe85b8432"
   },
   "outputs": [
    {
     "output_type": "stream",
     "name": "stdout",
     "output_type": "stream",
     "text": [
      "Posición 0\n\tMomento 1: Exacto = 1 Estimación = 1.0\n\tMomento 2: Exacto = 1 Estimación = -1.0\n\tMomento 3: Exacto = 1 Estimación = 1.0\nPosición 1\n\tMomento 1: Exacto = 2 Estimación = 2.0\n\tMomento 2: Exacto = 2 Estimación = -2.0\n\tMomento 3: Exacto = 2 Estimación = 2.0\nPosición 2\n\tMomento 1: Exacto = 3 Estimación = 3.0\n\tMomento 2: Exacto = 3 Estimación = -3.0\n\tMomento 3: Exacto = 3 Estimación = 3.0\nPosición 3\n\tMomento 1: Exacto = 4 Estimación = 4.0\n\tMomento 2: Exacto = 4 Estimación = -4.0\n\tMomento 3: Exacto = 4 Estimación = 4.0\nPosición 4\n\tMomento 1: Exacto = 5 Estimación = 5.0\n\tMomento 2: Exacto = 5 Estimación = -5.0\n\tMomento 3: Exacto = 5 Estimación = 5.0\nPosición 5\n\tMomento 1: Exacto = 6 Estimación = 6.0\n\tMomento 2: Exacto = 8 Estimación = -6.0\n\tMomento 3: Exacto = 12 Estimación = 6.0\nPosición 6\n\tMomento 1: Exacto = 7 Estimación = 7.0\n\tMomento 2: Exacto = 9 Estimación = -7.0\n\tMomento 3: Exacto = 13 Estimación = 7.0\nPosición 7\n\tMomento 1: Exacto = 8 Estimación = 8.0\n\tMomento 2: Exacto = 12 Estimación = -8.0\n\tMomento 3: Exacto = 20 Estimación = 8.0\nPosición 8\n\tMomento 1: Exacto = 9 Estimación = 9.0\n\tMomento 2: Exacto = 17 Estimación = -9.0\n\tMomento 3: Exacto = 39 Estimación = 9.0\nPosición 9\n\tMomento 1: Exacto = 10 Estimación = 10.0\n\tMomento 2: Exacto = 24 Estimación = -10.0\n\tMomento 3: Exacto = 76 Estimación = 10.0\nPosición 10\n\tMomento 1: Exacto = 11 Estimación = 11.0\n\tMomento 2: Exacto = 33 Estimación = -11.0\n\tMomento 3: Exacto = 137 Estimación = 11.0\nPosición 11\n\tMomento 1: Exacto = 12 Estimación = 12.0\n\tMomento 2: Exacto = 34 Estimación = -12.0\n\tMomento 3: Exacto = 138 Estimación = 12.0\nPosición 12\n\tMomento 1: Exacto = 13 Estimación = 13.0\n\tMomento 2: Exacto = 39 Estimación = -13.0\n\tMomento 3: Exacto = 157 Estimación = 13.0\nPosición 13\n\tMomento 1: Exacto = 14 Estimación = 14.0\n\tMomento 2: Exacto = 40 Estimación = -14.0\n\tMomento 3: Exacto = 158 Estimación = 14.0\nPosición 14\n\tMomento 1: Exacto = 15 Estimación = 15.0\n\tMomento 2: Exacto = 43 Estimación = -15.0\n\tMomento 3: Exacto = 165 Estimación = 15.0\nPosición 15\n\tMomento 1: Exacto = 16 Estimación = 16.0\n\tMomento 2: Exacto = 48 Estimación = -16.0\n\tMomento 3: Exacto = 184 Estimación = 16.0\nPosición 16\n\tMomento 1: Exacto = 17 Estimación = 17.0\n\tMomento 2: Exacto = 55 Estimación = -17.0\n\tMomento 3: Exacto = 221 Estimación = 17.0\nPosición 17\n\tMomento 1: Exacto = 18 Estimación = 18.0\n\tMomento 2: Exacto = 56 Estimación = -18.0\n\tMomento 3: Exacto = 222 Estimación = 18.0\nPosición 18\n\tMomento 1: Exacto = 19 Estimación = 19.0\n\tMomento 2: Exacto = 59 Estimación = -19.0\n\tMomento 3: Exacto = 229 Estimación = 19.0\nPosición 19\n\tMomento 1: Exacto = 20 Estimación = 20.0\n\tMomento 2: Exacto = 60 Estimación = -20.0\n\tMomento 3: Exacto = 230 Estimación = 20.0\nPosición 20\n\tMomento 1: Exacto = 21 Estimación = 21.0\n\tMomento 2: Exacto = 67 Estimación = -21.0\n\tMomento 3: Exacto = 267 Estimación = 21.0\nPosición 21\n\tMomento 1: Exacto = 22 Estimación = 22.0\n\tMomento 2: Exacto = 72 Estimación = -22.0\n\tMomento 3: Exacto = 286 Estimación = 22.0\nPosición 22\n\tMomento 1: Exacto = 23 Estimación = 23.0\n\tMomento 2: Exacto = 75 Estimación = -23.0\n\tMomento 3: Exacto = 293 Estimación = 23.0\nPosición 23\n\tMomento 1: Exacto = 24 Estimación = 24.0\n\tMomento 2: Exacto = 86 Estimación = -24.0\n\tMomento 3: Exacto = 384 Estimación = 24.0\nPosición 24\n\tMomento 1: Exacto = 25 Estimación = 25.0\n\tMomento 2: Exacto = 89 Estimación = -25.0\n\tMomento 3: Exacto = 391 Estimación = 25.0\nPosición 25\n\tMomento 1: Exacto = 26 Estimación = 26.0\n\tMomento 2: Exacto = 92 Estimación = -26.0\n\tMomento 3: Exacto = 398 Estimación = 26.0\nPosición 26\n\tMomento 1: Exacto = 27 Estimación = 27.0\n\tMomento 2: Exacto = 101 Estimación = -27.0\n\tMomento 3: Exacto = 459 Estimación = 27.0\nPosición 27\n\tMomento 1: Exacto = 28 Estimación = 28.0\n\tMomento 2: Exacto = 110 Estimación = -28.0\n\tMomento 3: Exacto = 520 Estimación = 28.0\nPosición 28\n\tMomento 1: Exacto = 29 Estimación = 29.0\n\tMomento 2: Exacto = 123 Estimación = -29.0\n\tMomento 3: Exacto = 647 Estimación = 29.0\nPosición 29\n\tMomento 1: Exacto = 30 Estimación = 30.0\n\tMomento 2: Exacto = 126 Estimación = -30.0\n\tMomento 3: Exacto = 654 Estimación = 30.0\nPosición 30\n\tMomento 1: Exacto = 31 Estimación = 31.0\n\tMomento 2: Exacto = 137 Estimación = -31.0\n\tMomento 3: Exacto = 745 Estimación = 31.0\nPosición 31\n\tMomento 1: Exacto = 32 Estimación = 32.0\n\tMomento 2: Exacto = 152 Estimación = -32.0\n\tMomento 3: Exacto = 914 Estimación = 32.0\nPosición 32\n\tMomento 1: Exacto = 33 Estimación = 33.0\n\tMomento 2: Exacto = 155 Estimación = -33.0\n\tMomento 3: Exacto = 921 Estimación = 33.0\nPosición 33\n\tMomento 1: Exacto = 34 Estimación = 34.0\n\tMomento 2: Exacto = 168 Estimación = -34.0\n\tMomento 3: Exacto = 1048 Estimación = 34.0\nPosición 34\n\tMomento 1: Exacto = 35 Estimación = 35.0\n\tMomento 2: Exacto = 185 Estimación = -35.0\n\tMomento 3: Exacto = 1265 Estimación = 35.0\nPosición 35\n\tMomento 1: Exacto = 36 Estimación = 36.0\n\tMomento 2: Exacto = 190 Estimación = -36.0\n\tMomento 3: Exacto = 1284 Estimación = 36.0\nPosición 36\n\tMomento 1: Exacto = 37 Estimación = 37.0\n\tMomento 2: Exacto = 195 Estimación = -37.0\n\tMomento 3: Exacto = 1303 Estimación = 37.0\nPosición 37\n\tMomento 1: Exacto = 38 Estimación = 38.0\n\tMomento 2: Exacto = 200 Estimación = -38.0\n\tMomento 3: Exacto = 1322 Estimación = 38.0\nPosición 38\n\tMomento 1: Exacto = 39 Estimación = 39.0\n\tMomento 2: Exacto = 203 Estimación = -39.0\n\tMomento 3: Exacto = 1329 Estimación = 39.0\nPosición 39\n\tMomento 1: Exacto = 40 Estimación = 40.0\n\tMomento 2: Exacto = 210 Estimación = -40.0\n\tMomento 3: Exacto = 1366 Estimación = 40.0\nPosición 40\n\tMomento 1: Exacto = 41 Estimación = 41.0\n\tMomento 2: Exacto = 217 Estimación = -41.0\n\tMomento 3: Exacto = 1403 Estimación = 41.0\nPosición 41\n\tMomento 1: Exacto = 42 Estimación = 42.0\n\tMomento 2: Exacto = 222 Estimación = -42.0\n\tMomento 3: Exacto = 1422 Estimación = 42.0\nPosición 42\n\tMomento 1: Exacto = 43 Estimación = 43.0\n\tMomento 2: Exacto = 237 Estimación = -43.0\n\tMomento 3: Exacto = 1591 Estimación = 43.0\nPosición 43\n\tMomento 1: Exacto = 44 Estimación = 44.0\n\tMomento 2: Exacto = 242 Estimación = -44.0\n\tMomento 3: Exacto = 1610 Estimación = 44.0\nPosición 44\n\tMomento 1: Exacto = 45 Estimación = 45.0\n\tMomento 2: Exacto = 253 Estimación = -45.0\n\tMomento 3: Exacto = 1701 Estimación = 45.0\nPosición 45\n\tMomento 1: Exacto = 46 Estimación = 46.0\n\tMomento 2: Exacto = 266 Estimación = -46.0\n\tMomento 3: Exacto = 1828 Estimación = 46.0\nPosición 46\n\tMomento 1: Exacto = 47 Estimación = 47.0\n\tMomento 2: Exacto = 275 Estimación = -47.0\n\tMomento 3: Exacto = 1889 Estimación = 47.0\nPosición 47\n\tMomento 1: Exacto = 48 Estimación = 48.0\n\tMomento 2: Exacto = 284 Estimación = -48.0\n\tMomento 3: Exacto = 1950 Estimación = 48.0\nPosición 48\n\tMomento 1: Exacto = 49 Estimación = 49.0\n\tMomento 2: Exacto = 289 Estimación = -49.0\n\tMomento 3: Exacto = 1969 Estimación = 49.0\nPosición 49\n\tMomento 1: Exacto = 50 Estimación = 50.0\n\tMomento 2: Exacto = 306 Estimación = -50.0\n\tMomento 3: Exacto = 2186 Estimación = 50.0\nPosición 50\n\tMomento 1: Exacto = 51 Estimación = 51.0\n\tMomento 2: Exacto = 313 Estimación = -42.84\n\tMomento 3: Exacto = 2223 Estimación = 51.0\nPosición 51\n\tMomento 1: Exacto = 52 Estimación = 52.0\n\tMomento 2: Exacto = 320 Estimación = -35.36\n\tMomento 3: Exacto = 2260 Estimación = 52.0\nPosición 52\n\tMomento 1: Exacto = 53 Estimación = 53.0\n\tMomento 2: Exacto = 329 Estimación = -29.68\n\tMomento 3: Exacto = 2321 Estimación = 72.08\nPosición 53\n\tMomento 1: Exacto = 54 Estimación = 54.0\n\tMomento 2: Exacto = 340 Estimación = -17.28\n\tMomento 3: Exacto = 2412 Estimación = 73.44\nPosición 54\n\tMomento 1: Exacto = 55 Estimación = 55.0\n\tMomento 2: Exacto = 347 Estimación = -8.8\n\tMomento 3: Exacto = 2449 Estimación = 74.8\nPosición 55\n\tMomento 1: Exacto = 56 Estimación = 56.0\n\tMomento 2: Exacto = 360 Estimación = 4.48\n\tMomento 3: Exacto = 2576 Estimación = 116.48\nPosición 56\n\tMomento 1: Exacto = 57 Estimación = 57.0\n\tMomento 2: Exacto = 369 Estimación = 13.68\n\tMomento 3: Exacto = 2637 Estimación = 139.08\nPosición 57\n\tMomento 1: Exacto = 58 Estimación = 58.0\n\tMomento 2: Exacto = 384 Estimación = 32.48\n\tMomento 3: Exacto = 2806 Estimación = 232.0\nPosición 58\n\tMomento 1: Exacto = 59 Estimación = 59.0\n\tMomento 2: Exacto = 395 Estimación = 44.84\n\tMomento 3: Exacto = 2897 Estimación = 285.56\nPosición 59\n\tMomento 1: Exacto = 60 Estimación = 60.0\n\tMomento 2: Exacto = 408 Estimación = 57.6\n\tMomento 3: Exacto = 3024 Estimación = 376.8\nPosición 60\n\tMomento 1: Exacto = 61 Estimación = 61.0\n\tMomento 2: Exacto = 417 Estimación = 70.76\n\tMomento 3: Exacto = 3085 Estimación = 412.36\nPosición 61\n\tMomento 1: Exacto = 62 Estimación = 62.0\n\tMomento 2: Exacto = 428 Estimación = 76.88\n\tMomento 3: Exacto = 3176 Estimación = 448.88\nPosición 62\n\tMomento 1: Exacto = 63 Estimación = 63.0\n\tMomento 2: Exacto = 439 Estimación = 88.2\n\tMomento 3: Exacto = 3267 Estimación = 456.12\nPosición 63\n\tMomento 1: Exacto = 64 Estimación = 64.0\n\tMomento 2: Exacto = 456 Estimación = 110.08\n\tMomento 3: Exacto = 3484 Estimación = 624.64\nPosición 64\n\tMomento 1: Exacto = 65 Estimación = 65.0\n\tMomento 2: Exacto = 469 Estimación = 119.6\n\tMomento 3: Exacto = 3611 Estimación = 657.8\nPosición 65\n\tMomento 1: Exacto = 66 Estimación = 66.0\n\tMomento 2: Exacto = 488 Estimación = 139.92\n\tMomento 3: Exacto = 3882 Estimación = 667.92\nPosición 66\n\tMomento 1: Exacto = 67 Estimación = 67.0\n\tMomento 2: Exacto = 503 Estimación = 158.12\n\tMomento 3: Exacto = 4051 Estimación = 750.4\nPosición 67\n\tMomento 1: Exacto = 68 Estimación = 68.0\n\tMomento 2: Exacto = 510 Estimación = 165.92\n\tMomento 3: Exacto = 4088 Estimación = 761.6\nPosición 68\n\tMomento 1: Exacto = 69 Estimación = 69.0\n\tMomento 2: Exacto = 521 Estimación = 176.64\n\tMomento 3: Exacto = 4179 Estimación = 822.48\nPosición 69\n\tMomento 1: Exacto = 70 Estimación = 70.0\n\tMomento 2: Exacto = 536 Estimación = 193.2\n\tMomento 3: Exacto = 4348 Estimación = 977.2\nPosición 70\n\tMomento 1: Exacto = 71 Estimación = 71.0\n\tMomento 2: Exacto = 549 Estimación = 201.64\n\tMomento 3: Exacto = 4475 Estimación = 1042.28\nPosición 71\n\tMomento 1: Exacto = 72 Estimación = 72.0\n\tMomento 2: Exacto = 564 Estimación = 218.88\n\tMomento 3: Exacto = 4644 Estimación = 1056.96\nPosición 72\n\tMomento 1: Exacto = 73 Estimación = 73.0\n\tMomento 2: Exacto = 583 Estimación = 236.52\n\tMomento 3: Exacto = 4915 Estimación = 1281.88\nPosición 73\n\tMomento 1: Exacto = 74 Estimación = 74.0\n\tMomento 2: Exacto = 596 Estimación = 248.64\n\tMomento 3: Exacto = 5042 Estimación = 1379.36\nPosición 74\n\tMomento 1: Exacto = 75 Estimación = 75.0\n\tMomento 2: Exacto = 613 Estimación = 264.0\n\tMomento 3: Exacto = 5259 Estimación = 1479.0\nPosición 75\n\tMomento 1: Exacto = 76 Estimación = 76.0\n\tMomento 2: Exacto = 628 Estimación = 279.68\n\tMomento 3: Exacto = 5428 Estimación = 1599.04\nPosición 76\n\tMomento 1: Exacto = 77 Estimación = 77.0\n\tMomento 2: Exacto = 647 Estimación = 295.68\n\tMomento 3: Exacto = 5699 Estimación = 1564.64\nPosición 77\n\tMomento 1: Exacto = 78 Estimación = 78.0\n\tMomento 2: Exacto = 668 Estimación = 324.48\n\tMomento 3: Exacto = 6030 Estimación = 1659.84\nPosición 78\n\tMomento 1: Exacto = 79 Estimación = 79.0\n\tMomento 2: Exacto = 691 Estimación = 353.92\n\tMomento 3: Exacto = 6427 Estimación = 1832.8\nPosición 79\n\tMomento 1: Exacto = 80 Estimación = 80.0\n\tMomento 2: Exacto = 708 Estimación = 380.8\n\tMomento 3: Exacto = 6644 Estimación = 1913.6\nPosición 80\n\tMomento 1: Exacto = 81 Estimación = 81.0\n\tMomento 2: Exacto = 729 Estimación = 401.76\n\tMomento 3: Exacto = 6975 Estimación = 1986.12\nPosición 81\n\tMomento 1: Exacto = 82 Estimación = 82.0\n\tMomento 2: Exacto = 746 Estimación = 419.84\n\tMomento 3: Exacto = 7192 Estimación = 2217.28\nPosición 82\n\tMomento 1: Exacto = 83 Estimación = 83.0\n\tMomento 2: Exacto = 765 Estimación = 441.56\n\tMomento 3: Exacto = 7463 Estimación = 2333.96\nPosición 83\n\tMomento 1: Exacto = 84 Estimación = 84.0\n\tMomento 2: Exacto = 786 Estimación = 463.68\n\tMomento 3: Exacto = 7794 Estimación = 2674.56\nPosición 84\n\tMomento 1: Exacto = 85 Estimación = 85.0\n\tMomento 2: Exacto = 809 Estimación = 482.8\n\tMomento 3: Exacto = 8191 Estimación = 2777.8\nPosición 85\n\tMomento 1: Exacto = 86 Estimación = 86.0\n\tMomento 2: Exacto = 818 Estimación = 491.92\n\tMomento 3: Exacto = 8252 Estimación = 2820.8\nPosición 86\n\tMomento 1: Exacto = 87 Estimación = 87.0\n\tMomento 2: Exacto = 829 Estimación = 483.72\n\tMomento 3: Exacto = 8343 Estimación = 2717.88\nPosición 87\n\tMomento 1: Exacto = 88 Estimación = 88.0\n\tMomento 2: Exacto = 844 Estimación = 492.8\n\tMomento 3: Exacto = 8512 Estimación = 2791.36\nPosición 88\n\tMomento 1: Exacto = 89 Estimación = 89.0\n\tMomento 2: Exacto = 867 Estimación = 501.96\n\tMomento 3: Exacto = 8909 Estimación = 2983.28\nPosición 89\n\tMomento 1: Exacto = 90 Estimación = 90.0\n\tMomento 2: Exacto = 886 Estimación = 507.6\n\tMomento 3: Exacto = 9180 Estimación = 3092.4\nPosición 90\n\tMomento 1: Exacto = 91 Estimación = 91.0\n\tMomento 2: Exacto = 903 Estimación = 502.32\n\tMomento 3: Exacto = 9397 Estimación = 3006.64\nPosición 91\n\tMomento 1: Exacto = 92 Estimación = 92.0\n\tMomento 2: Exacto = 920 Estimación = 511.52\n\tMomento 3: Exacto = 9614 Estimación = 3094.88\nPosición 92\n\tMomento 1: Exacto = 93 Estimación = 93.0\n\tMomento 2: Exacto = 941 Estimación = 531.96\n\tMomento 3: Exacto = 9945 Estimación = 3407.52\nPosición 93\n\tMomento 1: Exacto = 94 Estimación = 94.0\n\tMomento 2: Exacto = 954 Estimación = 541.44\n\tMomento 3: Exacto = 10072 Estimación = 3478.0\nPosición 94\n\tMomento 1: Exacto = 95 Estimación = 95.0\n\tMomento 2: Exacto = 973 Estimación = 562.4\n\tMomento 3: Exacto = 10343 Estimación = 3674.6\nPosición 95\n\tMomento 1: Exacto = 96 Estimación = 96.0\n\tMomento 2: Exacto = 998 Estimación = 579.84\n\tMomento 3: Exacto = 10812 Estimación = 3955.2\nPosición 96\n\tMomento 1: Exacto = 97 Estimación = 97.0\n\tMomento 2: Exacto = 1023 Estimación = 613.04\n\tMomento 3: Exacto = 11281 Estimación = 4240.84\nPosición 97\n\tMomento 1: Exacto = 98 Estimación = 98.0\n\tMomento 2: Exacto = 1050 Estimación = 638.96\n\tMomento 3: Exacto = 11828 Estimación = 4625.6\nPosición 98\n\tMomento 1: Exacto = 99 Estimación = 99.0\n\tMomento 2: Exacto = 1071 Estimación = 661.32\n\tMomento 3: Exacto = 12159 Estimación = 4886.64\nPosición 99\n\tMomento 1: Exacto = 100 Estimación = 100.0\n\tMomento 2: Exacto = 1100 Estimación = 688.0\n\tMomento 3: Exacto = 12790 Estimación = 5344.0\n"
     ]
    }
   ],
   "source": [
    "for i in range(n):\n",
    "  emf(flujo[i]) #pasamos posición por posición del flujo\n",
    "  frec = np.array(list(Counter(flujo[:i+1]).values())) #calculamos el valor de las frecuencias\n",
    "  \n",
    "  #calculamos los k momentos por posición\n",
    "  print(u'Posición {0}'.format(i)) \n",
    "  for k in range(1, 4):\n",
    "    print(u'\\tMomento {0}: Exacto = {1} Estimación = {2}'.format(k, momento(frec, k), emf.estima_momento(k)))"
   ]
  }
 ],
 "metadata": {
  "application/vnd.databricks.v1+notebook": {
   "dashboards": [],
   "environmentMetadata": null,
   "language": "python",
   "notebookMetadata": {
    "pythonIndentUnit": 2
   },
   "notebookName": "3d_momentos",
   "widgets": {}
  },
  "colab": {
   "collapsed_sections": [],
   "include_colab_link": true,
   "name": "4d_momentos.ipynb",
   "provenance": []
  },
  "kernelspec": {
   "display_name": "Python 3",
   "name": "python3"
  },
  "language_info": {
   "name": "python"
  }
 },
 "nbformat": 4,
 "nbformat_minor": 0
}
