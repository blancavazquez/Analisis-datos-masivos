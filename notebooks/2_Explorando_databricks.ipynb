{
 "cells": [
  {
   "cell_type": "code",
   "execution_count": 0,
   "metadata": {
    "application/vnd.databricks.v1+cell": {
     "cellMetadata": {
      "byteLimit": 2048000,
      "rowLimit": 10000
     },
     "inputWidgets": {},
     "nuid": "956564d5-4d15-459e-bb33-2ef89502cc84",
     "showTitle": false,
     "title": ""
    }
   },
   "outputs": [
    {
     "output_type": "stream",
     "name": "stdout",
     "output_type": "stream",
     "text": [
      "ls: /Volumes: Operation not permitted\ntotal 100\ndrwxr-xr-x   1 root   root    4096 Aug 28 13:39 .\ndrwxr-xr-x   1 root   root    4096 Aug 28 13:39 ..\n-r-xr-xr-x   1 root   root     271 Aug 28 05:15 BUILD\ndrwxrwxrwx   2 nobody nogroup 4096 Aug 28 13:39 Volumes\ndrwxrwxrwx   2 root   root    4096 Aug 28 13:39 Workspace\nlrwxrwxrwx   1 root   root       7 Aug 28 05:18 bin -> usr/bin\ndrwxr-xr-x   2 root   root    4096 Aug 28 05:18 boot\ndrwxr-xr-x   1 root   root    4096 Aug 28 13:40 databricks\ndrwxr-xr-x   2 root   root    4096 Aug 28 13:39 dbfs\ndrwxr-xr-x   7 root   root     560 Aug 28 13:39 dev\ndrwxr-xr-x   1 root   root    4096 Aug 28 13:39 etc\ndrwxr-xr-x   1 root   root    4096 Aug 28 05:18 home\nlrwxrwxrwx   1 root   root       7 Aug 28 05:18 lib -> usr/lib\nlrwxrwxrwx   1 root   root       9 Aug 28 05:18 lib32 -> usr/lib32\nlrwxrwxrwx   1 root   root       9 Aug 28 05:18 lib64 -> usr/lib64\nlrwxrwxrwx   1 root   root      10 Aug 28 05:18 libx32 -> usr/libx32\ndrwxr-xr-x   8 ubuntu ubuntu  4096 Aug 28 13:40 local_disk0\ndrwxr-xr-x   2 root   root    4096 Aug 28 05:18 media\ndrwxr-xr-x   1 root   root    4096 Aug 28 13:39 mnt\ndrwxr-xr-x   5 root   root    4096 Aug 28 05:18 opt\ndr-xr-xr-x 234 root   root       0 Aug 28 13:39 proc\ndrwxr-xr-x   1 root   root    4096 Aug 28 13:41 root\ndrwxr-xr-x  12 root   root     480 Aug 28 13:40 run\nlrwxrwxrwx   1 root   root       8 Aug 28 05:18 sbin -> usr/sbin\ndrwxr-xr-x   2 root   root    4096 Aug 28 05:18 srv\ndr-xr-xr-x  13 root   root       0 Aug 28 13:39 sys\ndrwxrwxrwt   1 root   root    4096 Aug 28 13:41 tmp\ndrwxr-xr-x   1 root   root    4096 Aug 28 05:18 usr\ndrwxr-xr-x   1 root   root    4096 Aug 28 05:18 var\n"
     ]
    }
   ],
   "source": [
    "%sh ls -la /"
   ]
  },
  {
   "cell_type": "code",
   "execution_count": 0,
   "metadata": {
    "application/vnd.databricks.v1+cell": {
     "cellMetadata": {
      "byteLimit": 2048000,
      "rowLimit": 10000
     },
     "inputWidgets": {},
     "nuid": "30f3ac55-5180-4eb2-9214-9840d6c13d73",
     "showTitle": false,
     "title": ""
    }
   },
   "outputs": [
    {
     "output_type": "stream",
     "name": "stdout",
     "output_type": "stream",
     "text": [
      "total 8\ndrwxr-xr-x 2 root root 4096 Aug 28 13:39 .\ndrwxr-xr-x 1 root root 4096 Aug 28 13:39 ..\n"
     ]
    }
   ],
   "source": [
    "%sh ls -la /dbfs/"
   ]
  },
  {
   "cell_type": "code",
   "execution_count": 0,
   "metadata": {
    "application/vnd.databricks.v1+cell": {
     "cellMetadata": {
      "byteLimit": 2048000,
      "rowLimit": 10000
     },
     "inputWidgets": {},
     "nuid": "9343524c-935e-4cde-ab63-c3256fef858a",
     "showTitle": false,
     "title": ""
    }
   },
   "outputs": [
    {
     "output_type": "stream",
     "name": "stdout",
     "output_type": "stream",
     "text": [
      "ls: cannot access '/dbfs/databricks-datasets/wikipedia-datasets/data-001/en_wikipedia_edits/': No such file or directory\n"
     ]
    }
   ],
   "source": [
    "%sh ls -la /dbfs/databricks-datasets/wikipedia-datasets/data-001/en_wikipedia_edits/"
   ]
  },
  {
   "cell_type": "code",
   "execution_count": 0,
   "metadata": {
    "application/vnd.databricks.v1+cell": {
     "cellMetadata": {
      "byteLimit": 2048000,
      "rowLimit": 10000
     },
     "inputWidgets": {},
     "nuid": "1dc96039-1e4f-4c54-a3d4-e1df0b104894",
     "showTitle": false,
     "title": ""
    }
   },
   "outputs": [
    {
     "output_type": "display_data",
     "data": {
      "text/html": [
       "<style scoped>\n",
       "  .table-result-container {\n",
       "    max-height: 300px;\n",
       "    overflow: auto;\n",
       "  }\n",
       "  table, th, td {\n",
       "    border: 1px solid black;\n",
       "    border-collapse: collapse;\n",
       "  }\n",
       "  th, td {\n",
       "    padding: 5px;\n",
       "  }\n",
       "  th {\n",
       "    text-align: left;\n",
       "  }\n",
       "</style><div class='table-result-container'><table class='table-result'><thead style='background-color: white'><tr><th>path</th><th>name</th><th>size</th><th>modificationTime</th></tr></thead><tbody><tr><td>dbfs:/databricks-datasets/wikipedia-datasets/data-001/en_wikipedia/perline-xml/enwiki-latest-pages-articles1.xml-p000000010p000010000.bz2-part-00000</td><td>enwiki-latest-pages-articles1.xml-p000000010p000010000.bz2-part-00000</td><td>168870620</td><td>1448159664000</td></tr><tr><td>dbfs:/databricks-datasets/wikipedia-datasets/data-001/en_wikipedia/perline-xml/enwiki-latest-pages-articles10.xml-p000925001p001325000.bz2-part-00000</td><td>enwiki-latest-pages-articles10.xml-p000925001p001325000.bz2-part-00000</td><td>1121580271</td><td>1448159668000</td></tr><tr><td>dbfs:/databricks-datasets/wikipedia-datasets/data-001/en_wikipedia/perline-xml/enwiki-latest-pages-articles11.xml-p001325001p001825000.bz2-part-00000</td><td>enwiki-latest-pages-articles11.xml-p001325001p001825000.bz2-part-00000</td><td>1169954684</td><td>1448159680000</td></tr><tr><td>dbfs:/databricks-datasets/wikipedia-datasets/data-001/en_wikipedia/perline-xml/enwiki-latest-pages-articles12.xml-p001825001p002425000.bz2-part-00000</td><td>enwiki-latest-pages-articles12.xml-p001825001p002425000.bz2-part-00000</td><td>1287433013</td><td>1448159694000</td></tr><tr><td>dbfs:/databricks-datasets/wikipedia-datasets/data-001/en_wikipedia/perline-xml/enwiki-latest-pages-articles13.xml-p002425002p003124997.bz2-part-00000</td><td>enwiki-latest-pages-articles13.xml-p002425002p003124997.bz2-part-00000</td><td>1231144795</td><td>1448159709000</td></tr><tr><td>dbfs:/databricks-datasets/wikipedia-datasets/data-001/en_wikipedia/perline-xml/enwiki-latest-pages-articles14.xml-p003125001p003924999.bz2-part-00000</td><td>enwiki-latest-pages-articles14.xml-p003125001p003924999.bz2-part-00000</td><td>1238353174</td><td>1448159723000</td></tr><tr><td>dbfs:/databricks-datasets/wikipedia-datasets/data-001/en_wikipedia/perline-xml/enwiki-latest-pages-articles15.xml-p003925001p004824998.bz2-part-00000</td><td>enwiki-latest-pages-articles15.xml-p003925001p004824998.bz2-part-00000</td><td>1204996932</td><td>1448159737000</td></tr><tr><td>dbfs:/databricks-datasets/wikipedia-datasets/data-001/en_wikipedia/perline-xml/enwiki-latest-pages-articles16.xml-p004825005p006024996.bz2-part-00000</td><td>enwiki-latest-pages-articles16.xml-p004825005p006024996.bz2-part-00000</td><td>1487427360</td><td>1448159751000</td></tr><tr><td>dbfs:/databricks-datasets/wikipedia-datasets/data-001/en_wikipedia/perline-xml/enwiki-latest-pages-articles17.xml-p006025001p007524997.bz2-part-00000</td><td>enwiki-latest-pages-articles17.xml-p006025001p007524997.bz2-part-00000</td><td>1561578307</td><td>1448159770000</td></tr><tr><td>dbfs:/databricks-datasets/wikipedia-datasets/data-001/en_wikipedia/perline-xml/enwiki-latest-pages-articles18.xml-p007525004p009225000.bz2-part-00000</td><td>enwiki-latest-pages-articles18.xml-p007525004p009225000.bz2-part-00000</td><td>1636217321</td><td>1448159787000</td></tr><tr><td>dbfs:/databricks-datasets/wikipedia-datasets/data-001/en_wikipedia/perline-xml/enwiki-latest-pages-articles19.xml-p009225002p011124997.bz2-part-00000</td><td>enwiki-latest-pages-articles19.xml-p009225002p011124997.bz2-part-00000</td><td>1574527311</td><td>1448159806000</td></tr><tr><td>dbfs:/databricks-datasets/wikipedia-datasets/data-001/en_wikipedia/perline-xml/enwiki-latest-pages-articles2.xml-p000010002p000024999.bz2-part-00000</td><td>enwiki-latest-pages-articles2.xml-p000010002p000024999.bz2-part-00000</td><td>277994185</td><td>1448159823000</td></tr><tr><td>dbfs:/databricks-datasets/wikipedia-datasets/data-001/en_wikipedia/perline-xml/enwiki-latest-pages-articles20.xml-p011125004p013324998.bz2-part-00000</td><td>enwiki-latest-pages-articles20.xml-p011125004p013324998.bz2-part-00000</td><td>2279316394</td><td>1448159826000</td></tr><tr><td>dbfs:/databricks-datasets/wikipedia-datasets/data-001/en_wikipedia/perline-xml/enwiki-latest-pages-articles21.xml-p013325003p015724999.bz2-part-00000</td><td>enwiki-latest-pages-articles21.xml-p013325003p015724999.bz2-part-00000</td><td>2378290927</td><td>1448159860000</td></tr><tr><td>dbfs:/databricks-datasets/wikipedia-datasets/data-001/en_wikipedia/perline-xml/enwiki-latest-pages-articles22.xml-p015725013p018225000.bz2-part-00000</td><td>enwiki-latest-pages-articles22.xml-p015725013p018225000.bz2-part-00000</td><td>2155224897</td><td>1448159890000</td></tr><tr><td>dbfs:/databricks-datasets/wikipedia-datasets/data-001/en_wikipedia/perline-xml/enwiki-latest-pages-articles23.xml-p018225004p020925000.bz2-part-00000</td><td>enwiki-latest-pages-articles23.xml-p018225004p020925000.bz2-part-00000</td><td>2555199089</td><td>1448159911000</td></tr><tr><td>dbfs:/databricks-datasets/wikipedia-datasets/data-001/en_wikipedia/perline-xml/enwiki-latest-pages-articles24.xml-p020925002p023724999.bz2-part-00000</td><td>enwiki-latest-pages-articles24.xml-p020925002p023724999.bz2-part-00000</td><td>2848573944</td><td>1448159937000</td></tr><tr><td>dbfs:/databricks-datasets/wikipedia-datasets/data-001/en_wikipedia/perline-xml/enwiki-latest-pages-articles25.xml-p023725001p026624997.bz2-part-00000</td><td>enwiki-latest-pages-articles25.xml-p023725001p026624997.bz2-part-00000</td><td>2952463569</td><td>1448159969000</td></tr><tr><td>dbfs:/databricks-datasets/wikipedia-datasets/data-001/en_wikipedia/perline-xml/enwiki-latest-pages-articles26.xml-p026625004p029624976.bz2-part-00000</td><td>enwiki-latest-pages-articles26.xml-p026625004p029624976.bz2-part-00000</td><td>2869192090</td><td>1448159999000</td></tr><tr><td>dbfs:/databricks-datasets/wikipedia-datasets/data-001/en_wikipedia/perline-xml/enwiki-latest-pages-articles27.xml-p029625017p047687611.bz2-part-00000</td><td>enwiki-latest-pages-articles27.xml-p029625017p047687611.bz2-part-00000</td><td>3187946056</td><td>1448160029000</td></tr><tr><td>dbfs:/databricks-datasets/wikipedia-datasets/data-001/en_wikipedia/perline-xml/enwiki-latest-pages-articles27.xml-p029625017p047687611.bz2-part-00001</td><td>enwiki-latest-pages-articles27.xml-p029625017p047687611.bz2-part-00001</td><td>3295981183</td><td>1448160067000</td></tr><tr><td>dbfs:/databricks-datasets/wikipedia-datasets/data-001/en_wikipedia/perline-xml/enwiki-latest-pages-articles27.xml-p029625017p047687611.bz2-part-00002</td><td>enwiki-latest-pages-articles27.xml-p029625017p047687611.bz2-part-00002</td><td>2804842044</td><td>1448160105000</td></tr><tr><td>dbfs:/databricks-datasets/wikipedia-datasets/data-001/en_wikipedia/perline-xml/enwiki-latest-pages-articles27.xml-p029625017p047687611.bz2-part-00003</td><td>enwiki-latest-pages-articles27.xml-p029625017p047687611.bz2-part-00003</td><td>2907986338</td><td>1448160138000</td></tr><tr><td>dbfs:/databricks-datasets/wikipedia-datasets/data-001/en_wikipedia/perline-xml/enwiki-latest-pages-articles27.xml-p029625017p047687611.bz2-part-00004</td><td>enwiki-latest-pages-articles27.xml-p029625017p047687611.bz2-part-00004</td><td>2850565831</td><td>1448160170000</td></tr><tr><td>dbfs:/databricks-datasets/wikipedia-datasets/data-001/en_wikipedia/perline-xml/enwiki-latest-pages-articles27.xml-p029625017p047687611.bz2-part-00005</td><td>enwiki-latest-pages-articles27.xml-p029625017p047687611.bz2-part-00005</td><td>2651443403</td><td>1448160199000</td></tr><tr><td>dbfs:/databricks-datasets/wikipedia-datasets/data-001/en_wikipedia/perline-xml/enwiki-latest-pages-articles27.xml-p029625017p047690402.bz2-part-00000</td><td>enwiki-latest-pages-articles27.xml-p029625017p047690402.bz2-part-00000</td><td>3193945949</td><td>1448160228000</td></tr><tr><td>dbfs:/databricks-datasets/wikipedia-datasets/data-001/en_wikipedia/perline-xml/enwiki-latest-pages-articles27.xml-p029625017p047690402.bz2-part-00001</td><td>enwiki-latest-pages-articles27.xml-p029625017p047690402.bz2-part-00001</td><td>3303971108</td><td>1448160264000</td></tr><tr><td>dbfs:/databricks-datasets/wikipedia-datasets/data-001/en_wikipedia/perline-xml/enwiki-latest-pages-articles27.xml-p029625017p047690402.bz2-part-00002</td><td>enwiki-latest-pages-articles27.xml-p029625017p047690402.bz2-part-00002</td><td>2808954863</td><td>1448160298000</td></tr><tr><td>dbfs:/databricks-datasets/wikipedia-datasets/data-001/en_wikipedia/perline-xml/enwiki-latest-pages-articles27.xml-p029625017p047690402.bz2-part-00003</td><td>enwiki-latest-pages-articles27.xml-p029625017p047690402.bz2-part-00003</td><td>2919410079</td><td>1448160329000</td></tr><tr><td>dbfs:/databricks-datasets/wikipedia-datasets/data-001/en_wikipedia/perline-xml/enwiki-latest-pages-articles27.xml-p029625017p047690402.bz2-part-00004</td><td>enwiki-latest-pages-articles27.xml-p029625017p047690402.bz2-part-00004</td><td>2863358063</td><td>1448160359000</td></tr><tr><td>dbfs:/databricks-datasets/wikipedia-datasets/data-001/en_wikipedia/perline-xml/enwiki-latest-pages-articles27.xml-p029625017p047690402.bz2-part-00005</td><td>enwiki-latest-pages-articles27.xml-p029625017p047690402.bz2-part-00005</td><td>2661970279</td><td>1448160388000</td></tr><tr><td>dbfs:/databricks-datasets/wikipedia-datasets/data-001/en_wikipedia/perline-xml/enwiki-latest-pages-articles27.xml-p047690403p048018124.bz2-part-00000</td><td>enwiki-latest-pages-articles27.xml-p047690403p048018124.bz2-part-00000</td><td>249230671</td><td>1448160417000</td></tr><tr><td>dbfs:/databricks-datasets/wikipedia-datasets/data-001/en_wikipedia/perline-xml/enwiki-latest-pages-articles3.xml-p000025001p000055000.bz2-part-00000</td><td>enwiki-latest-pages-articles3.xml-p000025001p000055000.bz2-part-00000</td><td>422183363</td><td>1448160420000</td></tr><tr><td>dbfs:/databricks-datasets/wikipedia-datasets/data-001/en_wikipedia/perline-xml/enwiki-latest-pages-articles4.xml-p000055002p000104998.bz2-part-00000</td><td>enwiki-latest-pages-articles4.xml-p000055002p000104998.bz2-part-00000</td><td>457167217</td><td>1448160424000</td></tr><tr><td>dbfs:/databricks-datasets/wikipedia-datasets/data-001/en_wikipedia/perline-xml/enwiki-latest-pages-articles5.xml-p000105002p000184999.bz2-part-00000</td><td>enwiki-latest-pages-articles5.xml-p000105002p000184999.bz2-part-00000</td><td>801806705</td><td>1448160429000</td></tr><tr><td>dbfs:/databricks-datasets/wikipedia-datasets/data-001/en_wikipedia/perline-xml/enwiki-latest-pages-articles6.xml-p000185003p000305000.bz2-part-00000</td><td>enwiki-latest-pages-articles6.xml-p000185003p000305000.bz2-part-00000</td><td>701714376</td><td>1448160437000</td></tr><tr><td>dbfs:/databricks-datasets/wikipedia-datasets/data-001/en_wikipedia/perline-xml/enwiki-latest-pages-articles7.xml-p000305002p000464996.bz2-part-00000</td><td>enwiki-latest-pages-articles7.xml-p000305002p000464996.bz2-part-00000</td><td>820307282</td><td>1448160445000</td></tr><tr><td>dbfs:/databricks-datasets/wikipedia-datasets/data-001/en_wikipedia/perline-xml/enwiki-latest-pages-articles8.xml-p000465001p000665000.bz2-part-00000</td><td>enwiki-latest-pages-articles8.xml-p000465001p000665000.bz2-part-00000</td><td>788814223</td><td>1448160454000</td></tr><tr><td>dbfs:/databricks-datasets/wikipedia-datasets/data-001/en_wikipedia/perline-xml/enwiki-latest-pages-articles9.xml-p000665001p000925000.bz2-part-00000</td><td>enwiki-latest-pages-articles9.xml-p000665001p000925000.bz2-part-00000</td><td>781332075</td><td>1448160462000</td></tr></tbody></table></div>"
      ]
     },
     "metadata": {
      "application/vnd.databricks.v1+output": {
       "addedWidgets": {},
       "aggData": [],
       "aggError": "",
       "aggOverflow": false,
       "aggSchema": [],
       "aggSeriesLimitReached": false,
       "aggType": "",
       "arguments": {},
       "columnCustomDisplayInfos": {},
       "data": [
        [
         "dbfs:/databricks-datasets/wikipedia-datasets/data-001/en_wikipedia/perline-xml/enwiki-latest-pages-articles1.xml-p000000010p000010000.bz2-part-00000",
         "enwiki-latest-pages-articles1.xml-p000000010p000010000.bz2-part-00000",
         168870620,
         1448159664000
        ],
        [
         "dbfs:/databricks-datasets/wikipedia-datasets/data-001/en_wikipedia/perline-xml/enwiki-latest-pages-articles10.xml-p000925001p001325000.bz2-part-00000",
         "enwiki-latest-pages-articles10.xml-p000925001p001325000.bz2-part-00000",
         1121580271,
         1448159668000
        ],
        [
         "dbfs:/databricks-datasets/wikipedia-datasets/data-001/en_wikipedia/perline-xml/enwiki-latest-pages-articles11.xml-p001325001p001825000.bz2-part-00000",
         "enwiki-latest-pages-articles11.xml-p001325001p001825000.bz2-part-00000",
         1169954684,
         1448159680000
        ],
        [
         "dbfs:/databricks-datasets/wikipedia-datasets/data-001/en_wikipedia/perline-xml/enwiki-latest-pages-articles12.xml-p001825001p002425000.bz2-part-00000",
         "enwiki-latest-pages-articles12.xml-p001825001p002425000.bz2-part-00000",
         1287433013,
         1448159694000
        ],
        [
         "dbfs:/databricks-datasets/wikipedia-datasets/data-001/en_wikipedia/perline-xml/enwiki-latest-pages-articles13.xml-p002425002p003124997.bz2-part-00000",
         "enwiki-latest-pages-articles13.xml-p002425002p003124997.bz2-part-00000",
         1231144795,
         1448159709000
        ],
        [
         "dbfs:/databricks-datasets/wikipedia-datasets/data-001/en_wikipedia/perline-xml/enwiki-latest-pages-articles14.xml-p003125001p003924999.bz2-part-00000",
         "enwiki-latest-pages-articles14.xml-p003125001p003924999.bz2-part-00000",
         1238353174,
         1448159723000
        ],
        [
         "dbfs:/databricks-datasets/wikipedia-datasets/data-001/en_wikipedia/perline-xml/enwiki-latest-pages-articles15.xml-p003925001p004824998.bz2-part-00000",
         "enwiki-latest-pages-articles15.xml-p003925001p004824998.bz2-part-00000",
         1204996932,
         1448159737000
        ],
        [
         "dbfs:/databricks-datasets/wikipedia-datasets/data-001/en_wikipedia/perline-xml/enwiki-latest-pages-articles16.xml-p004825005p006024996.bz2-part-00000",
         "enwiki-latest-pages-articles16.xml-p004825005p006024996.bz2-part-00000",
         1487427360,
         1448159751000
        ],
        [
         "dbfs:/databricks-datasets/wikipedia-datasets/data-001/en_wikipedia/perline-xml/enwiki-latest-pages-articles17.xml-p006025001p007524997.bz2-part-00000",
         "enwiki-latest-pages-articles17.xml-p006025001p007524997.bz2-part-00000",
         1561578307,
         1448159770000
        ],
        [
         "dbfs:/databricks-datasets/wikipedia-datasets/data-001/en_wikipedia/perline-xml/enwiki-latest-pages-articles18.xml-p007525004p009225000.bz2-part-00000",
         "enwiki-latest-pages-articles18.xml-p007525004p009225000.bz2-part-00000",
         1636217321,
         1448159787000
        ],
        [
         "dbfs:/databricks-datasets/wikipedia-datasets/data-001/en_wikipedia/perline-xml/enwiki-latest-pages-articles19.xml-p009225002p011124997.bz2-part-00000",
         "enwiki-latest-pages-articles19.xml-p009225002p011124997.bz2-part-00000",
         1574527311,
         1448159806000
        ],
        [
         "dbfs:/databricks-datasets/wikipedia-datasets/data-001/en_wikipedia/perline-xml/enwiki-latest-pages-articles2.xml-p000010002p000024999.bz2-part-00000",
         "enwiki-latest-pages-articles2.xml-p000010002p000024999.bz2-part-00000",
         277994185,
         1448159823000
        ],
        [
         "dbfs:/databricks-datasets/wikipedia-datasets/data-001/en_wikipedia/perline-xml/enwiki-latest-pages-articles20.xml-p011125004p013324998.bz2-part-00000",
         "enwiki-latest-pages-articles20.xml-p011125004p013324998.bz2-part-00000",
         2279316394,
         1448159826000
        ],
        [
         "dbfs:/databricks-datasets/wikipedia-datasets/data-001/en_wikipedia/perline-xml/enwiki-latest-pages-articles21.xml-p013325003p015724999.bz2-part-00000",
         "enwiki-latest-pages-articles21.xml-p013325003p015724999.bz2-part-00000",
         2378290927,
         1448159860000
        ],
        [
         "dbfs:/databricks-datasets/wikipedia-datasets/data-001/en_wikipedia/perline-xml/enwiki-latest-pages-articles22.xml-p015725013p018225000.bz2-part-00000",
         "enwiki-latest-pages-articles22.xml-p015725013p018225000.bz2-part-00000",
         2155224897,
         1448159890000
        ],
        [
         "dbfs:/databricks-datasets/wikipedia-datasets/data-001/en_wikipedia/perline-xml/enwiki-latest-pages-articles23.xml-p018225004p020925000.bz2-part-00000",
         "enwiki-latest-pages-articles23.xml-p018225004p020925000.bz2-part-00000",
         2555199089,
         1448159911000
        ],
        [
         "dbfs:/databricks-datasets/wikipedia-datasets/data-001/en_wikipedia/perline-xml/enwiki-latest-pages-articles24.xml-p020925002p023724999.bz2-part-00000",
         "enwiki-latest-pages-articles24.xml-p020925002p023724999.bz2-part-00000",
         2848573944,
         1448159937000
        ],
        [
         "dbfs:/databricks-datasets/wikipedia-datasets/data-001/en_wikipedia/perline-xml/enwiki-latest-pages-articles25.xml-p023725001p026624997.bz2-part-00000",
         "enwiki-latest-pages-articles25.xml-p023725001p026624997.bz2-part-00000",
         2952463569,
         1448159969000
        ],
        [
         "dbfs:/databricks-datasets/wikipedia-datasets/data-001/en_wikipedia/perline-xml/enwiki-latest-pages-articles26.xml-p026625004p029624976.bz2-part-00000",
         "enwiki-latest-pages-articles26.xml-p026625004p029624976.bz2-part-00000",
         2869192090,
         1448159999000
        ],
        [
         "dbfs:/databricks-datasets/wikipedia-datasets/data-001/en_wikipedia/perline-xml/enwiki-latest-pages-articles27.xml-p029625017p047687611.bz2-part-00000",
         "enwiki-latest-pages-articles27.xml-p029625017p047687611.bz2-part-00000",
         3187946056,
         1448160029000
        ],
        [
         "dbfs:/databricks-datasets/wikipedia-datasets/data-001/en_wikipedia/perline-xml/enwiki-latest-pages-articles27.xml-p029625017p047687611.bz2-part-00001",
         "enwiki-latest-pages-articles27.xml-p029625017p047687611.bz2-part-00001",
         3295981183,
         1448160067000
        ],
        [
         "dbfs:/databricks-datasets/wikipedia-datasets/data-001/en_wikipedia/perline-xml/enwiki-latest-pages-articles27.xml-p029625017p047687611.bz2-part-00002",
         "enwiki-latest-pages-articles27.xml-p029625017p047687611.bz2-part-00002",
         2804842044,
         1448160105000
        ],
        [
         "dbfs:/databricks-datasets/wikipedia-datasets/data-001/en_wikipedia/perline-xml/enwiki-latest-pages-articles27.xml-p029625017p047687611.bz2-part-00003",
         "enwiki-latest-pages-articles27.xml-p029625017p047687611.bz2-part-00003",
         2907986338,
         1448160138000
        ],
        [
         "dbfs:/databricks-datasets/wikipedia-datasets/data-001/en_wikipedia/perline-xml/enwiki-latest-pages-articles27.xml-p029625017p047687611.bz2-part-00004",
         "enwiki-latest-pages-articles27.xml-p029625017p047687611.bz2-part-00004",
         2850565831,
         1448160170000
        ],
        [
         "dbfs:/databricks-datasets/wikipedia-datasets/data-001/en_wikipedia/perline-xml/enwiki-latest-pages-articles27.xml-p029625017p047687611.bz2-part-00005",
         "enwiki-latest-pages-articles27.xml-p029625017p047687611.bz2-part-00005",
         2651443403,
         1448160199000
        ],
        [
         "dbfs:/databricks-datasets/wikipedia-datasets/data-001/en_wikipedia/perline-xml/enwiki-latest-pages-articles27.xml-p029625017p047690402.bz2-part-00000",
         "enwiki-latest-pages-articles27.xml-p029625017p047690402.bz2-part-00000",
         3193945949,
         1448160228000
        ],
        [
         "dbfs:/databricks-datasets/wikipedia-datasets/data-001/en_wikipedia/perline-xml/enwiki-latest-pages-articles27.xml-p029625017p047690402.bz2-part-00001",
         "enwiki-latest-pages-articles27.xml-p029625017p047690402.bz2-part-00001",
         3303971108,
         1448160264000
        ],
        [
         "dbfs:/databricks-datasets/wikipedia-datasets/data-001/en_wikipedia/perline-xml/enwiki-latest-pages-articles27.xml-p029625017p047690402.bz2-part-00002",
         "enwiki-latest-pages-articles27.xml-p029625017p047690402.bz2-part-00002",
         2808954863,
         1448160298000
        ],
        [
         "dbfs:/databricks-datasets/wikipedia-datasets/data-001/en_wikipedia/perline-xml/enwiki-latest-pages-articles27.xml-p029625017p047690402.bz2-part-00003",
         "enwiki-latest-pages-articles27.xml-p029625017p047690402.bz2-part-00003",
         2919410079,
         1448160329000
        ],
        [
         "dbfs:/databricks-datasets/wikipedia-datasets/data-001/en_wikipedia/perline-xml/enwiki-latest-pages-articles27.xml-p029625017p047690402.bz2-part-00004",
         "enwiki-latest-pages-articles27.xml-p029625017p047690402.bz2-part-00004",
         2863358063,
         1448160359000
        ],
        [
         "dbfs:/databricks-datasets/wikipedia-datasets/data-001/en_wikipedia/perline-xml/enwiki-latest-pages-articles27.xml-p029625017p047690402.bz2-part-00005",
         "enwiki-latest-pages-articles27.xml-p029625017p047690402.bz2-part-00005",
         2661970279,
         1448160388000
        ],
        [
         "dbfs:/databricks-datasets/wikipedia-datasets/data-001/en_wikipedia/perline-xml/enwiki-latest-pages-articles27.xml-p047690403p048018124.bz2-part-00000",
         "enwiki-latest-pages-articles27.xml-p047690403p048018124.bz2-part-00000",
         249230671,
         1448160417000
        ],
        [
         "dbfs:/databricks-datasets/wikipedia-datasets/data-001/en_wikipedia/perline-xml/enwiki-latest-pages-articles3.xml-p000025001p000055000.bz2-part-00000",
         "enwiki-latest-pages-articles3.xml-p000025001p000055000.bz2-part-00000",
         422183363,
         1448160420000
        ],
        [
         "dbfs:/databricks-datasets/wikipedia-datasets/data-001/en_wikipedia/perline-xml/enwiki-latest-pages-articles4.xml-p000055002p000104998.bz2-part-00000",
         "enwiki-latest-pages-articles4.xml-p000055002p000104998.bz2-part-00000",
         457167217,
         1448160424000
        ],
        [
         "dbfs:/databricks-datasets/wikipedia-datasets/data-001/en_wikipedia/perline-xml/enwiki-latest-pages-articles5.xml-p000105002p000184999.bz2-part-00000",
         "enwiki-latest-pages-articles5.xml-p000105002p000184999.bz2-part-00000",
         801806705,
         1448160429000
        ],
        [
         "dbfs:/databricks-datasets/wikipedia-datasets/data-001/en_wikipedia/perline-xml/enwiki-latest-pages-articles6.xml-p000185003p000305000.bz2-part-00000",
         "enwiki-latest-pages-articles6.xml-p000185003p000305000.bz2-part-00000",
         701714376,
         1448160437000
        ],
        [
         "dbfs:/databricks-datasets/wikipedia-datasets/data-001/en_wikipedia/perline-xml/enwiki-latest-pages-articles7.xml-p000305002p000464996.bz2-part-00000",
         "enwiki-latest-pages-articles7.xml-p000305002p000464996.bz2-part-00000",
         820307282,
         1448160445000
        ],
        [
         "dbfs:/databricks-datasets/wikipedia-datasets/data-001/en_wikipedia/perline-xml/enwiki-latest-pages-articles8.xml-p000465001p000665000.bz2-part-00000",
         "enwiki-latest-pages-articles8.xml-p000465001p000665000.bz2-part-00000",
         788814223,
         1448160454000
        ],
        [
         "dbfs:/databricks-datasets/wikipedia-datasets/data-001/en_wikipedia/perline-xml/enwiki-latest-pages-articles9.xml-p000665001p000925000.bz2-part-00000",
         "enwiki-latest-pages-articles9.xml-p000665001p000925000.bz2-part-00000",
         781332075,
         1448160462000
        ]
       ],
       "datasetInfos": [],
       "dbfsResultPath": null,
       "isJsonSchema": true,
       "metadata": {},
       "overflow": false,
       "plotOptions": {
        "customPlotOptions": {},
        "displayType": "table",
        "pivotAggregation": null,
        "pivotColumns": null,
        "xColumns": null,
        "yColumns": null
       },
       "removedWidgets": [],
       "schema": [
        {
         "metadata": "{}",
         "name": "path",
         "type": "\"string\""
        },
        {
         "metadata": "{}",
         "name": "name",
         "type": "\"string\""
        },
        {
         "metadata": "{}",
         "name": "size",
         "type": "\"long\""
        },
        {
         "metadata": "{}",
         "name": "modificationTime",
         "type": "\"long\""
        }
       ],
       "type": "table"
      }
     },
     "output_type": "display_data"
    }
   ],
   "source": [
    "display(dbutils.fs.ls(\"dbfs:///databricks-datasets/wikipedia-datasets/data-001/en_wikipedia/perline-xml/\"))"
   ]
  },
  {
   "cell_type": "code",
   "execution_count": 0,
   "metadata": {
    "application/vnd.databricks.v1+cell": {
     "cellMetadata": {
      "byteLimit": 2048000,
      "rowLimit": 10000
     },
     "inputWidgets": {},
     "nuid": "c6163322-35df-4ef7-9e0f-ed00d71e783e",
     "showTitle": false,
     "title": ""
    }
   },
   "outputs": [],
   "source": [
    "data = sc.textFile(\"dbfs:///databricks-datasets/wikipedia-datasets/data-001/en_wikipedia/perline-xml/enwiki-latest-pages-articles27.xml-p029625017p047690402.bz2-part-00001\")"
   ]
  },
  {
   "cell_type": "code",
   "execution_count": 0,
   "metadata": {
    "application/vnd.databricks.v1+cell": {
     "cellMetadata": {
      "byteLimit": 2048000,
      "rowLimit": 10000
     },
     "inputWidgets": {},
     "nuid": "f8d296b3-4e7a-4906-87b9-05d599666978",
     "showTitle": false,
     "title": ""
    }
   },
   "outputs": [
    {
     "output_type": "stream",
     "name": "stdout",
     "output_type": "stream",
     "text": [
      "Out[9]: 1000000"
     ]
    }
   ],
   "source": [
    "data.cache().count() #¿Cuántos registros tiene data?"
   ]
  },
  {
   "cell_type": "code",
   "execution_count": 0,
   "metadata": {
    "application/vnd.databricks.v1+cell": {
     "cellMetadata": {
      "byteLimit": 2048000,
      "rowLimit": 10000
     },
     "inputWidgets": {},
     "nuid": "14018c2f-f2d8-4c4b-b813-39987c5d0337",
     "showTitle": false,
     "title": ""
    }
   },
   "outputs": [
    {
     "output_type": "stream",
     "name": "stdout",
     "output_type": "stream",
     "text": [
      "Out[7]: ['  <page>     <title>Ralph Paine, Jr.</title>     <ns>0</ns>     <id>32619399</id>     <revision>       <id>683092169</id>       <parentid>683088247</parentid>       <timestamp>2015-09-28T02:25:23Z</timestamp>       <contributor>         <username>Ser Amantio di Nicolao</username>         <id>753665</id>       </contributor>       <comment>/* References */remove category using [[Project:AWB|AWB]]</comment>       <model>wikitext</model>       <format>text/x-wiki</format>       <text xml:space=\"preserve\">\\'\\'\\'Ralph &quot;Del&quot; Delahaye Paine, Jr.\\'\\'\\' (March 31, 1906&lt;ref&gt;{{cite book|author=Yale University. Class of 1894|title=Quarter-century record, class of 1894 Yale College|url=http://books.google.com/books?id=NEs3v-YlUr4C&amp;pg=PA327|accessdate=2 August 2011|year=1922|publisher=Printed for the class under the direction of the Class Secretaries Bureau|pages=330}}&lt;/ref&gt; &amp;ndash; January 12, 1991&lt;ref name=&quot;NYT&quot;&gt;{{cite news | title=Ralph Paine Jr., 84, Fortune\\'s Publisher From 1953 to 1967 | work=[[New York Times]] | date=January 15, 1991 | accessdate=August 2, 2011 | pages=D19}}&lt;/ref&gt;) was an American editor and publisher.  Born in [[Newark, New Jersey]],&lt;ref name=&quot;NYT&quot;/&gt; Paine was the son of author and journalist [[Ralph Delahaye Paine]]. &lt;ref name=&quot;yaleobit&quot;&gt;{{cite book | url=http://mssa.library.yale.edu/obituary_record/1859_1924/1924-25.pdf | title=Obituary Record of Yale Graduates 1924–1925 | publisher=Yale University | date=August 1, 1925 | pages=1396–99}}&lt;/ref&gt; Paine had two younger twin brothers, [[Stuart Douglas Paine]], who became an [[Antarctic]] explorer,&lt;ref&gt;{{cite book|author1=Stuart D. L. Paine|author2=M. L. Paine|title=Footsteps on the ice: the Antarctic diaries of Stuart D. Paine, second Byrd Expedition|url=http://books.google.com/books?id=qy8n8M_34BsC|accessdate=2 August 2011|year=2007|publisher=University of Missouri Press|isbn=978-0-8262-1741-7}}&lt;/ref&gt; and Philbrook Ten Eyck Paine, born 1910.&lt;ref name=&quot;yaleobit&quot;/&gt;  Paine attended [[Yale University]], where he was a member of [[Skull and Bones]],&lt;ref name=&quot;Tap Day 1928&quot;&gt;{{cite news | title=SIXTY MEN TAPPED FOR YALE SOCIETIES: Annual Selection for Senior Bodies of Next Year Is Held on Campus. | work=[[New York Times]] | date=18 May 1928 | accessdate=August 3, 2011 | pages=9}}&lt;/ref&gt; and graduated in 1929.  After college, Paine was a [[Wall Street]] [[Security (finance)|securities]] analyst for [[Edward B. Smith &amp; Co.]].&lt;ref name=&quot;NYT&quot;/&gt;  He became a business editor for \\'\\'[[Time (magazine)|Time]]\\'\\' magazine in 1933.&lt;ref name=&quot;NYT&quot;/&gt;  Following complaints about the content of \\'\\'Time\\'\\' from businesses during the [[Great Depression]], he was offered the choice between a firing and a promotion provided a suitable replacement could be found. Paine lamented &quot;I\\'m about to be fired unless I can find someone who can satisfy \\'\\'Time\\'\\'\\'s advertisers without catering to them.&quot;  Through Yale law professor [[William O. Douglas]], he found that replacement, [[Eliot Janeway]].&lt;ref&gt;{{cite book|author=Michael Janeway|title=The Fall of the House of Roosevelt: Brokers of Ideas and Power from FDR to LBJ|url=http://books.google.com/books?id=aVznzL5a9eAC&amp;pg=PA94|accessdate=3 August 2011|date=July 2006|publisher=Columbia University Press|isbn=978-0-231-13109-4|page=94}}&lt;/ref&gt;  In 1938, he became personal assistant to publisher [[Henry Luce]], the co-founder of \\'\\'Time\\'\\'.&lt;ref name=&quot;NYT&quot;/&gt; During [[World War II]], he was in charge of \\'\\'[[The March of Time]]\\'\\' newsreel series and European operations of [[Time, Inc.]] publications.&lt;ref name=&quot;NYT&quot;/&gt;  When the [[Battle of France|Nazis invaded France]], Paine and other Time, Inc. staffers were forced to flee.&lt;ref name=&quot;Inc1940&quot;&gt;{{cite news|title=\\'\\'Life\\'\\' Refugees from France: Its Paris Staff Joins Great Trek as a World and Era Die|url=http://books.google.com/books?id=zD8EAAAAMBAJ&amp;pg=PA74|accessdate=3 August 2011|newspaper=[[Life (magazine)|Life]]|date=22 July 1940|publisher=Time, Inc.|pages=74–75|issn=0024-3019}}&lt;/ref&gt;  He was later a [[war correspondent]] in the [[Pacific]].&lt;ref name=&quot;NYT&quot;/&gt;  Paine served as managing editor of \\'\\'[[Fortune (magazine)|Fortune]]\\'\\' from 1941 to 1953 and, following the departure of [[Charles Douglas Jackson]], publisher from 1953 to 1967.  During his tenure, the magazine created its famous [[Fortune 500]] list.&lt;ref name=&quot;NYT&quot;/&gt; Paine clashed with Luce and threatened to resign over Luce\\'s desire to make \\'\\'Fortune\\'\\' more overtly pro-business and create an advisory board for the magazine composed of prominent businessmen.&lt;ref&gt;{{cite book|author=Alan Brinkley|title=The publisher: Henry Luce and his American century|url=http://books.google.com/books?id=qbgutcUS3BgC&amp;pg=PA326|accessdate=3 August 2011|date=20 April 2010|publisher=Random House Digital, Inc.|isbn=978-0-679-41444-5|pages=326–327}}&lt;/ref&gt;  Paine also served as publisher of \\'\\'[[Architectural Forum]]\\'\\' from 1954 to 1963 and \\'\\'[[House and Home]]\\'\\' from 1962 to 1963.&lt;ref name=&quot;NYT&quot;/&gt;  In 1947, Paine married [[Nancy White (editor)|Nancy White]], at the time associate fashion editor of \\'\\'[[Good Housekeeping]]\\'\\' and later editor of \\'\\'[[Harper\\'s Bazaar]]\\'\\'.  It was the second marriage for both of them and it later ended in divorce.&lt;ref&gt;{{cite news | url=http://www.time.com/time/magazine/article/0,9171,855865,00.html | title=Milestones, August 4, 1947 | work=[[Time (magazine)|Time]] | date=August 4, 1947 | accessdate=August 3, 2011}}&lt;/ref&gt;&lt;ref&gt;{{cite news | url=http://www.nytimes.com/2002/05/29/obituaries/29WHIT.html | title=Nancy White, Former Editor of Harper\\'s Bazaar, Dies at 85 | work=[[New York Times]] | date=May 29, 2002 | accessdate=August 3, 2011}}&lt;/ref&gt;  At the time of his death, Paine was president and treasurer of the [[Vermont]] real estate holdings company [[Barton Mountain Corporation]].&lt;ref name=&quot;NYT&quot;/&gt;  ==References== {{reflist}}  {{Persondata &lt;!-- Metadata: see [[Wikipedia:Persondata]]. --&gt; | NAME              = Paine, Ralph Delahaye, Jr. | ALTERNATIVE NAMES = | SHORT DESCRIPTION = American journalist | DATE OF BIRTH     = March 31, 1906 | PLACE OF BIRTH    = | DATE OF DEATH     = January 12, 1991 | PLACE OF DEATH    = }} {{DEFAULTSORT:Paine, Ralph Delahaye, Jr.}} [[Category:1906 births]] [[Category:1991 deaths]] [[Category:American editors]] [[Category:American publishers (people)]] [[Category:American male journalists]] [[Category:Yale University alumni]] [[Category:War correspondents of World War II]] [[Category:Fortune (magazine) people]] [[Category:20th-century American writers]]</text>       <sha1>7n54ehw40z3709uubh67qf84scb5ltg</sha1>     </revision>   </page>',\n '  <page>     <title>Ladybellegate House</title>     <ns>0</ns>     <id>32619409</id>     <revision>       <id>491870533</id>       <parentid>469326889</parentid>       <timestamp>2012-05-10T20:46:13Z</timestamp>       <contributor>         <username>Helpful Pixie Bot</username>         <id>14216826</id>       </contributor>       <minor />       <comment>ISBNs (Build KE)</comment>       <model>wikitext</model>       <format>text/x-wiki</format>       <text xml:space=\"preserve\">\\'\\'\\'Ladybellegate House\\'\\'\\', 20 Longsmith Street, [[Gloucester]] GL1 2HT, (National Grid Reference: SO 83003 18556) is a Grade I listed building with [[English Heritage]], reference number 1245726.  ==History== The building is a town house built around 1704 for Edward Wagstaffe.&lt;ref name=eh&gt;[http://list.english-heritage.org.uk/resultsingle.aspx?uid=1245726 Ladybellegate House.] English Heritage. Retrieved 1 August 2011.&lt;/ref&gt; The house is notable for its fine [[Rococo]] plasterwork and carved oak staircase.&lt;ref name=eh/&gt;  [[Robert Raikes|Robert Raikes junior]], founder of [[Sunday Schools]], was born at Ladybellegate House in 1736.&lt;ref&gt;[[Carolyn M. Heighway|Heighway, Carolyn.]] \\'\\'Gloucester: a history and guide.\\'\\' Gloucester: Alan Sutton Publishing Limited, 1985, p. 135. ISBN 0-86299-256-7&lt;/ref&gt; He also lived there from 1757 to 1772.&lt;ref name=eh/&gt;  From 1740 to 1743, the house was let to Henry Guise of Elmore during which time it was remodelled to include fine moulded panels incorporating the swan crest of the Guise family.&lt;ref name=eh/&gt;  ==Restoration== The building was acquired from the Post Office by the [[Gloucester Civic Trust]] in 1978. A loan from the [[Architectural Heritage Fund]] was combined with a successful fund raising to enable the building to be restored and the house was reopened by HRH Princess Anne in 1979. It was the trust\\'s first major restoration. The building was subsequently sold and the proceeds placed in the \\'\\'Gloucester Historic Buildings Fund\\'\\', which is run jointly by Gloucester Historic Buildings Ltd and Gloucester City Council.&lt;ref&gt;[http://www.gloucestercivictrust.org.uk/gloucester-civic-trust/ladybellegate-house.html Achievements: Ladybellegate House.] [[Gloucester Civic Trust]] 2010. Retrieved 2 August 2011.&lt;/ref&gt;&lt;ref&gt;[http://www.gloucestercivictrust.org/committees/glos-historic-buildings.html Affiliated organisations and committees.] [[Gloucester Civic Trust]] 2010. Retrieved 2 August 2011.&lt;/ref&gt;  Today the building is used as offices.  == References == {{Reflist}}  ==Further reading== *Rogers, M. \\'\\'Ladybellegate House, Gloucester and Robert Raikes\\'\\'. Gloucester: Gloucestershire Record Office, 1975.  ==External links== *[http://i1119.photobucket.com/albums/k621/photoarchive365/LadybellegateHouseGloucester.jpg?t=1312328165 Photograph of Ladybellegate House.] {{coord|51.8653|-2.2482|type:landmark_region:GB|display=title}}  [[Category:Grade I listed buildings in Gloucestershire]] [[Category:Houses completed in 1704]] [[Category:Buildings and structures in Gloucester]] [[Category:History of Gloucester]]</text>       <sha1>h8fwfsrfz40c5v8q8yv3pgozd6dgcag</sha1>     </revision>   </page>',\n '  <page>     <title>Yei language</title>     <ns>0</ns>     <id>32619412</id>     <revision>       <id>659066175</id>       <parentid>636835904</parentid>       <timestamp>2015-04-25T00:05:28Z</timestamp>       <contributor>         <username>Abrahamic Faiths</username>         <id>18381293</id>       </contributor>       <comment>update to ethnologue 18</comment>       <model>wikitext</model>       <format>text/x-wiki</format>       <text xml:space=\"preserve\">{{distinguish|Yei language (Bantu)}} {{Infobox language |name=Yey  |region=[[New Guinea]] |speakers={{sigfig|2390|2}}  |date=2001 |ref=e18 |familycolor=Papuan |fam1=[[Trans-Fly – Bulaka River languages|Trans-Fly – Bulaka River]]? |fam2=[[Yam languages|Yam]] |dia1=Upper |dia2=Lower |iso3=jei |glotto=yeii1239 |glottorefname=Yei }} \\'\\'\\'Yey\\'\\'\\' (Yei, Jei, Je, Yei-Nan) is a [[Papuan language]] of [[Papua New Guinea]]. The Upper and Lower Yey dialects are only [[mutually intelligible]] with difficulty.  ==References== {{Reflist}}  [[Category:Morehead and Upper Maro River languages]]</text>       <sha1>2itf9eoud2cduh26sde5wg4ldeia604</sha1>     </revision>   </page>',\n '  <page>     <title>Yey language</title>     <ns>0</ns>     <id>32619413</id>     <redirect title=\"Yei language\" />     <revision>       <id>442759667</id>       <timestamp>2011-08-02T23:50:00Z</timestamp>       <contributor>         <username>Kwamikagami</username>         <id>93143</id>       </contributor>       <comment>moved [[Yey language]] to [[Yei language]]</comment>       <model>wikitext</model>       <format>text/x-wiki</format>       <text xml:space=\"preserve\">#REDIRECT [[Yei language]]</text>       <sha1>f9an4k3ja30ljsx403f5j3um0q4lyd9</sha1>     </revision>   </page>',\n '  <page>     <title>Nama language (Papua New Guinea)</title>     <ns>0</ns>     <id>32619415</id>     <redirect title=\"Nambu language\" />     <revision>       <id>482500732</id>       <parentid>442759761</parentid>       <timestamp>2012-03-18T07:27:14Z</timestamp>       <contributor>         <username>AvicBot</username>         <id>11952314</id>       </contributor>       <minor />       <comment>Robot: Fixing double redirect to [[Nambu language]]</comment>       <model>wikitext</model>       <format>text/x-wiki</format>       <text xml:space=\"preserve\">#REDIRECT [[Nambu language]]</text>       <sha1>qepvdu9lb7u6rauz8xsys7xlw8pn186</sha1>     </revision>   </page>']"
     ]
    }
   ],
   "source": [
    "data.take(5)"
   ]
  },
  {
   "cell_type": "code",
   "execution_count": 0,
   "metadata": {
    "application/vnd.databricks.v1+cell": {
     "cellMetadata": {
      "byteLimit": 2048000,
      "rowLimit": 10000
     },
     "inputWidgets": {},
     "nuid": "c15abe4f-664c-4699-93d1-6cbaedc6b757",
     "showTitle": false,
     "title": ""
    }
   },
   "outputs": [],
   "source": [
    "from pyspark.sql import SparkSession\n",
    "spark = SparkSession.builder.getOrCreate()"
   ]
  }
 ],
 "metadata": {
  "application/vnd.databricks.v1+notebook": {
   "dashboards": [],
   "environmentMetadata": null,
   "language": "python",
   "notebookMetadata": {
    "mostRecentlyExecutedCommandWithImplicitDF": {
     "commandId": 1242770716911996,
     "dataframes": [
      "_sqldf"
     ]
    },
    "pythonIndentUnit": 2
   },
   "notebookName": "explorando_databricks",
   "widgets": {}
  }
 },
 "nbformat": 4,
 "nbformat_minor": 0
}
