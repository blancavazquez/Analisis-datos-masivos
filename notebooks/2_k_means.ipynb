{
 "cells": [
  {
   "cell_type": "markdown",
   "metadata": {
    "application/vnd.databricks.v1+cell": {
     "cellMetadata": {
      "byteLimit": 2048000,
      "rowLimit": 10000
     },
     "inputWidgets": {},
     "nuid": "bf6aeece-8d71-4ec3-b23a-2e5b562fe4e3",
     "showTitle": false,
     "tableResultSettingsMap": {},
     "title": ""
    },
    "id": "5I4qrFG9-Rvf"
   },
   "source": [
    "# 3. *K-medias con PySpark*\n",
    "\n",
    "\n",
    "                                                              \n",
    "En este notebook haremos una revisión de como usar la técnica de K-medias para tareas de agrupamiento (*clustering*). Esta libreta está basada del material del Mtro. Efraín Condés.\n",
    "\n",
    "## 3.1 Introducción\n",
    "\n",
    "\n",
    "Supongamos que tenemos una coleccion de puntos $\\{\\mathbf{x}_i \\}_{i = 1}^n$ que viven en un espacio $N$-dimensional. Dichos puntos no están asociados a ningun tipo de clase o algo parecido. Sin embargo, nosotros podríamos estar interesados en encontrar elementos *similares* entre si. Los algoritmos de agrupamiento responden a esta necesidad, permitiéndonos crear grupos de objetos, de tal forma que los objetos dentro de un mismo grupo presentan cierto grado de *similaridad*.\n",
    "\n",
    "\n",
    "K-medias (*K-means* en ingles) es una tecnica de agrupamiento, de las muchas que existen. Conceptualmente hablando, un paso difícil de difinir es como medir las similaridad entre objetos. En el caso particular de nuestro conjunto de puntos, la idea de que los puntos *similares* son los que están cerca entre si aparece de forma natural. K-medias hace uso justo esta idea, definiendo como medida de *similaridad* la distancia euclidiana\n",
    "\n",
    "\n",
    "$$\n",
    "d = ||\\mathbf{x} - \\mathbf{y}||_2 = \\sqrt{\\sum_i (x_i-y_i)^2} = \\sqrt{(\\mathbf{x} - \\mathbf{y})^T (\\mathbf{x} - \\mathbf{y})}\n",
    "$$\n",
    "\n",
    "\n",
    "La idea general detrás K-medias es la de encontrar $K$ puntos $\\{\\mu_i\\}_{i=1}^K$ que sirvan para representar grupos de elementos, de forma especifica son los promedios (por eso la palabra medias) de todos los puntos que encuentran en un mismo grupo. Cada punto puede ser asignado unicamente a un grupo, se le asigna al grupo representado por el $\\mu_i$ más cercano.\n",
    "\n",
    "\n",
    "De forma algorítmica, y muy a grosso modo, la técnica de K-medias puede describirse de la siguiente manera\n",
    "\n",
    "\n",
    "1.   Inicializar K puntos $\\mathbf{\\mu}_1, \\mathbf{\\mu}_2, ...,\\mathbf{\\mu}_K$ de forma aleatoria.\n",
    "2.   Encontrar el $\\mathbf{\\mu}_i$ que es mas cercano a cada $\\mathbf{x}_i$, lo cual asignara automaticamente a cada $\\mathbf{x}_i$ un grupo.\n",
    "3.   Recalcule las medias $\\mathbf{\\mu}_1, \\mathbf{\\mu}_2, ...,\\mathbf{\\mu}_K$ usando los grupos encontrados en el paso 2.\n",
    "4. Regrese al paso 2.\n",
    "\n",
    "\n",
    "## 3.2 K-medias con `pyspark.ml`"
   ]
  },
  {
   "cell_type": "markdown",
   "metadata": {
    "application/vnd.databricks.v1+cell": {
     "cellMetadata": {
      "byteLimit": 2048000,
      "rowLimit": 10000
     },
     "inputWidgets": {},
     "nuid": "cd820055-585b-4378-9651-0b711d4160ad",
     "showTitle": false,
     "tableResultSettingsMap": {},
     "title": ""
    },
    "id": "yIF2lMe4Iciv"
   },
   "source": [
    "Para empezar a hacer uso de PySpark es necesario crear una `SparkSession`, dicho objeto es el que nos permitirá crear RDDs o DataFrames, que son los objetos con los que más estaremos trabajando"
   ]
  },
  {
   "cell_type": "code",
   "execution_count": 0,
   "metadata": {
    "application/vnd.databricks.v1+cell": {
     "cellMetadata": {
      "byteLimit": 2048000,
      "rowLimit": 10000
     },
     "inputWidgets": {},
     "nuid": "60510e9f-4b59-46c4-8bac-142cc37d8360",
     "showTitle": false,
     "tableResultSettingsMap": {},
     "title": ""
    },
    "id": "lMl3Yv0SLl73"
   },
   "outputs": [],
   "source": [
    "import pyspark\n",
    "from pyspark.sql import SparkSession\n",
    "spark = SparkSession.builder.appName('k_medias').getOrCreate()"
   ]
  },
  {
   "cell_type": "markdown",
   "metadata": {
    "application/vnd.databricks.v1+cell": {
     "cellMetadata": {
      "byteLimit": 2048000,
      "rowLimit": 10000
     },
     "inputWidgets": {},
     "nuid": "ad683d7c-49aa-4f97-9f95-464f233b9621",
     "showTitle": false,
     "tableResultSettingsMap": {},
     "title": ""
    },
    "id": "XyPsAj8tHXxY"
   },
   "source": [
    "Ademas de `PySpark` usaremos las siguientes bibliotecas"
   ]
  },
  {
   "cell_type": "code",
   "execution_count": 0,
   "metadata": {
    "application/vnd.databricks.v1+cell": {
     "cellMetadata": {
      "byteLimit": 2048000,
      "rowLimit": 10000
     },
     "inputWidgets": {},
     "nuid": "d9ab0562-079f-47d8-8943-51c3655616e4",
     "showTitle": false,
     "tableResultSettingsMap": {},
     "title": ""
    },
    "id": "ayoOqi8JEs8v"
   },
   "outputs": [],
   "source": [
    "import pandas as pd\n",
    "import numpy as np\n",
    "import matplotlib.pyplot as plt\n",
    "from sklearn.datasets import make_blobs\n",
    "from sklearn.metrics import confusion_matrix\n",
    "# Para usar K-medias con pyspark\n",
    "from pyspark.ml.clustering import KMeans, BisectingKMeans, GaussianMixture\n",
    "from pyspark.ml.linalg import Vectors\n",
    "from pyspark.sql import *\n",
    "from pyspark.sql.types import *\n",
    "from pyspark.sql.functions import * "
   ]
  },
  {
   "cell_type": "markdown",
   "metadata": {
    "application/vnd.databricks.v1+cell": {
     "cellMetadata": {
      "byteLimit": 2048000,
      "rowLimit": 10000
     },
     "inputWidgets": {},
     "nuid": "c0a0d5ab-04fe-4549-baf0-534a39bb882b",
     "showTitle": false,
     "tableResultSettingsMap": {},
     "title": ""
    },
    "id": "R8obWI32E9JL"
   },
   "source": [
    "### 3.2.1 Datos\n",
    "\n",
    "\n",
    "Para ilustrar el uso de K-medias creemos la siguiente base de datos"
   ]
  },
  {
   "cell_type": "code",
   "execution_count": 0,
   "metadata": {
    "application/vnd.databricks.v1+cell": {
     "cellMetadata": {
      "byteLimit": 2048000,
      "rowLimit": 10000
     },
     "inputWidgets": {},
     "nuid": "79215156-a088-4827-b2c6-86f99e404d9f",
     "showTitle": false,
     "tableResultSettingsMap": {},
     "title": ""
    },
    "id": "DLBL2k-Gjj8b"
   },
   "outputs": [
    {
     "output_type": "display_data",
     "data": {
      "text/html": [
       "<div>\n",
       "<style scoped>\n",
       "    .dataframe tbody tr th:only-of-type {\n",
       "        vertical-align: middle;\n",
       "    }\n",
       "\n",
       "    .dataframe tbody tr th {\n",
       "        vertical-align: top;\n",
       "    }\n",
       "\n",
       "    .dataframe thead th {\n",
       "        text-align: right;\n",
       "    }\n",
       "</style>\n",
       "<table border=\"1\" class=\"dataframe\">\n",
       "  <thead>\n",
       "    <tr style=\"text-align: right;\">\n",
       "      <th></th>\n",
       "      <th>x</th>\n",
       "      <th>y</th>\n",
       "    </tr>\n",
       "  </thead>\n",
       "  <tbody>\n",
       "    <tr>\n",
       "      <th>0</th>\n",
       "      <td>-10.064160</td>\n",
       "      <td>5.336130</td>\n",
       "    </tr>\n",
       "    <tr>\n",
       "      <th>1</th>\n",
       "      <td>-5.939345</td>\n",
       "      <td>0.293243</td>\n",
       "    </tr>\n",
       "    <tr>\n",
       "      <th>2</th>\n",
       "      <td>-4.282810</td>\n",
       "      <td>0.033378</td>\n",
       "    </tr>\n",
       "    <tr>\n",
       "      <th>3</th>\n",
       "      <td>-3.968270</td>\n",
       "      <td>0.646273</td>\n",
       "    </tr>\n",
       "    <tr>\n",
       "      <th>4</th>\n",
       "      <td>-5.580912</td>\n",
       "      <td>5.119659</td>\n",
       "    </tr>\n",
       "    <tr>\n",
       "      <th>...</th>\n",
       "      <td>...</td>\n",
       "      <td>...</td>\n",
       "    </tr>\n",
       "    <tr>\n",
       "      <th>95</th>\n",
       "      <td>-7.170647</td>\n",
       "      <td>4.874246</td>\n",
       "    </tr>\n",
       "    <tr>\n",
       "      <th>96</th>\n",
       "      <td>-1.692013</td>\n",
       "      <td>0.048707</td>\n",
       "    </tr>\n",
       "    <tr>\n",
       "      <th>97</th>\n",
       "      <td>-5.251409</td>\n",
       "      <td>0.278910</td>\n",
       "    </tr>\n",
       "    <tr>\n",
       "      <th>98</th>\n",
       "      <td>-6.360683</td>\n",
       "      <td>5.023713</td>\n",
       "    </tr>\n",
       "    <tr>\n",
       "      <th>99</th>\n",
       "      <td>-8.071103</td>\n",
       "      <td>2.587660</td>\n",
       "    </tr>\n",
       "  </tbody>\n",
       "</table>\n",
       "<p>100 rows × 2 columns</p>\n",
       "</div>"
      ]
     },
     "metadata": {
      "application/vnd.databricks.v1+output": {
       "addedWidgets": {},
       "arguments": {},
       "data": "<div>\n<style scoped>\n    .dataframe tbody tr th:only-of-type {\n        vertical-align: middle;\n    }\n\n    .dataframe tbody tr th {\n        vertical-align: top;\n    }\n\n    .dataframe thead th {\n        text-align: right;\n    }\n</style>\n<table border=\"1\" class=\"dataframe\">\n  <thead>\n    <tr style=\"text-align: right;\">\n      <th></th>\n      <th>x</th>\n      <th>y</th>\n    </tr>\n  </thead>\n  <tbody>\n    <tr>\n      <th>0</th>\n      <td>-10.064160</td>\n      <td>5.336130</td>\n    </tr>\n    <tr>\n      <th>1</th>\n      <td>-5.939345</td>\n      <td>0.293243</td>\n    </tr>\n    <tr>\n      <th>2</th>\n      <td>-4.282810</td>\n      <td>0.033378</td>\n    </tr>\n    <tr>\n      <th>3</th>\n      <td>-3.968270</td>\n      <td>0.646273</td>\n    </tr>\n    <tr>\n      <th>4</th>\n      <td>-5.580912</td>\n      <td>5.119659</td>\n    </tr>\n    <tr>\n      <th>...</th>\n      <td>...</td>\n      <td>...</td>\n    </tr>\n    <tr>\n      <th>95</th>\n      <td>-7.170647</td>\n      <td>4.874246</td>\n    </tr>\n    <tr>\n      <th>96</th>\n      <td>-1.692013</td>\n      <td>0.048707</td>\n    </tr>\n    <tr>\n      <th>97</th>\n      <td>-5.251409</td>\n      <td>0.278910</td>\n    </tr>\n    <tr>\n      <th>98</th>\n      <td>-6.360683</td>\n      <td>5.023713</td>\n    </tr>\n    <tr>\n      <th>99</th>\n      <td>-8.071103</td>\n      <td>2.587660</td>\n    </tr>\n  </tbody>\n</table>\n<p>100 rows × 2 columns</p>\n</div>",
       "datasetInfos": [],
       "metadata": {},
       "removedWidgets": [],
       "textData": null,
       "type": "htmlSandbox"
      }
     },
     "output_type": "display_data"
    }
   ],
   "source": [
    "puntos, grupos_real = make_blobs(n_samples    = 100, \n",
    "                                 centers      = 2, \n",
    "                                 n_features   = 2, \n",
    "                                 random_state = 12) \n",
    "\n",
    "pdf_kmedias = pd.DataFrame(puntos, columns=['x','y']) #pandas\n",
    "pdf_kmedias"
   ]
  },
  {
   "cell_type": "code",
   "execution_count": 0,
   "metadata": {
    "application/vnd.databricks.v1+cell": {
     "cellMetadata": {
      "byteLimit": 2048000,
      "rowLimit": 10000
     },
     "inputWidgets": {},
     "nuid": "63ff0ab3-b036-4056-bd3f-bc2aa8854dff",
     "showTitle": false,
     "tableResultSettingsMap": {},
     "title": ""
    },
    "colab": {
     "base_uri": "https://localhost:8080/",
     "height": 283
    },
    "id": "ZzV-g9IZLf6H",
    "outputId": "fd2c0aed-b860-44d5-8574-40606dbf61a5"
   },
   "outputs": [
    {
     "output_type": "stream",
     "name": "stdout",
     "output_type": "stream",
     "text": [
      "Out[50]: <matplotlib.collections.PathCollection at 0x77b9f699cb50>"
     ]
    },
    {
     "output_type": "display_data",
     "data": {
      "image/png": "[encoded data removed]"
     },
     "metadata": {
      "application/vnd.databricks.v1+output": {
       "addedWidgets": {},
       "arguments": {},
       "data": "data:image/png;base64,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\n",
       "datasetInfos": [],
       "metadata": {},
       "removedWidgets": [],
       "type": "image"
      }
     },
     "output_type": "display_data"
    }
   ],
   "source": [
    "plt.scatter(pdf_kmedias['x'], pdf_kmedias['y'], c = 'black')"
   ]
  },
  {
   "cell_type": "markdown",
   "metadata": {
    "application/vnd.databricks.v1+cell": {
     "cellMetadata": {
      "byteLimit": 2048000,
      "rowLimit": 10000
     },
     "inputWidgets": {},
     "nuid": "645bb764-359e-4ffb-9455-ea0077c4c688",
     "showTitle": false,
     "tableResultSettingsMap": {},
     "title": ""
    },
    "id": "NHo0ry-wUG41"
   },
   "source": [
    "### 3.2.2 Preparar los datos\n",
    "\n",
    "Para poder usar los modelos de `pyspark.ml` debemos reformatear los datos de la siguiente forma\n"
   ]
  },
  {
   "cell_type": "code",
   "execution_count": 0,
   "metadata": {
    "application/vnd.databricks.v1+cell": {
     "cellMetadata": {
      "byteLimit": 2048000,
      "rowLimit": 10000
     },
     "inputWidgets": {},
     "nuid": "c0fc28bb-e10a-4450-ab5b-106431e0ede4",
     "showTitle": false,
     "tableResultSettingsMap": {},
     "title": ""
    },
    "colab": {
     "base_uri": "https://localhost:8080/"
    },
    "id": "tjtWyGJrURDs",
    "outputId": "9481dfc8-5698-435d-c5e9-3adf98a039b4"
   },
   "outputs": [
    {
     "output_type": "stream",
     "name": "stdout",
     "output_type": "stream",
     "text": [
      "+----------------------------------------+\n|variables                               |\n+----------------------------------------+\n|[-10.064159673950533,5.3361298235882115]|\n|[-5.93934529638521,0.2932430254612975]  |\n|[-4.282810462818456,0.03337804988534199]|\n|[-3.9682695610300134,0.6462729900646167]|\n|[-5.580911813734784,5.119659218324231]  |\n+----------------------------------------+\nonly showing top 5 rows\n\n"
     ]
    }
   ],
   "source": [
    "# Da formato para poder usar datos en modelos de pyspark.ml\n",
    "\n",
    "df_raw =  spark.createDataFrame(pdf_kmedias) #convertir pandas a DataFrame de Spark\n",
    "\n",
    "df_kmedias = df_raw.withColumn('variables', array(df_raw.columns)) \\\n",
    "                      .rdd.map(lambda renglon: Vectors.dense(renglon.variables))\n",
    "\n",
    "df_kmedias = spark.createDataFrame(df_kmedias.map(Row), ['variables'])\n",
    "\n",
    "df_kmedias.show(5, truncate = False)"
   ]
  },
  {
   "cell_type": "markdown",
   "metadata": {
    "application/vnd.databricks.v1+cell": {
     "cellMetadata": {
      "byteLimit": 2048000,
      "rowLimit": 10000
     },
     "inputWidgets": {},
     "nuid": "09eabe1d-7457-469d-9716-8ef9b8655b8f",
     "showTitle": false,
     "tableResultSettingsMap": {},
     "title": ""
    },
    "id": "7XebxdTkMh9Q"
   },
   "source": [
    "### 3.2.3 Entrenar modelo"
   ]
  },
  {
   "cell_type": "code",
   "execution_count": 0,
   "metadata": {
    "application/vnd.databricks.v1+cell": {
     "cellMetadata": {
      "byteLimit": 2048000,
      "rowLimit": 10000
     },
     "inputWidgets": {},
     "nuid": "cd0f691f-178a-42aa-9f7c-31c80c5fe3e7",
     "showTitle": false,
     "tableResultSettingsMap": {},
     "title": ""
    },
    "id": "mCR04eqpRd3S"
   },
   "outputs": [],
   "source": [
    "# k es el numero de grupos (clusters)\n",
    "kmedias = KMeans(k = 2, seed = 1, featuresCol = 'variables')\n",
    "modelo = kmedias.fit(df_kmedias)"
   ]
  },
  {
   "cell_type": "markdown",
   "metadata": {
    "application/vnd.databricks.v1+cell": {
     "cellMetadata": {
      "byteLimit": 2048000,
      "rowLimit": 10000
     },
     "inputWidgets": {},
     "nuid": "7be285db-c182-4186-9546-57651aa48da9",
     "showTitle": false,
     "tableResultSettingsMap": {},
     "title": ""
    },
    "id": "Nwcq65AlcsGx"
   },
   "source": [
    "### 3.2.4 Hacer predicciones"
   ]
  },
  {
   "cell_type": "code",
   "execution_count": 0,
   "metadata": {
    "application/vnd.databricks.v1+cell": {
     "cellMetadata": {
      "byteLimit": 2048000,
      "rowLimit": 10000
     },
     "inputWidgets": {},
     "nuid": "de5249bc-e038-4832-a2ab-b67f9e2020e7",
     "showTitle": false,
     "tableResultSettingsMap": {},
     "title": ""
    },
    "id": "rb3ISg9sctM-"
   },
   "outputs": [],
   "source": [
    "grupos_pred = modelo.transform(df_kmedias)"
   ]
  },
  {
   "cell_type": "markdown",
   "metadata": {
    "application/vnd.databricks.v1+cell": {
     "cellMetadata": {
      "byteLimit": 2048000,
      "rowLimit": 10000
     },
     "inputWidgets": {},
     "nuid": "fb4acfc7-db2e-4370-a43d-dd506e1f1334",
     "showTitle": false,
     "tableResultSettingsMap": {},
     "title": ""
    },
    "id": "3-bp7p0cdU9N"
   },
   "source": [
    "Pasemoslo a un DataFrame de pandas"
   ]
  },
  {
   "cell_type": "code",
   "execution_count": 0,
   "metadata": {
    "application/vnd.databricks.v1+cell": {
     "cellMetadata": {
      "byteLimit": 2048000,
      "rowLimit": 10000
     },
     "inputWidgets": {},
     "nuid": "20db21b5-d058-4d8e-926e-257bbc86f3a0",
     "showTitle": false,
     "tableResultSettingsMap": {},
     "title": ""
    },
    "colab": {
     "base_uri": "https://localhost:8080/"
    },
    "id": "RREgDf0Xc2R-",
    "outputId": "d2838098-051b-4132-8e9c-6e0d925ff608"
   },
   "outputs": [
    {
     "output_type": "stream",
     "name": "stderr",
     "output_type": "stream",
     "text": [
      "/databricks/spark/python/pyspark/sql/pandas/conversion.py:122: UserWarning: toPandas attempted Arrow optimization because 'spark.sql.execution.arrow.pyspark.enabled' is set to true; however, failed by the reason below:\n  Unable to convert the field variables. If this column is not necessary, you may consider dropping it or converting to primitive type before the conversion.\nDirect cause: Unsupported type in conversion to Arrow: VectorUDT()\nAttempting non-optimization as 'spark.sql.execution.arrow.pyspark.fallback.enabled' is set to true.\n  warn(msg)\n"
     ]
    }
   ],
   "source": [
    "grupos_pred = grupos_pred.toPandas()\n",
    "grupos_pred = grupos_pred['prediction']"
   ]
  },
  {
   "cell_type": "markdown",
   "metadata": {
    "application/vnd.databricks.v1+cell": {
     "cellMetadata": {
      "byteLimit": 2048000,
      "rowLimit": 10000
     },
     "inputWidgets": {},
     "nuid": "a405d229-1ac8-4873-bec9-f772dc04a323",
     "showTitle": false,
     "tableResultSettingsMap": {},
     "title": ""
    },
    "id": "u5VgUcLVeRYH"
   },
   "source": [
    "Cambiamos a colores para graficar"
   ]
  },
  {
   "cell_type": "code",
   "execution_count": 0,
   "metadata": {
    "application/vnd.databricks.v1+cell": {
     "cellMetadata": {
      "byteLimit": 2048000,
      "rowLimit": 10000
     },
     "inputWidgets": {},
     "nuid": "2c2c95fd-724b-4bca-9736-d1884bcabf1e",
     "showTitle": false,
     "tableResultSettingsMap": {},
     "title": ""
    },
    "id": "GTz0w-yMeWZW"
   },
   "outputs": [],
   "source": [
    "grupos_colores = []\n",
    "\n",
    "for g in grupos_pred:\n",
    "  if g == 1:\n",
    "    grupos_colores.append('blue')\n",
    "  else:\n",
    "    grupos_colores.append('red')"
   ]
  },
  {
   "cell_type": "code",
   "execution_count": 0,
   "metadata": {
    "application/vnd.databricks.v1+cell": {
     "cellMetadata": {
      "byteLimit": 2048000,
      "rowLimit": 10000
     },
     "inputWidgets": {},
     "nuid": "91245f16-080e-4a83-a04e-1070ecf48970",
     "showTitle": false,
     "tableResultSettingsMap": {},
     "title": ""
    },
    "colab": {
     "base_uri": "https://localhost:8080/",
     "height": 283
    },
    "id": "htEE4z2Vc5LP",
    "outputId": "504ab58c-79e3-4290-adb6-579275d90f78"
   },
   "outputs": [
    {
     "output_type": "stream",
     "name": "stdout",
     "output_type": "stream",
     "text": [
      "Out[56]: <matplotlib.collections.PathCollection at 0x77b9efcabfa0>"
     ]
    },
    {
     "output_type": "display_data",
     "data": {
      "image/png": "[encoded data removed]"
     },
     "metadata": {
      "application/vnd.databricks.v1+output": {
       "addedWidgets": {},
       "arguments": {},
       "data": "data:image/png;base64,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\n",
       "datasetInfos": [],
       "metadata": {},
       "removedWidgets": [],
       "type": "image"
      }
     },
     "output_type": "display_data"
    }
   ],
   "source": [
    "plt.scatter(pdf_kmedias['x'], pdf_kmedias['y'], c = grupos_colores)"
   ]
  },
  {
   "cell_type": "markdown",
   "metadata": {
    "application/vnd.databricks.v1+cell": {
     "cellMetadata": {
      "byteLimit": 2048000,
      "rowLimit": 10000
     },
     "inputWidgets": {},
     "nuid": "7645e28c-7e49-4900-b738-dcfa100a6c66",
     "showTitle": false,
     "tableResultSettingsMap": {},
     "title": ""
    },
    "id": "dN6wunnypAu5"
   },
   "source": [
    "### 3.2.5 Evaluar modelo\n",
    "\n",
    "\n",
    "Podemos evaluar el modelo calculando la matriz de confusión"
   ]
  },
  {
   "cell_type": "code",
   "execution_count": 0,
   "metadata": {
    "application/vnd.databricks.v1+cell": {
     "cellMetadata": {
      "byteLimit": 2048000,
      "rowLimit": 10000
     },
     "inputWidgets": {},
     "nuid": "743d7ee6-de67-49d2-9000-74052059abab",
     "showTitle": false,
     "tableResultSettingsMap": {},
     "title": ""
    },
    "colab": {
     "base_uri": "https://localhost:8080/",
     "height": 269
    },
    "id": "pyY_AuX5eKmo",
    "outputId": "d35cd75f-77b9-4e79-c1f2-64a248c83dfe"
   },
   "outputs": [
    {
     "output_type": "display_data",
     "data": {
      "image/png": "[encoded data removed]"
     },
     "metadata": {
      "application/vnd.databricks.v1+output": {
       "addedWidgets": {},
       "arguments": {},
       "data": "data:image/png;base64,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\n",
       "datasetInfos": [],
       "metadata": {},
       "removedWidgets": [],
       "type": "image"
      }
     },
     "output_type": "display_data"
    }
   ],
   "source": [
    "mat_cnf = confusion_matrix(grupos_real, grupos_pred)\n",
    "plt.imshow(mat_cnf, cmap='hot', interpolation='nearest')\n",
    "plt.show()"
   ]
  },
  {
   "cell_type": "markdown",
   "metadata": {
    "application/vnd.databricks.v1+cell": {
     "cellMetadata": {
      "byteLimit": 2048000,
      "rowLimit": 10000
     },
     "inputWidgets": {},
     "nuid": "6141a40f-0e95-4d7d-9dc6-a785922df1c1",
     "showTitle": false,
     "tableResultSettingsMap": {},
     "title": ""
    },
    "id": "NNXYmLrgrYao"
   },
   "source": [
    "## 3.3 Otras formas de agrupar\n",
    "### 3.3.1 K-medias con distancia coseno"
   ]
  },
  {
   "cell_type": "code",
   "execution_count": 0,
   "metadata": {
    "application/vnd.databricks.v1+cell": {
     "cellMetadata": {
      "byteLimit": 2048000,
      "rowLimit": 10000
     },
     "inputWidgets": {},
     "nuid": "99f32ac6-a45f-46ec-afb2-26d3778128e2",
     "showTitle": false,
     "tableResultSettingsMap": {},
     "title": ""
    },
    "colab": {
     "base_uri": "https://localhost:8080/",
     "height": 269
    },
    "id": "6syVHbLep0ca",
    "outputId": "dfa0c89e-0293-4f76-9f5b-652b096ac34e"
   },
   "outputs": [
    {
     "output_type": "stream",
     "name": "stderr",
     "output_type": "stream",
     "text": [
      "/databricks/spark/python/pyspark/sql/pandas/conversion.py:122: UserWarning: toPandas attempted Arrow optimization because 'spark.sql.execution.arrow.pyspark.enabled' is set to true; however, failed by the reason below:\n  Unable to convert the field variables. If this column is not necessary, you may consider dropping it or converting to primitive type before the conversion.\nDirect cause: Unsupported type in conversion to Arrow: VectorUDT()\nAttempting non-optimization as 'spark.sql.execution.arrow.pyspark.fallback.enabled' is set to true.\n  warn(msg)\n"
     ]
    },
    {
     "output_type": "display_data",
     "data": {
      "image/png": "[encoded data removed]"
     },
     "metadata": {
      "application/vnd.databricks.v1+output": {
       "addedWidgets": {},
       "arguments": {},
       "data": "data:image/png;base64,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\n",
       "datasetInfos": [],
       "metadata": {},
       "removedWidgets": [],
       "type": "image"
      }
     },
     "output_type": "display_data"
    }
   ],
   "source": [
    "kmedias = KMeans(k = 2, seed = 1, featuresCol = 'variables', distanceMeasure = 'cosine')\n",
    "modelo = kmedias.fit(df_kmedias)\n",
    "grupos_pred = modelo.transform(df_kmedias)\n",
    "grupos_pred = grupos_pred.toPandas()\n",
    "grupos_pred = grupos_pred['prediction']\n",
    "grupos_pred[:5]\n",
    "\n",
    "mat_cnf = confusion_matrix(grupos_real, grupos_pred)\n",
    "plt.imshow(mat_cnf, cmap='hot', interpolation='nearest')\n",
    "plt.show()"
   ]
  },
  {
   "cell_type": "markdown",
   "metadata": {
    "application/vnd.databricks.v1+cell": {
     "cellMetadata": {
      "byteLimit": 2048000,
      "rowLimit": 10000
     },
     "inputWidgets": {},
     "nuid": "c8e1bf7c-ed4e-4362-a127-42a9c9e7c556",
     "showTitle": false,
     "tableResultSettingsMap": {},
     "title": ""
    },
    "id": "im8Cl2nTsIZx"
   },
   "source": [
    "### 3.3.2 *Gaussian mixture models*"
   ]
  },
  {
   "cell_type": "code",
   "execution_count": 0,
   "metadata": {
    "application/vnd.databricks.v1+cell": {
     "cellMetadata": {
      "byteLimit": 2048000,
      "rowLimit": 10000
     },
     "inputWidgets": {},
     "nuid": "21dc4782-40bc-4e1a-bf36-1ba783770c74",
     "showTitle": false,
     "tableResultSettingsMap": {},
     "title": ""
    },
    "colab": {
     "base_uri": "https://localhost:8080/",
     "height": 269
    },
    "id": "1CZA9HcssDDS",
    "outputId": "c68b0f54-fd21-4c24-fea1-4024fedcddc4"
   },
   "outputs": [
    {
     "output_type": "stream",
     "name": "stderr",
     "output_type": "stream",
     "text": [
      "/databricks/spark/python/pyspark/sql/pandas/conversion.py:122: UserWarning: toPandas attempted Arrow optimization because 'spark.sql.execution.arrow.pyspark.enabled' is set to true; however, failed by the reason below:\n  Unable to convert the field variables. If this column is not necessary, you may consider dropping it or converting to primitive type before the conversion.\nDirect cause: Unsupported type in conversion to Arrow: VectorUDT()\nAttempting non-optimization as 'spark.sql.execution.arrow.pyspark.fallback.enabled' is set to true.\n  warn(msg)\n"
     ]
    },
    {
     "output_type": "display_data",
     "data": {
      "image/png": "[encoded data removed]"
     },
     "metadata": {
      "application/vnd.databricks.v1+output": {
       "addedWidgets": {},
       "arguments": {},
       "data": "data:image/png;base64,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\n",
       "datasetInfos": [],
       "metadata": {},
       "removedWidgets": [],
       "type": "image"
      }
     },
     "output_type": "display_data"
    }
   ],
   "source": [
    "kmedias = GaussianMixture(k = 2, seed = 1, featuresCol = 'variables')\n",
    "modelo = kmedias.fit(df_kmedias)\n",
    "grupos_pred = modelo.transform(df_kmedias)\n",
    "grupos_pred = grupos_pred.toPandas()\n",
    "grupos_pred = grupos_pred['prediction']\n",
    "grupos_pred[:5]\n",
    "\n",
    "mat_cnf = confusion_matrix(grupos_real, grupos_pred)\n",
    "plt.imshow(mat_cnf, cmap='hot', interpolation='nearest')\n",
    "plt.show()"
   ]
  }
 ],
 "metadata": {
  "application/vnd.databricks.v1+notebook": {
   "computePreferences": null,
   "dashboards": [],
   "environmentMetadata": null,
   "language": "python",
   "notebookMetadata": {
    "pythonIndentUnit": 2
   },
   "notebookName": "2_k_means",
   "widgets": {}
  },
  "colab": {
   "authorship_tag": "ABX9TyPmsW4pY45EmOPkIOJwaI9k",
   "collapsed_sections": [],
   "include_colab_link": true,
   "mount_file_id": "1kc-smZeq6Rz9IBfi_enzyn9194CIeWNv",
   "name": "3_k_means.ipynb",
   "provenance": [],
   "toc_visible": true
  },
  "kernelspec": {
   "display_name": "Python 3 (ipykernel)",
   "language": "python",
   "name": "python3"
  },
  "language_info": {
   "codemirror_mode": {
    "name": "ipython",
    "version": 3
   },
   "file_extension": ".py",
   "mimetype": "text/x-python",
   "name": "python",
   "nbconvert_exporter": "python",
   "pygments_lexer": "ipython3",
   "version": "3.10.12"
  }
 },
 "nbformat": 4,
 "nbformat_minor": 0
}
