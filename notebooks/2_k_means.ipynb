{
 "cells": [
  {
   "cell_type": "markdown",
   "metadata": {
    "colab_type": "text",
    "id": "view-in-github"
   },
   "source": [
    "<a href=\"https://colab.research.google.com/github/gibranfp/CursoDatosMasivosI/blob/main/2c_k_means.ipynb\" target=\"_parent\"><img src=\"https://colab.research.google.com/assets/colab-badge.svg\" alt=\"Open In Colab\"/></a>"
   ]
  },
  {
   "cell_type": "markdown",
   "metadata": {
    "id": "5I4qrFG9-Rvf"
   },
   "source": [
    "# 3. *K-medias con PySpark*\n",
    "\n",
    "\n",
    "                                                              \n",
    "En este notebook haremos una revisión de como usar la técnica de K-medias para tareas de agrupamiento (*clustering*). Esta libreta está basada del material del Mtro. Efraín Condés.\n",
    "\n",
    "## 3.1 Introducción\n",
    "\n",
    "\n",
    "Supongamos que tenemos una coleccion de puntos $\\{\\mathbf{x}_i \\}_{i = 1}^n$ que viven en un espacio $N$-dimensional. Dichos puntos no están asociados a ningun tipo de clase o algo parecido. Sin embargo, nosotros podríamos estar interesados en encontrar elementos *similares* entre si. Los algoritmos de agrupamiento responden a esta necesidad, permitiéndonos crear grupos de objetos, de tal forma que los objetos dentro de un mismo grupo presentan cierto grado de *similaridad*.\n",
    "\n",
    "\n",
    "K-medias (*K-means* en ingles) es una tecnica de agrupamiento, de las muchas que existen. Conceptualmente hablando, un paso difícil de difinir es como medir las similaridad entre objetos. En el caso particular de nuestro conjunto de puntos, la idea de que los puntos *similares* son los que están cerca entre si aparece de forma natural. K-medias hace uso justo esta idea, definiendo como medida de *similaridad* la distancia euclidiana\n",
    "\n",
    "\n",
    "$$\n",
    "d = ||\\mathbf{x} - \\mathbf{y}||_2 = \\sqrt{\\sum_i (x_i-y_i)^2} = \\sqrt{(\\mathbf{x} - \\mathbf{y})^T (\\mathbf{x} - \\mathbf{y})}\n",
    "$$\n",
    "\n",
    "\n",
    "La idea general detrás K-medias es la de encontrar $K$ puntos $\\{\\mu_i\\}_{i=1}^K$ que sirvan para representar grupos de elementos, de forma especifica son los promedios (por eso la palabra medias) de todos los puntos que encuentran en un mismo grupo. Cada punto puede ser asignado unicamente a un grupo, se le asigna al grupo representado por el $\\mu_i$ más cercano.\n",
    "\n",
    "\n",
    "De forma algorítmica, y muy a grosso modo, la técnica de K-medias puede describirse de la siguiente manera\n",
    "\n",
    "\n",
    "1.   Inicializar K puntos $\\mathbf{\\mu}_1, \\mathbf{\\mu}_2, ...,\\mathbf{\\mu}_K$ de forma aleatoria.\n",
    "2.   Encontrar el $\\mathbf{\\mu}_i$ que es mas cercano a cada $\\mathbf{x}_i$, lo cual asignara automaticamente a cada $\\mathbf{x}_i$ un grupo.\n",
    "3.   Recalcule las medias $\\mathbf{\\mu}_1, \\mathbf{\\mu}_2, ...,\\mathbf{\\mu}_K$ usando los grupos encontrados en el paso 2.\n",
    "4. Regrese al paso 2.\n",
    "\n",
    "\n",
    "Una descripción más detallada de la técnica de K-medias puede encontrarse en la sección 6.1 del libro [A First Course in Machine Learning de Rogers y Girolami](https://www.amazon.com.mx/First-Course-Machine-Learning-English-ebook/dp/B08LGBL9LS/ref=sr_1_1?__mk_es_MX=%C3%85M%C3%85%C5%BD%C3%95%C3%91&dchild=1&keywords=first+course+in+machine+learning&qid=1615361461&sr=8-1)\n",
    "\n",
    "## 3.2 K-medias con `pyspark.ml`\n",
    "\n",
    "\n",
    "Antes de pasar a los ejemplos debemos instalar nuestro entorno de desarrollo con `PySpark`"
   ]
  },
  {
   "cell_type": "code",
   "execution_count": 1,
   "metadata": {
    "colab": {
     "base_uri": "https://localhost:8080/"
    },
    "id": "pSjTC8BUE3Dw",
    "outputId": "1408e574-e88c-4ad1-85b9-dced26ebfba7"
   },
   "outputs": [
    {
     "name": "stdout",
     "output_type": "stream",
     "text": [
      "Requirement already satisfied: pyspark in /usr/local/lib/python3.7/dist-packages (3.1.1)\n",
      "Requirement already satisfied: py4j==0.10.9 in /usr/local/lib/python3.7/dist-packages (from pyspark) (0.10.9)\n",
      "openjdk-8-jdk-headless is already the newest version (8u282-b08-0ubuntu1~18.04).\n",
      "0 upgraded, 0 newly installed, 0 to remove and 29 not upgraded.\n"
     ]
    }
   ],
   "source": [
    "!pip install pyspark\n",
    "!pip install -U -q PyDrive\n",
    "!apt install openjdk-8-jdk-headless -qq\n",
    "import os\n",
    "os.environ[\"JAVA_HOME\"] = \"/usr/lib/jvm/java-8-openjdk-amd64\""
   ]
  },
  {
   "cell_type": "markdown",
   "metadata": {
    "id": "yIF2lMe4Iciv"
   },
   "source": [
    "Para empezar a hacer uso de PySpark es necesario crear una `SparkSession`, dicho objeto es el que nos permitirá crear RDDs o DataFrames, que son los objetos con los que más estaremos trabajando"
   ]
  },
  {
   "cell_type": "code",
   "execution_count": 2,
   "metadata": {
    "id": "lMl3Yv0SLl73"
   },
   "outputs": [],
   "source": [
    "import pyspark\n",
    "# Carga ufnciones extra\n",
    "from pyspark.sql import SparkSession\n",
    "spark = SparkSession.builder.appName('k_medias').getOrCreate()"
   ]
  },
  {
   "cell_type": "markdown",
   "metadata": {
    "id": "XyPsAj8tHXxY"
   },
   "source": [
    "Ademas de `PySpark` usaremos las siguientes bibliotecas"
   ]
  },
  {
   "cell_type": "code",
   "execution_count": 22,
   "metadata": {
    "id": "ayoOqi8JEs8v"
   },
   "outputs": [],
   "source": [
    "import pandas as pd\n",
    "import numpy as np\n",
    "import matplotlib.pyplot as plt\n",
    "from sklearn.datasets import make_blobs\n",
    "from sklearn.metrics import confusion_matrix\n",
    "# Para usar K-medias con pyspark\n",
    "from pyspark.ml.clustering import KMeans, BisectingKMeans, GaussianMixture\n",
    "from pyspark.ml.linalg import Vectors\n",
    "from pyspark.sql import *\n",
    "from pyspark.sql.types import *\n",
    "from pyspark.sql.functions import * "
   ]
  },
  {
   "cell_type": "markdown",
   "metadata": {
    "id": "R8obWI32E9JL"
   },
   "source": [
    "### 3.2.1 Datos\n",
    "\n",
    "\n",
    "Para ilustrar el uso de K-medias creemos la siguiente base de datos y para poder graficar los guardemoslos en un DF de pandas"
   ]
  },
  {
   "cell_type": "code",
   "execution_count": 35,
   "metadata": {
    "id": "DLBL2k-Gjj8b"
   },
   "outputs": [],
   "source": [
    "puntos, grupos_real = make_blobs(n_samples    = 100, \n",
    "                                 centers      = 2, \n",
    "                                 n_features   = 2, \n",
    "                                 random_state = 12) \n",
    "\n",
    "pdf_kmedias = pd.DataFrame(puntos, columns=['x','y'])"
   ]
  },
  {
   "cell_type": "markdown",
   "metadata": {
    "id": "MCbawS7bL_bN"
   },
   "source": [
    "grafiquemos los datos"
   ]
  },
  {
   "cell_type": "code",
   "execution_count": 36,
   "metadata": {
    "colab": {
     "base_uri": "https://localhost:8080/",
     "height": 283
    },
    "id": "ZzV-g9IZLf6H",
    "outputId": "fd2c0aed-b860-44d5-8574-40606dbf61a5"
   },
   "outputs": [
    {
     "data": {
      "text/plain": [
       "<matplotlib.collections.PathCollection at 0x7fe538200890>"
      ]
     },
     "execution_count": 36,
     "metadata": {
      "tags": []
     },
     "output_type": "execute_result"
    },
    {
     "data": {
      "image/png": "[encoded data removed]",
      "text/plain": [
       "<Figure size 432x288 with 1 Axes>"
      ]
     },
     "metadata": {
      "needs_background": "light",
      "tags": []
     },
     "output_type": "display_data"
    }
   ],
   "source": [
    "plt.scatter(pdf_kmedias['x'], pdf_kmedias['y'], c = 'black')"
   ]
  },
  {
   "cell_type": "markdown",
   "metadata": {
    "id": "NHo0ry-wUG41"
   },
   "source": [
    "### 3.2.2 Preparar los datos\n",
    "\n",
    "Para poder usar los modelos de `pyspark.ml` debemos reformatear los datos de la siguiente forma\n"
   ]
  },
  {
   "cell_type": "code",
   "execution_count": 37,
   "metadata": {
    "colab": {
     "base_uri": "https://localhost:8080/"
    },
    "id": "tjtWyGJrURDs",
    "outputId": "9481dfc8-5698-435d-c5e9-3adf98a039b4"
   },
   "outputs": [
    {
     "name": "stdout",
     "output_type": "stream",
     "text": [
      "+----------------------------------------+\n",
      "|variables                               |\n",
      "+----------------------------------------+\n",
      "|[-10.064159673950533,5.3361298235882115]|\n",
      "|[-5.93934529638521,0.2932430254612975]  |\n",
      "|[-4.282810462818456,0.03337804988534199]|\n",
      "|[-3.9682695610300134,0.6462729900646167]|\n",
      "|[-5.580911813734784,5.119659218324231]  |\n",
      "+----------------------------------------+\n",
      "only showing top 5 rows\n",
      "\n"
     ]
    }
   ],
   "source": [
    "# Da formato para poder usar datos en modelos de pyspark.ml\n",
    "\n",
    "df_brutos = spark.createDataFrame(pdf_kmedias)\n",
    "\n",
    "df_kmedias = df_brutos.withColumn('variables', array(df_brutos.columns)) \\\n",
    "                      .rdd.map(lambda renglon: Vectors.dense(renglon.variables))\n",
    "\n",
    "df_kmedias = spark.createDataFrame(df_kmedias.map(Row), ['variables'])\n",
    "\n",
    "df_kmedias.show(5, truncate = False)"
   ]
  },
  {
   "cell_type": "markdown",
   "metadata": {
    "id": "7XebxdTkMh9Q"
   },
   "source": [
    "### 3.2.3 Entrenar modelo\n",
    "\n",
    "A *ojo de buen cubero* se pueden distinguir dos grupos. Usemos K-medias para encontrar estos grupos. Entrenemos al modelo"
   ]
  },
  {
   "cell_type": "code",
   "execution_count": 44,
   "metadata": {
    "id": "mCR04eqpRd3S"
   },
   "outputs": [],
   "source": [
    "# k es el numero de grupos (clusters)\n",
    "kmedias = KMeans(k = 2, seed = 1, featuresCol = 'variables')\n",
    "modelo = kmedias.fit(df_kmedias)"
   ]
  },
  {
   "cell_type": "markdown",
   "metadata": {
    "id": "Nwcq65AlcsGx"
   },
   "source": [
    "### 3.2.4 Hacer predicciones\n",
    "\n",
    "Hagamos las predicciones"
   ]
  },
  {
   "cell_type": "code",
   "execution_count": 45,
   "metadata": {
    "id": "rb3ISg9sctM-"
   },
   "outputs": [],
   "source": [
    "grupos_pred = modelo.transform(df_kmedias)"
   ]
  },
  {
   "cell_type": "markdown",
   "metadata": {
    "id": "3-bp7p0cdU9N"
   },
   "source": [
    "Pasemoslo a un DataFrame de pandas"
   ]
  },
  {
   "cell_type": "code",
   "execution_count": 46,
   "metadata": {
    "colab": {
     "base_uri": "https://localhost:8080/"
    },
    "id": "RREgDf0Xc2R-",
    "outputId": "d2838098-051b-4132-8e9c-6e0d925ff608"
   },
   "outputs": [
    {
     "data": {
      "text/plain": [
       "0    0\n",
       "1    1\n",
       "2    1\n",
       "3    1\n",
       "4    0\n",
       "Name: prediction, dtype: int32"
      ]
     },
     "execution_count": 46,
     "metadata": {
      "tags": []
     },
     "output_type": "execute_result"
    }
   ],
   "source": [
    "grupos_pred = grupos_pred.toPandas()\n",
    "grupos_pred = grupos_pred['prediction']\n",
    "grupos_pred[:5]"
   ]
  },
  {
   "cell_type": "markdown",
   "metadata": {
    "id": "u5VgUcLVeRYH"
   },
   "source": [
    "Cambiamos a colores para graficar"
   ]
  },
  {
   "cell_type": "code",
   "execution_count": 47,
   "metadata": {
    "id": "GTz0w-yMeWZW"
   },
   "outputs": [],
   "source": [
    "grupos_colores = []\n",
    "\n",
    "for g in grupos_pred:\n",
    "  if g == 1:\n",
    "    grupos_colores.append('blue')\n",
    "  else:\n",
    "    grupos_colores.append('red')"
   ]
  },
  {
   "cell_type": "markdown",
   "metadata": {
    "id": "HdDm6ihHebbC"
   },
   "source": [
    "graficamos"
   ]
  },
  {
   "cell_type": "code",
   "execution_count": 48,
   "metadata": {
    "colab": {
     "base_uri": "https://localhost:8080/",
     "height": 283
    },
    "id": "htEE4z2Vc5LP",
    "outputId": "504ab58c-79e3-4290-adb6-579275d90f78"
   },
   "outputs": [
    {
     "data": {
      "text/plain": [
       "<matplotlib.collections.PathCollection at 0x7fe5380b9350>"
      ]
     },
     "execution_count": 48,
     "metadata": {
      "tags": []
     },
     "output_type": "execute_result"
    },
    {
     "data": {
      "image/png": "[encoded data removed]",
      "text/plain": [
       "<Figure size 432x288 with 1 Axes>"
      ]
     },
     "metadata": {
      "needs_background": "light",
      "tags": []
     },
     "output_type": "display_data"
    }
   ],
   "source": [
    "plt.scatter(pdf_kmedias['x'], pdf_kmedias['y'], c = grupos_colores)"
   ]
  },
  {
   "cell_type": "markdown",
   "metadata": {
    "id": "dN6wunnypAu5"
   },
   "source": [
    "### 3.2.5 Evaluar modelo\n",
    "\n",
    "\n",
    "Podemos evaluar el modelo calculando la matriz de confusión"
   ]
  },
  {
   "cell_type": "code",
   "execution_count": 49,
   "metadata": {
    "colab": {
     "base_uri": "https://localhost:8080/",
     "height": 269
    },
    "id": "pyY_AuX5eKmo",
    "outputId": "d35cd75f-77b9-4e79-c1f2-64a248c83dfe"
   },
   "outputs": [
    {
     "data": {
      "image/png": "[encoded data removed]",
      "text/plain": [
       "<Figure size 432x288 with 1 Axes>"
      ]
     },
     "metadata": {
      "needs_background": "light",
      "tags": []
     },
     "output_type": "display_data"
    }
   ],
   "source": [
    "mat_cnf = confusion_matrix(grupos_real, grupos_pred)\n",
    "plt.imshow(mat_cnf, cmap='hot', interpolation='nearest')\n",
    "plt.show()"
   ]
  },
  {
   "cell_type": "markdown",
   "metadata": {
    "id": "NNXYmLrgrYao"
   },
   "source": [
    "Notemos que probablemente el grupo real 1 hace referencia al grupo 0 predecido, debido a que no asignamos explícitamente etiquetas a los grupos, el comportamiento ideal sera cuando la mayor cantidad de clasificaciones aparezcan en cualquiera de las dos diagonales.\n",
    "\n",
    "\n",
    "## 3.3 Otras formas de agrupar\n",
    "A continuación presentamos más formas de realizar la tarea de agrupamiento en PySpark, las explicaciones de cada una de estas técnicas escapan a los propósitos de este notebook. Si el lector lo desea, deberá investigar por si mismo la teoría detrás de cada uno de estos\n",
    "\n",
    "\n",
    "### 3.3.1 K-medias con distancia coseno"
   ]
  },
  {
   "cell_type": "code",
   "execution_count": 54,
   "metadata": {
    "colab": {
     "base_uri": "https://localhost:8080/",
     "height": 269
    },
    "id": "6syVHbLep0ca",
    "outputId": "dfa0c89e-0293-4f76-9f5b-652b096ac34e"
   },
   "outputs": [
    {
     "data": {
      "image/png": "[encoded data removed]",
      "text/plain": [
       "<Figure size 432x288 with 1 Axes>"
      ]
     },
     "metadata": {
      "needs_background": "light",
      "tags": []
     },
     "output_type": "display_data"
    }
   ],
   "source": [
    "kmedias = KMeans(k = 2, seed = 1, featuresCol = 'variables', distanceMeasure = 'cosine')\n",
    "modelo = kmedias.fit(df_kmedias)\n",
    "grupos_pred = modelo.transform(df_kmedias)\n",
    "grupos_pred = grupos_pred.toPandas()\n",
    "grupos_pred = grupos_pred['prediction']\n",
    "grupos_pred[:5]\n",
    "\n",
    "mat_cnf = confusion_matrix(grupos_real, grupos_pred)\n",
    "plt.imshow(mat_cnf, cmap='hot', interpolation='nearest')\n",
    "plt.show()"
   ]
  },
  {
   "cell_type": "markdown",
   "metadata": {
    "id": "im8Cl2nTsIZx"
   },
   "source": [
    "### 3.3.2 *Gaussian mixture models*"
   ]
  },
  {
   "cell_type": "code",
   "execution_count": 55,
   "metadata": {
    "colab": {
     "base_uri": "https://localhost:8080/",
     "height": 269
    },
    "id": "1CZA9HcssDDS",
    "outputId": "c68b0f54-fd21-4c24-fea1-4024fedcddc4"
   },
   "outputs": [
    {
     "data": {
      "image/png": "[encoded data removed]",
      "text/plain": [
       "<Figure size 432x288 with 1 Axes>"
      ]
     },
     "metadata": {
      "needs_background": "light",
      "tags": []
     },
     "output_type": "display_data"
    }
   ],
   "source": [
    "kmedias = GaussianMixture(k = 2, seed = 1, featuresCol = 'variables')\n",
    "modelo = kmedias.fit(df_kmedias)\n",
    "grupos_pred = modelo.transform(df_kmedias)\n",
    "grupos_pred = grupos_pred.toPandas()\n",
    "grupos_pred = grupos_pred['prediction']\n",
    "grupos_pred[:5]\n",
    "\n",
    "mat_cnf = confusion_matrix(grupos_real, grupos_pred)\n",
    "plt.imshow(mat_cnf, cmap='hot', interpolation='nearest')\n",
    "plt.show()"
   ]
  },
  {
   "cell_type": "markdown",
   "metadata": {
    "id": "bfCu4Glksgys"
   },
   "source": [
    "### 3.3.3 *Bisecting* K-medias"
   ]
  },
  {
   "cell_type": "code",
   "execution_count": 56,
   "metadata": {
    "colab": {
     "base_uri": "https://localhost:8080/",
     "height": 269
    },
    "id": "Ui45dgl-sCDs",
    "outputId": "cf64b569-bb2f-4fc8-b67b-c939410ecc8a"
   },
   "outputs": [
    {
     "data": {
      "image/png": "[encoded data removed]",
      "text/plain": [
       "<Figure size 432x288 with 1 Axes>"
      ]
     },
     "metadata": {
      "needs_background": "light",
      "tags": []
     },
     "output_type": "display_data"
    }
   ],
   "source": [
    "kmedias = BisectingKMeans(k = 2, seed = 1, featuresCol = 'variables')\n",
    "modelo = kmedias.fit(df_kmedias)\n",
    "grupos_pred = modelo.transform(df_kmedias)\n",
    "grupos_pred = grupos_pred.toPandas()\n",
    "grupos_pred = grupos_pred['prediction']\n",
    "grupos_pred[:5]\n",
    "\n",
    "mat_cnf = confusion_matrix(grupos_real, grupos_pred)\n",
    "plt.imshow(mat_cnf, cmap='hot', interpolation='nearest')\n",
    "plt.show()"
   ]
  },
  {
   "cell_type": "markdown",
   "metadata": {
    "id": "cpulHbmYs-7D"
   },
   "source": [
    "## Ejercicio\n",
    "\n",
    "\n",
    "1. Cree su propia base de datos cambiando el sus hiperparámetros de la función `make_blobs`. Grafique (si es posible) sus datos.\n",
    "2. Emplee todos las técnicas de agrupamiento y reporte los resultados.\n",
    "\n"
   ]
  },
  {
   "cell_type": "code",
   "execution_count": null,
   "metadata": {
    "id": "3KNz-3y0t2Hp"
   },
   "outputs": [],
   "source": []
  }
 ],
 "metadata": {
  "colab": {
   "authorship_tag": "ABX9TyPmsW4pY45EmOPkIOJwaI9k",
   "collapsed_sections": [],
   "include_colab_link": true,
   "mount_file_id": "1kc-smZeq6Rz9IBfi_enzyn9194CIeWNv",
   "name": "3_k_means.ipynb",
   "provenance": [],
   "toc_visible": true
  },
  "kernelspec": {
   "display_name": "Python 3 (ipykernel)",
   "language": "python",
   "name": "python3"
  },
  "language_info": {
   "codemirror_mode": {
    "name": "ipython",
    "version": 3
   },
   "file_extension": ".py",
   "mimetype": "text/x-python",
   "name": "python",
   "nbconvert_exporter": "python",
   "pygments_lexer": "ipython3",
   "version": "3.10.12"
  }
 },
 "nbformat": 4,
 "nbformat_minor": 4
}
