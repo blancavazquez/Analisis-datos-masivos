{
 "cells": [
  {
   "cell_type": "markdown",
   "metadata": {
    "application/vnd.databricks.v1+cell": {
     "cellMetadata": {
      "byteLimit": 2048000,
      "rowLimit": 10000
     },
     "inputWidgets": {},
     "nuid": "0d1b7bec-5436-40dd-8c1d-e7ef12ff7d6a",
     "showTitle": false,
     "title": ""
    },
    "id": "rFU1Cyeqw1Zy"
   },
   "source": [
    "## Filtro de Bloom\n",
    "\n",
    "En esta libreta programaremos un filtro de Bloom usando NumPy. Un filtro de Bloom consiste en un arreglo de \\\\(m\\\\) bits inicializados con  \\\\(0\\\\).\n",
    "\n",
    "* Construcción\n",
    "  1. Para cada elemento \\\\(s\\\\) del conjunto, se calculan los valores _hash_ con \\\\(k\\\\) funciones distintas \\\\(h_1(s), h_2(s), \\ldots, h_k(s)\\\\).\n",
    "  2. Los \\\\(k\\\\) bits en las posiciones correspondientes a los \\\\(k\\\\) valores _hash_ se ponen a 1.\n",
    "  \n",
    "* Verificación de pertenencia de un nuevo elemento \\\\(\\tilde{s}\\\\)\n",
    "  1. Calcula los valores _hash_ para \\\\(\\tilde{s}\\\\): \\\\(h_1(\\tilde{s}), h_2(\\tilde{s}), \\ldots , h_k(\\tilde{s})\\\\).\n",
    "  2. Si todos los bits en las posiciones correspondientes a los \\\\(k\\\\) valores _hash_ son 1, entonces el elemento \\\\(\\tilde{s}\\\\) sí pertenece al conjunto, en caso contrario no pertenece.\n",
    "  \n",
    "  \n",
    "Esta libreta está basada del material del Dr. Gibran Fuentes"
   ]
  },
  {
   "cell_type": "code",
   "execution_count": 0,
   "metadata": {
    "application/vnd.databricks.v1+cell": {
     "cellMetadata": {
      "byteLimit": 2048000,
      "rowLimit": 10000
     },
     "inputWidgets": {},
     "nuid": "65191989-baac-429e-83a0-50c1a255c9c5",
     "showTitle": false,
     "title": ""
    },
    "colab": {
     "base_uri": "https://localhost:8080/"
    },
    "id": "mabqz8MRw1Z0",
    "outputId": "51c2b68a-4c5d-4eee-c9b9-be2a1522152c"
   },
   "outputs": [
    {
     "output_type": "stream",
     "name": "stdout",
     "output_type": "stream",
     "text": [
      "Collecting murmurhash\r\n  Downloading murmurhash-1.0.10-cp39-cp39-manylinux_2_5_x86_64.manylinux1_x86_64.manylinux_2_17_x86_64.manylinux2014_x86_64.whl (29 kB)\r\nInstalling collected packages: murmurhash\r\nSuccessfully installed murmurhash-1.0.10\r\n\u001B[33mWARNING: You are using pip version 21.2.4; however, version 24.2 is available.\r\nYou should consider upgrading via the '/local_disk0/.ephemeral_nfs/envs/pythonEnv-0fc2424d-6f82-464f-9d59-6ed87284c8b4/bin/python -m pip install --upgrade pip' command.\u001B[0m\r\n"
     ]
    }
   ],
   "source": [
    "!pip install murmurhash"
   ]
  },
  {
   "cell_type": "code",
   "execution_count": 0,
   "metadata": {
    "application/vnd.databricks.v1+cell": {
     "cellMetadata": {
      "byteLimit": 2048000,
      "rowLimit": 10000
     },
     "inputWidgets": {},
     "nuid": "466a1940-8098-4848-8daf-598f0f253a65",
     "showTitle": false,
     "title": ""
    },
    "id": "oQODrdPyw1Z2"
   },
   "outputs": [],
   "source": [
    "import numpy as np\n",
    "import murmurhash\n",
    "import warnings\n",
    "warnings.filterwarnings('ignore')\n",
    "\n",
    "class FiltroBloom:  \n",
    "  def __init__(self, n, m, k):  \n",
    "    self.n = n\n",
    "    self.m = m\n",
    "    self.k = k\n",
    "    self.arreglo = np.zeros(n, dtype=np.bool)\n",
    "\n",
    "  def construir(self, s):\n",
    "    for i in range(self.k):\n",
    "      index = murmurhash.mrmr.hash(s, i) % self.n #tener índices dentro del arreglo\n",
    "      self.arreglo[index] = True \n",
    "\n",
    "  def verifica(self, s):\n",
    "    bits = np.zeros(self.k, dtype=np.bool)\n",
    "    #print(bits)\n",
    "    for i in range(self.k):\n",
    "      index = murmurhash.mrmr.hash(s,i) % self.n \n",
    "      bits[i] = self.arreglo[index]\n",
    "      #print(bits)\n",
    "    return np.all(bits) #si todos los elementos son \"1\" regresa True, si alguno de los elementos es \"0\" regresa \"False\""
   ]
  },
  {
   "cell_type": "markdown",
   "metadata": {
    "application/vnd.databricks.v1+cell": {
     "cellMetadata": {
      "byteLimit": 2048000,
      "rowLimit": 10000
     },
     "inputWidgets": {},
     "nuid": "8167c6ca-688e-4912-9cb1-4ff28b013b34",
     "showTitle": false,
     "title": ""
    },
    "id": "HKshUuci0ikk"
   },
   "source": [
    "## Descarga de URLS populares"
   ]
  },
  {
   "cell_type": "code",
   "execution_count": 0,
   "metadata": {
    "application/vnd.databricks.v1+cell": {
     "cellMetadata": {
      "byteLimit": 2048000,
      "rowLimit": 10000
     },
     "inputWidgets": {},
     "nuid": "c6ab27f3-116e-4a5c-be02-3df5dbc7e608",
     "showTitle": false,
     "title": ""
    },
    "colab": {
     "base_uri": "https://localhost:8080/"
    },
    "id": "sl9iIAz8w1Z2",
    "outputId": "a81c9a72-c17a-4a07-a6b0-3a200e51c4a8"
   },
   "outputs": [
    {
     "output_type": "stream",
     "name": "stdout",
     "output_type": "stream",
     "text": [
      "--2024-10-08 21:01:49--  https://gist.githubusercontent.com/demersdesigns/4442cd84c1cc6c5ccda9b19eac1ba52b/raw/cf06109a805b661dd12133f9aa4473435e478569/craft-popular-urls\r\nResolving gist.githubusercontent.com (gist.githubusercontent.com)... 185.199.111.133, 185.199.108.133, 185.199.109.133, ...\r\nConnecting to gist.githubusercontent.com (gist.githubusercontent.com)|185.199.111.133|:443... connected.\r\nHTTP request sent, awaiting response... 200 OK\r\nLength: 2254 (2.2K) [text/plain]\r\nSaving to: ‘craft-popular-urls’\r\n\r\n\rcraft-popular-urls    0%[                    ]       0  --.-KB/s               \rcraft-popular-urls  100%[===================>]   2.20K  --.-KB/s    in 0s      \r\n\r\n2024-10-08 21:01:49 (21.8 MB/s) - ‘craft-popular-urls’ saved [2254/2254]\r\n\r\n"
     ]
    }
   ],
   "source": [
    "!wget https://gist.githubusercontent.com/demersdesigns/4442cd84c1cc6c5ccda9b19eac1ba52b/raw/cf06109a805b661dd12133f9aa4473435e478569/craft-popular-urls"
   ]
  },
  {
   "cell_type": "markdown",
   "metadata": {
    "application/vnd.databricks.v1+cell": {
     "cellMetadata": {
      "byteLimit": 2048000,
      "rowLimit": 10000
     },
     "inputWidgets": {},
     "nuid": "584b4fec-4f46-40f5-bea4-9418fc824082",
     "showTitle": false,
     "title": ""
    },
    "id": "uNKl-EQc0oZD"
   },
   "source": [
    "Leemos la lista de URLs"
   ]
  },
  {
   "cell_type": "code",
   "execution_count": 0,
   "metadata": {
    "application/vnd.databricks.v1+cell": {
     "cellMetadata": {
      "byteLimit": 2048000,
      "rowLimit": 10000
     },
     "inputWidgets": {},
     "nuid": "b1d45c3e-2853-4afc-8ba0-3bc0df0f9b94",
     "showTitle": false,
     "title": ""
    },
    "colab": {
     "base_uri": "https://localhost:8080/"
    },
    "id": "dy_OYFAyw1Z3",
    "outputId": "4eec4b68-9e23-4f03-e6e0-bd6698ccfb2e"
   },
   "outputs": [
    {
     "output_type": "stream",
     "name": "stdout",
     "output_type": "stream",
     "text": [
      "['http://www.youtube.com', 'http://www.facebook.com', 'http://www.baidu.com', 'http://www.yahoo.com', 'http://www.amazon.com', 'http://www.wikipedia.org', 'http://www.qq.com', 'http://www.google.co.in', 'http://www.twitter.com', 'http://www.live.com', 'http://www.taobao.com', 'http://www.bing.com', 'http://www.instagram.com', 'http://www.weibo.com', 'http://www.sina.com.cn', 'http://www.linkedin.com', 'http://www.yahoo.co.jp', 'http://www.msn.com', 'http://www.vk.com', 'http://www.google.de', 'http://www.yandex.ru', 'http://www.hao123.com', 'http://www.google.co.uk', 'http://www.reddit.com', 'http://www.ebay.com', 'http://www.google.fr', 'http://www.t.co', 'http://www.tmall.com', 'http://www.google.com.br', 'http://www.360.cn', 'http://www.sohu.com', 'http://www.amazon.co.jp', 'http://www.pinterest.com', 'http://www.netflix.com', 'http://www.google.it', 'http://www.google.ru', 'http://www.microsoft.com', 'http://www.google.es', 'http://www.wordpress.com', 'http://www.gmw.cn', 'http://www.tumblr.com', 'http://www.paypal.com', 'http://www.blogspot.com', 'http://www.imgur.com', 'http://www.stackoverflow.com', 'http://www.aliexpress.com', 'http://www.naver.com', 'http://www.ok.ru', 'http://www.apple.com', 'http://www.github.com', 'http://www.chinadaily.com.cn', 'http://www.imdb.com', 'http://www.google.co.kr', 'http://www.fc2.com', 'http://www.jd.com', 'http://www.blogger.com', 'http://www.163.com', 'http://www.google.ca', 'http://www.whatsapp.com', 'http://www.amazon.in', 'http://www.office.com', 'http://www.tianya.cn', 'http://www.google.co.id', 'http://www.youku.com', 'http://www.rakuten.co.jp', 'http://www.craigslist.org', 'http://www.amazon.de', 'http://www.nicovideo.jp', 'http://www.google.pl', 'http://www.soso.com', 'http://www.bilibili.com', 'http://www.dropbox.com', 'http://www.xinhuanet.com', 'http://www.outbrain.com', 'http://www.pixnet.net', 'http://www.alibaba.com', 'http://www.alipay.com', 'http://www.microsoftonline.com', 'http://www.booking.com', 'http://www.googleusercontent.com', 'http://www.google.com.au', 'http://www.popads.net', 'http://www.cntv.cn', 'http://www.zhihu.com', 'http://www.amazon.co.uk', 'http://www.diply.com', 'http://www.coccoc.com', 'http://www.cnn.com', 'http://www.bbc.co.uk', 'http://www.twitch.tv', 'http://www.wikia.com', 'http://www.google.co.th', 'http://www.go.com', 'http://www.google.com.ph', 'http://www.doubleclick.net', 'http://www.onet.pl', 'http://www.googleadservices.com', 'http://www.accuweather.com', 'http://www.googleweblight.com', 'http://www.answers.yahoo.com']\n"
     ]
    }
   ],
   "source": [
    "with open('craft-popular-urls') as f:\n",
    "  urls = f.read().split('\\n')\n",
    "print(urls)"
   ]
  },
  {
   "cell_type": "markdown",
   "metadata": {
    "application/vnd.databricks.v1+cell": {
     "cellMetadata": {
      "byteLimit": 2048000,
      "rowLimit": 10000
     },
     "inputWidgets": {},
     "nuid": "2ddb9fc0-659a-4b23-85ec-bee07b87509f",
     "showTitle": false,
     "title": ""
    },
    "id": "90i3caTV0zkJ"
   },
   "source": [
    "Instanciamos la clase y registramos las URLs"
   ]
  },
  {
   "cell_type": "code",
   "execution_count": 0,
   "metadata": {
    "application/vnd.databricks.v1+cell": {
     "cellMetadata": {
      "byteLimit": 2048000,
      "rowLimit": 10000
     },
     "inputWidgets": {},
     "nuid": "b1d25b55-0779-4132-81b9-42fa838b579b",
     "showTitle": false,
     "title": ""
    },
    "id": "ADSKloj-w1Z3"
   },
   "outputs": [],
   "source": [
    "fb = FiltroBloom(1000, len(urls), 5) #instancia de la clase (m,n,k)\n",
    "#Recorremos la lista de URLs y las registramos\n",
    "for u in urls:\n",
    "  fb.construir(u)"
   ]
  },
  {
   "cell_type": "code",
   "execution_count": 0,
   "metadata": {
    "application/vnd.databricks.v1+cell": {
     "cellMetadata": {
      "byteLimit": 2048000,
      "rowLimit": 10000
     },
     "inputWidgets": {},
     "nuid": "342db4f0-0c74-42cd-9c5d-99d05eaa02ef",
     "showTitle": false,
     "title": ""
    },
    "id": "jJ7UHMLG6B_7"
   },
   "outputs": [],
   "source": [
    "#Revisando el arreglo\n",
    "#fb.arreglo"
   ]
  },
  {
   "cell_type": "code",
   "execution_count": 0,
   "metadata": {
    "application/vnd.databricks.v1+cell": {
     "cellMetadata": {
      "byteLimit": 2048000,
      "rowLimit": 10000
     },
     "inputWidgets": {},
     "nuid": "7ac06a0f-32c0-4791-b0bd-bf326b7581ab",
     "showTitle": false,
     "title": ""
    },
    "colab": {
     "base_uri": "https://localhost:8080/"
    },
    "id": "z5YvGjkXw1Z3",
    "outputId": "c123c59e-121d-47c8-dcf4-0bb6ecf2e249"
   },
   "outputs": [
    {
     "output_type": "stream",
     "name": "stdout",
     "output_type": "stream",
     "text": [
      "Proporción de bits distintos a 0 = 0.39\n"
     ]
    }
   ],
   "source": [
    "print(u'Proporción de bits distintos a 0 = {0}'.format(fb.arreglo.nonzero()[0].size / fb.arreglo.size))"
   ]
  },
  {
   "cell_type": "code",
   "execution_count": 0,
   "metadata": {
    "application/vnd.databricks.v1+cell": {
     "cellMetadata": {
      "byteLimit": 2048000,
      "rowLimit": 10000
     },
     "inputWidgets": {},
     "nuid": "2b2f4765-f7a0-4b99-a4c1-7841e7ece341",
     "showTitle": false,
     "title": ""
    },
    "colab": {
     "base_uri": "https://localhost:8080/"
    },
    "id": "eOGOE6ZZw1Z4",
    "outputId": "5d4d520d-3116-4cfb-ad10-b13dcc0d501b"
   },
   "outputs": [
    {
     "output_type": "stream",
     "name": "stdout",
     "output_type": "stream",
     "text": [
      "http://www.youtube.com True\nhttp://www.facebook.com True\nhttp://www.wikipedia.org True\n"
     ]
    }
   ],
   "source": [
    "print(\"http://www.youtube.com\", fb.verifica('http://www.youtube.com'))\n",
    "print(\"http://www.facebook.com\", fb.verifica('http://www.facebook.com'))\n",
    "print(\"http://www.wikipedia.org\", fb.verifica('http://www.wikipedia.org'))"
   ]
  },
  {
   "cell_type": "code",
   "execution_count": 0,
   "metadata": {
    "application/vnd.databricks.v1+cell": {
     "cellMetadata": {
      "byteLimit": 2048000,
      "rowLimit": 10000
     },
     "inputWidgets": {},
     "nuid": "103bc8ac-7f54-4c7d-aff3-26ccc92b9c7e",
     "showTitle": false,
     "title": ""
    },
    "colab": {
     "base_uri": "https://localhost:8080/"
    },
    "id": "w7er52xa2S5O",
    "outputId": "4736b81a-8971-4366-c6df-f1d946f2cee7"
   },
   "outputs": [
    {
     "output_type": "stream",
     "name": "stdout",
     "output_type": "stream",
     "text": [
      "http://www.unam.mx False\nhttp://www.google.es/ False\nhttp://www.google.es True\nhttp://www.twitter.com True\nhttps://www.twitter.com True\nhttps://www.patito.com False\n"
     ]
    }
   ],
   "source": [
    "print(\"http://www.unam.mx\", fb.verifica('http://www.unam.mx'))\n",
    "print(\"http://www.google.es/\", fb.verifica('http://www.google.es/'))\n",
    "print(\"http://www.google.es\", fb.verifica('http://www.google.es'))\n",
    "print(\"http://www.twitter.com\", fb.verifica('http://www.twitter.com'))\n",
    "print(\"https://www.twitter.com\", fb.verifica('https://www.twitter.com'))\n",
    "print(\"https://www.patito.com\", fb.verifica('https://www.patito.com'))"
   ]
  }
 ],
 "metadata": {
  "application/vnd.databricks.v1+notebook": {
   "dashboards": [],
   "environmentMetadata": null,
   "language": "python",
   "notebookMetadata": {
    "pythonIndentUnit": 4
   },
   "notebookName": "3b_Filtro_Bloom",
   "widgets": {}
  },
  "colab": {
   "collapsed_sections": [],
   "include_colab_link": true,
   "name": "4b_Filtro_Bloom.ipynb",
   "provenance": []
  },
  "kernelspec": {
   "display_name": "Python 3",
   "name": "python3"
  },
  "language_info": {
   "name": "python"
  }
 },
 "nbformat": 4,
 "nbformat_minor": 0
}
