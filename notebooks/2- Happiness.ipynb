{
 "cells": [
  {
   "cell_type": "code",
   "execution_count": 0,
   "metadata": {
    "application/vnd.databricks.v1+cell": {
     "cellMetadata": {},
     "inputWidgets": {},
     "nuid": "ddf3cd92-53d8-43b6-bfc9-6fe15a0b98ea",
     "showTitle": false,
     "tableResultSettingsMap": {},
     "title": ""
    }
   },
   "outputs": [
    {
     "output_type": "display_data",
     "data": {
      "text/html": [
       "<style scoped>\n",
       "  .ansiout {\n",
       "    display: block;\n",
       "    unicode-bidi: embed;\n",
       "    white-space: pre-wrap;\n",
       "    word-wrap: break-word;\n",
       "    word-break: break-all;\n",
       "    font-family: \"Menlo\", \"Monaco\", \"Consolas\", \"Ubuntu Mono\", \"Source Code Pro\", monospace;\n",
       "    font-size: 13px;\n",
       "    color: #555;\n",
       "    margin-left: 4px;\n",
       "    line-height: 19px;\n",
       "  }\n",
       "</style>\n",
       "<div class=\"ansiout\"></div>"
      ]
     },
     "metadata": {
      "application/vnd.databricks.v1+output": {
       "addedWidgets": {},
       "arguments": {},
       "data": "<div class=\"ansiout\"></div>",
       "datasetInfos": [
        {
         "name": "df",
         "schema": {
          "fields": [
           {
            "metadata": {},
            "name": "overall rank",
            "nullable": true,
            "type": "integer"
           },
           {
            "metadata": {},
            "name": "country or region",
            "nullable": true,
            "type": "string"
           },
           {
            "metadata": {},
            "name": "score",
            "nullable": true,
            "type": "double"
           },
           {
            "metadata": {},
            "name": "gdp per capita",
            "nullable": true,
            "type": "double"
           },
           {
            "metadata": {},
            "name": "social support",
            "nullable": true,
            "type": "double"
           },
           {
            "metadata": {},
            "name": "healthy life expectancy",
            "nullable": true,
            "type": "double"
           },
           {
            "metadata": {},
            "name": "freedom to make life choices",
            "nullable": true,
            "type": "double"
           },
           {
            "metadata": {},
            "name": "generosity",
            "nullable": true,
            "type": "double"
           },
           {
            "metadata": {},
            "name": "perceptions of corruption",
            "nullable": true,
            "type": "double"
           }
          ],
          "type": "struct"
         },
         "tableIdentifier": null,
         "typeStr": "pyspark.sql.dataframe.DataFrame"
        }
       ],
       "metadata": {},
       "removedWidgets": [],
       "type": "html"
      }
     },
     "output_type": "display_data"
    }
   ],
   "source": [
    "#Opciones CSV\n",
    "file_type = \"csv\"\n",
    "infer_schema = \"true\"\n",
    "first_row_is_header = \"true\"\n",
    "delimiter = \",\"\n",
    "file_location = \"/FileStore/tables/happiness_2019.csv\"\n",
    "\n",
    "# Lectura de datos usando Spark!\n",
    "df = spark.read.format(file_type) \\\n",
    "  .option(\"inferSchema\", infer_schema) \\\n",
    "  .option(\"header\", first_row_is_header) \\\n",
    "  .option(\"sep\", delimiter) \\\n",
    "  .load(file_location)"
   ]
  },
  {
   "cell_type": "code",
   "execution_count": 0,
   "metadata": {
    "application/vnd.databricks.v1+cell": {
     "cellMetadata": {},
     "inputWidgets": {},
     "nuid": "f06fb696-3b48-499b-8798-60a31eaca2c6",
     "showTitle": false,
     "tableResultSettingsMap": {},
     "title": ""
    }
   },
   "outputs": [
    {
     "output_type": "display_data",
     "data": {
      "text/html": [
       "<style scoped>\n",
       "  .table-result-container {\n",
       "    max-height: 300px;\n",
       "    overflow: auto;\n",
       "  }\n",
       "  table, th, td {\n",
       "    border: 1px solid black;\n",
       "    border-collapse: collapse;\n",
       "  }\n",
       "  th, td {\n",
       "    padding: 5px;\n",
       "  }\n",
       "  th {\n",
       "    text-align: left;\n",
       "  }\n",
       "</style><div class='table-result-container'><table class='table-result'><thead style='background-color: white'><tr><th>overall rank</th><th>country or region</th><th>score</th><th>gdp per capita</th><th>social support</th><th>healthy life expectancy</th><th>freedom to make life choices</th><th>generosity</th><th>perceptions of corruption</th></tr></thead><tbody><tr><td>1</td><td>Finland</td><td>7.769</td><td>1.34</td><td>1.587</td><td>0.986</td><td>0.596</td><td>0.153</td><td>0.393</td></tr><tr><td>2</td><td>Denmark</td><td>7.6</td><td>1.383</td><td>1.573</td><td>0.996</td><td>0.592</td><td>0.252</td><td>0.41</td></tr><tr><td>3</td><td>Norway</td><td>7.554</td><td>1.488</td><td>1.582</td><td>1.028</td><td>0.603</td><td>0.271</td><td>0.341</td></tr><tr><td>4</td><td>Iceland</td><td>7.494</td><td>1.38</td><td>1.624</td><td>1.026</td><td>0.591</td><td>0.354</td><td>0.118</td></tr><tr><td>5</td><td>Netherlands</td><td>7.488</td><td>1.396</td><td>1.522</td><td>0.999</td><td>0.557</td><td>0.322</td><td>0.298</td></tr><tr><td>6</td><td>Switzerland</td><td>7.48</td><td>1.452</td><td>1.526</td><td>1.052</td><td>0.572</td><td>0.263</td><td>0.343</td></tr><tr><td>7</td><td>Sweden</td><td>7.343</td><td>1.387</td><td>1.487</td><td>1.009</td><td>0.574</td><td>0.267</td><td>0.373</td></tr><tr><td>8</td><td>New Zealand</td><td>7.307</td><td>1.303</td><td>1.557</td><td>1.026</td><td>0.585</td><td>0.33</td><td>0.38</td></tr><tr><td>9</td><td>Canada</td><td>7.278</td><td>1.365</td><td>1.505</td><td>1.039</td><td>0.584</td><td>0.285</td><td>0.308</td></tr><tr><td>10</td><td>Austria</td><td>7.246</td><td>1.376</td><td>1.475</td><td>1.016</td><td>0.532</td><td>0.244</td><td>0.226</td></tr></tbody></table></div>"
      ]
     },
     "metadata": {
      "application/vnd.databricks.v1+output": {
       "addedWidgets": {},
       "aggData": [],
       "aggError": "",
       "aggOverflow": false,
       "aggSchema": [],
       "aggSeriesLimitReached": false,
       "aggType": "",
       "arguments": {},
       "columnCustomDisplayInfos": {},
       "data": [
        [
         1,
         "Finland",
         7.769,
         1.34,
         1.587,
         0.986,
         0.596,
         0.153,
         0.393
        ],
        [
         2,
         "Denmark",
         7.6,
         1.383,
         1.573,
         0.996,
         0.592,
         0.252,
         0.41
        ],
        [
         3,
         "Norway",
         7.554,
         1.488,
         1.582,
         1.028,
         0.603,
         0.271,
         0.341
        ],
        [
         4,
         "Iceland",
         7.494,
         1.38,
         1.624,
         1.026,
         0.591,
         0.354,
         0.118
        ],
        [
         5,
         "Netherlands",
         7.488,
         1.396,
         1.522,
         0.999,
         0.557,
         0.322,
         0.298
        ],
        [
         6,
         "Switzerland",
         7.48,
         1.452,
         1.526,
         1.052,
         0.572,
         0.263,
         0.343
        ],
        [
         7,
         "Sweden",
         7.343,
         1.387,
         1.487,
         1.009,
         0.574,
         0.267,
         0.373
        ],
        [
         8,
         "New Zealand",
         7.307,
         1.303,
         1.557,
         1.026,
         0.585,
         0.33,
         0.38
        ],
        [
         9,
         "Canada",
         7.278,
         1.365,
         1.505,
         1.039,
         0.584,
         0.285,
         0.308
        ],
        [
         10,
         "Austria",
         7.246,
         1.376,
         1.475,
         1.016,
         0.532,
         0.244,
         0.226
        ]
       ],
       "datasetInfos": [],
       "dbfsResultPath": null,
       "isJsonSchema": true,
       "metadata": {},
       "overflow": false,
       "plotOptions": {
        "customPlotOptions": {
         "barChart": [
          {
           "key": "grouped",
           "value": true
          },
          {
           "key": "stacked",
           "value": false
          },
          {
           "key": "100_stacked",
           "value": false
          }
         ],
         "boxPlot": [],
         "histogram": [
          {
           "key": "bins",
           "value": "20"
          }
         ],
         "mapPlot": [],
         "pieChart": [
          {
           "key": "donut",
           "value": true
          }
         ],
         "qqPlot": [],
         "quantilePlot": [],
         "scatterPlot": [
          {
           "key": "loess",
           "value": false
          },
          {
           "key": "bandwidth",
           "value": 0.3
          }
         ]
        },
        "displayType": "pieChart",
        "pivotAggregation": "avg",
        "pivotColumns": [],
        "xColumns": [
         "country or region"
        ],
        "yColumns": [
         "generosity"
        ]
       },
       "removedWidgets": [],
       "schema": [
        {
         "metadata": "{}",
         "name": "overall rank",
         "type": "\"long\""
        },
        {
         "metadata": "{}",
         "name": "country or region",
         "type": "\"string\""
        },
        {
         "metadata": "{}",
         "name": "score",
         "type": "\"double\""
        },
        {
         "metadata": "{}",
         "name": "gdp per capita",
         "type": "\"double\""
        },
        {
         "metadata": "{}",
         "name": "social support",
         "type": "\"double\""
        },
        {
         "metadata": "{}",
         "name": "healthy life expectancy",
         "type": "\"double\""
        },
        {
         "metadata": "{}",
         "name": "freedom to make life choices",
         "type": "\"double\""
        },
        {
         "metadata": "{}",
         "name": "generosity",
         "type": "\"double\""
        },
        {
         "metadata": "{}",
         "name": "perceptions of corruption",
         "type": "\"double\""
        }
       ],
       "type": "table"
      }
     },
     "output_type": "display_data"
    }
   ],
   "source": [
    "display(df.head(10)) #Muestra el contenido de los primeros 10 registros de la tabla happiness_2019.csv"
   ]
  },
  {
   "cell_type": "code",
   "execution_count": 0,
   "metadata": {
    "application/vnd.databricks.v1+cell": {
     "cellMetadata": {},
     "inputWidgets": {},
     "nuid": "b65f1065-361e-4cdf-a3b7-1d39dd21717f",
     "showTitle": false,
     "tableResultSettingsMap": {},
     "title": ""
    }
   },
   "outputs": [
    {
     "output_type": "display_data",
     "data": {
      "text/html": [
       "<style scoped>\n",
       "  .table-result-container {\n",
       "    max-height: 300px;\n",
       "    overflow: auto;\n",
       "  }\n",
       "  table, th, td {\n",
       "    border: 1px solid black;\n",
       "    border-collapse: collapse;\n",
       "  }\n",
       "  th, td {\n",
       "    padding: 5px;\n",
       "  }\n",
       "  th {\n",
       "    text-align: left;\n",
       "  }\n",
       "</style><div class='table-result-container'><table class='table-result'><thead style='background-color: white'><tr><th>path</th><th>name</th><th>size</th></tr></thead><tbody><tr><td>dbfs:/FileStore/tables/happiness_2019.csv</td><td>happiness_2019.csv</td><td>8510</td></tr></tbody></table></div>"
      ]
     },
     "metadata": {
      "application/vnd.databricks.v1+output": {
       "addedWidgets": {},
       "aggData": [],
       "aggError": "",
       "aggOverflow": false,
       "aggSchema": [],
       "aggSeriesLimitReached": false,
       "aggType": "",
       "arguments": {},
       "columnCustomDisplayInfos": {},
       "data": [
        [
         "dbfs:/FileStore/tables/happiness_2019.csv",
         "happiness_2019.csv",
         8510
        ]
       ],
       "datasetInfos": [],
       "dbfsResultPath": null,
       "isJsonSchema": true,
       "metadata": {},
       "overflow": false,
       "plotOptions": {
        "customPlotOptions": {},
        "displayType": "table",
        "pivotAggregation": null,
        "pivotColumns": null,
        "xColumns": null,
        "yColumns": null
       },
       "removedWidgets": [],
       "schema": [
        {
         "metadata": "{}",
         "name": "path",
         "type": "\"string\""
        },
        {
         "metadata": "{}",
         "name": "name",
         "type": "\"string\""
        },
        {
         "metadata": "{}",
         "name": "size",
         "type": "\"long\""
        }
       ],
       "type": "table"
      }
     },
     "output_type": "display_data"
    }
   ],
   "source": [
    "display(dbutils.fs.ls(\"/FileStore/tables/happiness_2019.csv\")) #dbutils.fs provides utilities for working with FileSystems. "
   ]
  },
  {
   "cell_type": "code",
   "execution_count": 0,
   "metadata": {
    "application/vnd.databricks.v1+cell": {
     "cellMetadata": {},
     "inputWidgets": {},
     "nuid": "0145ad37-0317-464f-80c8-db7b1d8dff9b",
     "showTitle": false,
     "tableResultSettingsMap": {},
     "title": ""
    }
   },
   "outputs": [
    {
     "output_type": "display_data",
     "data": {
      "text/html": [
       "<style scoped>\n",
       "  .ansiout {\n",
       "    display: block;\n",
       "    unicode-bidi: embed;\n",
       "    white-space: pre-wrap;\n",
       "    word-wrap: break-word;\n",
       "    word-break: break-all;\n",
       "    font-family: \"Menlo\", \"Monaco\", \"Consolas\", \"Ubuntu Mono\", \"Source Code Pro\", monospace;\n",
       "    font-size: 13px;\n",
       "    color: #555;\n",
       "    margin-left: 4px;\n",
       "    line-height: 19px;\n",
       "  }\n",
       "</style>\n",
       "<div class=\"ansiout\">Out[3]: [&#39;overall rank,country or region,score,gdp per capita,social support,healthy life expectancy,freedom to make life choices,generosity,perceptions of corruption&#39;,\n",
       " &#39;1,Finland,7.769,1.34,1.587,0.986,0.596,0.153,0.393&#39;,\n",
       " &#39;2,Denmark,7.6,1.383,1.573,0.996,0.592,0.252,0.41&#39;,\n",
       " &#39;3,Norway,7.554,1.488,1.582,1.028,0.603,0.271,0.341&#39;,\n",
       " &#39;4,Iceland,7.494,1.38,1.624,1.026,0.591,0.354,0.118&#39;]</div>"
      ]
     },
     "metadata": {
      "application/vnd.databricks.v1+output": {
       "addedWidgets": {},
       "arguments": {},
       "data": "<div class=\"ansiout\">Out[3]: [&#39;overall rank,country or region,score,gdp per capita,social support,healthy life expectancy,freedom to make life choices,generosity,perceptions of corruption&#39;,\n &#39;1,Finland,7.769,1.34,1.587,0.986,0.596,0.153,0.393&#39;,\n &#39;2,Denmark,7.6,1.383,1.573,0.996,0.592,0.252,0.41&#39;,\n &#39;3,Norway,7.554,1.488,1.582,1.028,0.603,0.271,0.341&#39;,\n &#39;4,Iceland,7.494,1.38,1.624,1.026,0.591,0.354,0.118&#39;]</div>",
       "datasetInfos": [],
       "metadata": {},
       "removedWidgets": [],
       "type": "html"
      }
     },
     "output_type": "display_data"
    }
   ],
   "source": [
    "#Cargamos el archivo hacia un Resilient Distributed Dataset(RDD) \n",
    "data_file = \"/FileStore/tables/happiness_2019.csv\"\n",
    "raw_rdd = sc.textFile(data_file).cache()\n",
    "raw_rdd.take(5) #show the top 5 lines of the file"
   ]
  },
  {
   "cell_type": "code",
   "execution_count": 0,
   "metadata": {
    "application/vnd.databricks.v1+cell": {
     "cellMetadata": {},
     "inputWidgets": {},
     "nuid": "346eb4db-c976-4a41-9c7d-904cac59f1d5",
     "showTitle": false,
     "tableResultSettingsMap": {},
     "title": ""
    }
   },
   "outputs": [
    {
     "output_type": "display_data",
     "data": {
      "text/html": [
       "<style scoped>\n",
       "  .ansiout {\n",
       "    display: block;\n",
       "    unicode-bidi: embed;\n",
       "    white-space: pre-wrap;\n",
       "    word-wrap: break-word;\n",
       "    word-break: break-all;\n",
       "    font-family: \"Menlo\", \"Monaco\", \"Consolas\", \"Ubuntu Mono\", \"Source Code Pro\", monospace;\n",
       "    font-size: 13px;\n",
       "    color: #555;\n",
       "    margin-left: 4px;\n",
       "    line-height: 19px;\n",
       "  }\n",
       "</style>\n",
       "<div class=\"ansiout\">Out[6]: pyspark.rdd.RDD</div>"
      ]
     },
     "metadata": {
      "application/vnd.databricks.v1+output": {
       "addedWidgets": {},
       "arguments": {},
       "data": "<div class=\"ansiout\">Out[6]: pyspark.rdd.RDD</div>",
       "datasetInfos": [],
       "metadata": {},
       "removedWidgets": [],
       "type": "html"
      }
     },
     "output_type": "display_data"
    }
   ],
   "source": [
    "type(raw_rdd)#se imprime el tipo de clase del argumento pasado como parámetro"
   ]
  },
  {
   "cell_type": "code",
   "execution_count": 0,
   "metadata": {
    "application/vnd.databricks.v1+cell": {
     "cellMetadata": {},
     "inputWidgets": {},
     "nuid": "ef5a2b33-c2dc-4780-a856-168e5fef6459",
     "showTitle": false,
     "tableResultSettingsMap": {},
     "title": ""
    }
   },
   "outputs": [
    {
     "output_type": "display_data",
     "data": {
      "text/html": [
       "<style scoped>\n",
       "  .ansiout {\n",
       "    display: block;\n",
       "    unicode-bidi: embed;\n",
       "    white-space: pre-wrap;\n",
       "    word-wrap: break-word;\n",
       "    word-break: break-all;\n",
       "    font-family: \"Menlo\", \"Monaco\", \"Consolas\", \"Ubuntu Mono\", \"Source Code Pro\", monospace;\n",
       "    font-size: 13px;\n",
       "    color: #555;\n",
       "    margin-left: 4px;\n",
       "    line-height: 19px;\n",
       "  }\n",
       "</style>\n",
       "<div class=\"ansiout\">[[&#39;overall rank&#39;, &#39;country or region&#39;, &#39;score&#39;, &#39;gdp per capita&#39;, &#39;social support&#39;, &#39;healthy life expectancy&#39;, &#39;freedom to make life choices&#39;, &#39;generosity&#39;, &#39;perceptions of corruption&#39;], [&#39;1&#39;, &#39;Finland&#39;, &#39;7.769&#39;, &#39;1.34&#39;, &#39;1.587&#39;, &#39;0.986&#39;, &#39;0.596&#39;, &#39;0.153&#39;, &#39;0.393&#39;], [&#39;2&#39;, &#39;Denmark&#39;, &#39;7.6&#39;, &#39;1.383&#39;, &#39;1.573&#39;, &#39;0.996&#39;, &#39;0.592&#39;, &#39;0.252&#39;, &#39;0.41&#39;]]\n",
       "</div>"
      ]
     },
     "metadata": {
      "application/vnd.databricks.v1+output": {
       "addedWidgets": {},
       "arguments": {},
       "data": "<div class=\"ansiout\">[[&#39;overall rank&#39;, &#39;country or region&#39;, &#39;score&#39;, &#39;gdp per capita&#39;, &#39;social support&#39;, &#39;healthy life expectancy&#39;, &#39;freedom to make life choices&#39;, &#39;generosity&#39;, &#39;perceptions of corruption&#39;], [&#39;1&#39;, &#39;Finland&#39;, &#39;7.769&#39;, &#39;1.34&#39;, &#39;1.587&#39;, &#39;0.986&#39;, &#39;0.596&#39;, &#39;0.153&#39;, &#39;0.393&#39;], [&#39;2&#39;, &#39;Denmark&#39;, &#39;7.6&#39;, &#39;1.383&#39;, &#39;1.573&#39;, &#39;0.996&#39;, &#39;0.592&#39;, &#39;0.252&#39;, &#39;0.41&#39;]]\n</div>",
       "datasetInfos": [],
       "metadata": {},
       "removedWidgets": [],
       "type": "html"
      }
     },
     "output_type": "display_data"
    }
   ],
   "source": [
    "#En RDD, es necesario separar cada una de las entradas, antes de parsear y construir un dataframe.\n",
    "csv_rdd = raw_rdd.map(lambda row: row.split(\",\")) \n",
    "print(csv_rdd.take(3))#print 3 rows"
   ]
  },
  {
   "cell_type": "code",
   "execution_count": 0,
   "metadata": {
    "application/vnd.databricks.v1+cell": {
     "cellMetadata": {},
     "inputWidgets": {},
     "nuid": "930b6169-4e76-4103-8eca-959568081926",
     "showTitle": false,
     "tableResultSettingsMap": {},
     "title": ""
    }
   },
   "outputs": [
    {
     "output_type": "display_data",
     "data": {
      "text/html": [
       "<style scoped>\n",
       "  .ansiout {\n",
       "    display: block;\n",
       "    unicode-bidi: embed;\n",
       "    white-space: pre-wrap;\n",
       "    word-wrap: break-word;\n",
       "    word-break: break-all;\n",
       "    font-family: \"Menlo\", \"Monaco\", \"Consolas\", \"Ubuntu Mono\", \"Source Code Pro\", monospace;\n",
       "    font-size: 13px;\n",
       "    color: #555;\n",
       "    margin-left: 4px;\n",
       "    line-height: 19px;\n",
       "  }\n",
       "</style>\n",
       "<div class=\"ansiout\">&lt;class &#39;pyspark.rdd.PipelinedRDD&#39;&gt;\n",
       "</div>"
      ]
     },
     "metadata": {
      "application/vnd.databricks.v1+output": {
       "addedWidgets": {},
       "arguments": {},
       "data": "<div class=\"ansiout\">&lt;class &#39;pyspark.rdd.PipelinedRDD&#39;&gt;\n</div>",
       "datasetInfos": [],
       "metadata": {},
       "removedWidgets": [],
       "type": "html"
      }
     },
     "output_type": "display_data"
    }
   ],
   "source": [
    "print(type(csv_rdd))#print types"
   ]
  },
  {
   "cell_type": "code",
   "execution_count": 0,
   "metadata": {
    "application/vnd.databricks.v1+cell": {
     "cellMetadata": {},
     "inputWidgets": {},
     "nuid": "ad0e1a24-bad7-40fc-a8cb-b6fd9a465565",
     "showTitle": false,
     "tableResultSettingsMap": {},
     "title": ""
    }
   },
   "outputs": [
    {
     "output_type": "display_data",
     "data": {
      "text/html": [
       "<style scoped>\n",
       "  .ansiout {\n",
       "    display: block;\n",
       "    unicode-bidi: embed;\n",
       "    white-space: pre-wrap;\n",
       "    word-wrap: break-word;\n",
       "    word-break: break-all;\n",
       "    font-family: \"Menlo\", \"Monaco\", \"Consolas\", \"Ubuntu Mono\", \"Source Code Pro\", monospace;\n",
       "    font-size: 13px;\n",
       "    color: #555;\n",
       "    margin-left: 4px;\n",
       "    line-height: 19px;\n",
       "  }\n",
       "</style>\n",
       "<div class=\"ansiout\">No. de columnas:  9\n",
       "</div>"
      ]
     },
     "metadata": {
      "application/vnd.databricks.v1+output": {
       "addedWidgets": {},
       "arguments": {},
       "data": "<div class=\"ansiout\">No. de columnas:  9\n</div>",
       "datasetInfos": [],
       "metadata": {},
       "removedWidgets": [],
       "type": "html"
      }
     },
     "output_type": "display_data"
    }
   ],
   "source": [
    "print('No. de columnas: ', len(csv_rdd.take(1)[0]))"
   ]
  },
  {
   "cell_type": "code",
   "execution_count": 0,
   "metadata": {
    "application/vnd.databricks.v1+cell": {
     "cellMetadata": {},
     "inputWidgets": {},
     "nuid": "83552ec3-ff6d-4376-bd51-61f331301cf5",
     "showTitle": false,
     "tableResultSettingsMap": {},
     "title": ""
    }
   },
   "outputs": [
    {
     "output_type": "display_data",
     "data": {
      "text/html": [
       "<style scoped>\n",
       "  .ansiout {\n",
       "    display: block;\n",
       "    unicode-bidi: embed;\n",
       "    white-space: pre-wrap;\n",
       "    word-wrap: break-word;\n",
       "    word-break: break-all;\n",
       "    font-family: \"Menlo\", \"Monaco\", \"Consolas\", \"Ubuntu Mono\", \"Source Code Pro\", monospace;\n",
       "    font-size: 13px;\n",
       "    color: #555;\n",
       "    margin-left: 4px;\n",
       "    line-height: 19px;\n",
       "  }\n",
       "</style>\n",
       "<div class=\"ansiout\">Out[7]: [Row(corruption=&#39;perceptions of corruption&#39;, country=&#39;country or region&#39;, freedom=&#39;freedom to make life choices&#39;, gdp_per_capita=&#39;gdp per capita&#39;, generosity=&#39;generosity&#39;, happiness_rank=&#39;overall rank&#39;, happiness_score=&#39;score&#39;, health=&#39;healthy life expectancy&#39;, social_support=&#39;social support&#39;),\n",
       " Row(corruption=&#39;0.393&#39;, country=&#39;Finland&#39;, freedom=&#39;0.596&#39;, gdp_per_capita=&#39;1.34&#39;, generosity=&#39;0.153&#39;, happiness_rank=&#39;1&#39;, happiness_score=&#39;7.769&#39;, health=&#39;0.986&#39;, social_support=&#39;1.587&#39;),\n",
       " Row(corruption=&#39;0.41&#39;, country=&#39;Denmark&#39;, freedom=&#39;0.592&#39;, gdp_per_capita=&#39;1.383&#39;, generosity=&#39;0.252&#39;, happiness_rank=&#39;2&#39;, happiness_score=&#39;7.6&#39;, health=&#39;0.996&#39;, social_support=&#39;1.573&#39;),\n",
       " Row(corruption=&#39;0.341&#39;, country=&#39;Norway&#39;, freedom=&#39;0.603&#39;, gdp_per_capita=&#39;1.488&#39;, generosity=&#39;0.271&#39;, happiness_rank=&#39;3&#39;, happiness_score=&#39;7.554&#39;, health=&#39;1.028&#39;, social_support=&#39;1.582&#39;),\n",
       " Row(corruption=&#39;0.118&#39;, country=&#39;Iceland&#39;, freedom=&#39;0.591&#39;, gdp_per_capita=&#39;1.38&#39;, generosity=&#39;0.354&#39;, happiness_rank=&#39;4&#39;, happiness_score=&#39;7.494&#39;, health=&#39;1.026&#39;, social_support=&#39;1.624&#39;)]</div>"
      ]
     },
     "metadata": {
      "application/vnd.databricks.v1+output": {
       "addedWidgets": {},
       "arguments": {},
       "data": "<div class=\"ansiout\">Out[7]: [Row(corruption=&#39;perceptions of corruption&#39;, country=&#39;country or region&#39;, freedom=&#39;freedom to make life choices&#39;, gdp_per_capita=&#39;gdp per capita&#39;, generosity=&#39;generosity&#39;, happiness_rank=&#39;overall rank&#39;, happiness_score=&#39;score&#39;, health=&#39;healthy life expectancy&#39;, social_support=&#39;social support&#39;),\n Row(corruption=&#39;0.393&#39;, country=&#39;Finland&#39;, freedom=&#39;0.596&#39;, gdp_per_capita=&#39;1.34&#39;, generosity=&#39;0.153&#39;, happiness_rank=&#39;1&#39;, happiness_score=&#39;7.769&#39;, health=&#39;0.986&#39;, social_support=&#39;1.587&#39;),\n Row(corruption=&#39;0.41&#39;, country=&#39;Denmark&#39;, freedom=&#39;0.592&#39;, gdp_per_capita=&#39;1.383&#39;, generosity=&#39;0.252&#39;, happiness_rank=&#39;2&#39;, happiness_score=&#39;7.6&#39;, health=&#39;0.996&#39;, social_support=&#39;1.573&#39;),\n Row(corruption=&#39;0.341&#39;, country=&#39;Norway&#39;, freedom=&#39;0.603&#39;, gdp_per_capita=&#39;1.488&#39;, generosity=&#39;0.271&#39;, happiness_rank=&#39;3&#39;, happiness_score=&#39;7.554&#39;, health=&#39;1.028&#39;, social_support=&#39;1.582&#39;),\n Row(corruption=&#39;0.118&#39;, country=&#39;Iceland&#39;, freedom=&#39;0.591&#39;, gdp_per_capita=&#39;1.38&#39;, generosity=&#39;0.354&#39;, happiness_rank=&#39;4&#39;, happiness_score=&#39;7.494&#39;, health=&#39;1.026&#39;, social_support=&#39;1.624&#39;)]</div>",
       "datasetInfos": [],
       "metadata": {},
       "removedWidgets": [],
       "type": "html"
      }
     },
     "output_type": "display_data"
    }
   ],
   "source": [
    "#Creamos la tabla parsed_rdd.\n",
    "#Vamos a importar la clase Row de la librería de pyspark.sql\n",
    "\n",
    "from pyspark.sql import Row #Importamos la clase Row \n",
    "\n",
    "parsed_rdd = csv_rdd.map(lambda r: Row(\n",
    "    happiness_rank = r[0],\n",
    "    country = r[1],\n",
    "    happiness_score = r[2],\n",
    "    gdp_per_capita = r[3],\n",
    "    social_support = r[4],\n",
    "    health = r[5],\n",
    "    freedom = r[6],\n",
    "    generosity = r[7],\n",
    "    corruption = r[8]\n",
    "    )\n",
    ")\n",
    "parsed_rdd.take(5)"
   ]
  },
  {
   "cell_type": "code",
   "execution_count": 0,
   "metadata": {
    "application/vnd.databricks.v1+cell": {
     "cellMetadata": {},
     "inputWidgets": {},
     "nuid": "24400d1d-262a-428a-85f2-77a077c9bc00",
     "showTitle": false,
     "tableResultSettingsMap": {},
     "title": ""
    }
   },
   "outputs": [
    {
     "output_type": "display_data",
     "data": {
      "text/html": [
       "<style scoped>\n",
       "  .ansiout {\n",
       "    display: block;\n",
       "    unicode-bidi: embed;\n",
       "    white-space: pre-wrap;\n",
       "    word-wrap: break-word;\n",
       "    word-break: break-all;\n",
       "    font-family: \"Menlo\", \"Monaco\", \"Consolas\", \"Ubuntu Mono\", \"Source Code Pro\", monospace;\n",
       "    font-size: 13px;\n",
       "    color: #555;\n",
       "    margin-left: 4px;\n",
       "    line-height: 19px;\n",
       "  }\n",
       "</style>\n",
       "<div class=\"ansiout\"></div>"
      ]
     },
     "metadata": {
      "application/vnd.databricks.v1+output": {
       "addedWidgets": {},
       "arguments": {},
       "data": "<div class=\"ansiout\"></div>",
       "datasetInfos": [],
       "metadata": {},
       "removedWidgets": [],
       "type": "html"
      }
     },
     "output_type": "display_data"
    }
   ],
   "source": [
    "#Creamos una tabla\n",
    "temp_table_name = \"happiness_2019_csv\"\n",
    "df.createOrReplaceTempView(temp_table_name)"
   ]
  },
  {
   "cell_type": "code",
   "execution_count": 0,
   "metadata": {
    "application/vnd.databricks.v1+cell": {
     "cellMetadata": {},
     "inputWidgets": {},
     "nuid": "d6a62409-6f59-47b3-bf61-29573ceb270a",
     "showTitle": false,
     "tableResultSettingsMap": {},
     "title": ""
    }
   },
   "outputs": [
    {
     "output_type": "display_data",
     "data": {
      "text/html": [
       "<style scoped>\n",
       "  .table-result-container {\n",
       "    max-height: 300px;\n",
       "    overflow: auto;\n",
       "  }\n",
       "  table, th, td {\n",
       "    border: 1px solid black;\n",
       "    border-collapse: collapse;\n",
       "  }\n",
       "  th, td {\n",
       "    padding: 5px;\n",
       "  }\n",
       "  th {\n",
       "    text-align: left;\n",
       "  }\n",
       "</style><div class='table-result-container'><table class='table-result'><thead style='background-color: white'><tr><th>corruption</th><th>country</th><th>freedom</th><th>gdp_per_capita</th><th>generosity</th><th>happiness_rank</th><th>happiness_score</th><th>health</th><th>social_support</th></tr></thead><tbody><tr><td>perceptions of corruption</td><td>country or region</td><td>freedom to make life choices</td><td>gdp per capita</td><td>generosity</td><td>overall rank</td><td>score</td><td>healthy life expectancy</td><td>social support</td></tr><tr><td>0.393</td><td>Finland</td><td>0.596</td><td>1.34</td><td>0.153</td><td>1</td><td>7.769</td><td>0.986</td><td>1.587</td></tr><tr><td>0.41</td><td>Denmark</td><td>0.592</td><td>1.383</td><td>0.252</td><td>2</td><td>7.6</td><td>0.996</td><td>1.573</td></tr><tr><td>0.341</td><td>Norway</td><td>0.603</td><td>1.488</td><td>0.271</td><td>3</td><td>7.554</td><td>1.028</td><td>1.582</td></tr><tr><td>0.118</td><td>Iceland</td><td>0.591</td><td>1.38</td><td>0.354</td><td>4</td><td>7.494</td><td>1.026</td><td>1.624</td></tr><tr><td>0.298</td><td>Netherlands</td><td>0.557</td><td>1.396</td><td>0.322</td><td>5</td><td>7.488</td><td>0.999</td><td>1.522</td></tr><tr><td>0.343</td><td>Switzerland</td><td>0.572</td><td>1.452</td><td>0.263</td><td>6</td><td>7.48</td><td>1.052</td><td>1.526</td></tr><tr><td>0.373</td><td>Sweden</td><td>0.574</td><td>1.387</td><td>0.267</td><td>7</td><td>7.343</td><td>1.009</td><td>1.487</td></tr><tr><td>0.38</td><td>New Zealand</td><td>0.585</td><td>1.303</td><td>0.33</td><td>8</td><td>7.307</td><td>1.026</td><td>1.557</td></tr><tr><td>0.308</td><td>Canada</td><td>0.584</td><td>1.365</td><td>0.285</td><td>9</td><td>7.278</td><td>1.039</td><td>1.505</td></tr><tr><td>0.226</td><td>Austria</td><td>0.532</td><td>1.376</td><td>0.244</td><td>10</td><td>7.246</td><td>1.016</td><td>1.475</td></tr><tr><td>0.29</td><td>Australia</td><td>0.557</td><td>1.372</td><td>0.332</td><td>11</td><td>7.228</td><td>1.036</td><td>1.548</td></tr><tr><td>0.093</td><td>Costa Rica</td><td>0.558</td><td>1.034</td><td>0.144</td><td>12</td><td>7.167</td><td>0.963</td><td>1.441</td></tr><tr><td>0.082</td><td>Israel</td><td>0.371</td><td>1.276</td><td>0.261</td><td>13</td><td>7.139</td><td>1.029</td><td>1.455</td></tr><tr><td>0.316</td><td>Luxembourg</td><td>0.526</td><td>1.609</td><td>0.194</td><td>14</td><td>7.09</td><td>1.012</td><td>1.479</td></tr><tr><td>0.278</td><td>United Kingdom</td><td>0.45</td><td>1.333</td><td>0.348</td><td>15</td><td>7.054</td><td>0.996</td><td>1.538</td></tr><tr><td>0.31</td><td>Ireland</td><td>0.516</td><td>1.499</td><td>0.298</td><td>16</td><td>7.021</td><td>0.999</td><td>1.553</td></tr><tr><td>0.265</td><td>Germany</td><td>0.495</td><td>1.373</td><td>0.261</td><td>17</td><td>6.985</td><td>0.987</td><td>1.454</td></tr><tr><td>0.21</td><td>Belgium</td><td>0.473</td><td>1.356</td><td>0.16</td><td>18</td><td>6.923</td><td>0.986</td><td>1.504</td></tr><tr><td>0.128</td><td>United States</td><td>0.454</td><td>1.433</td><td>0.28</td><td>19</td><td>6.892</td><td>0.874</td><td>1.457</td></tr><tr><td>0.036</td><td>Czech Republic</td><td>0.457</td><td>1.269</td><td>0.046</td><td>20</td><td>6.852</td><td>0.92</td><td>1.487</td></tr><tr><td>0.182</td><td>United Arab Emirates</td><td>0.598</td><td>1.503</td><td>0.262</td><td>21</td><td>6.825</td><td>0.825</td><td>1.31</td></tr><tr><td>0.151</td><td>Malta</td><td>0.564</td><td>1.3</td><td>0.375</td><td>22</td><td>6.726</td><td>0.999</td><td>1.52</td></tr><tr><td>0.073</td><td>Mexico</td><td>0.433</td><td>1.07</td><td>0.074</td><td>23</td><td>6.595</td><td>0.861</td><td>1.323</td></tr><tr><td>0.183</td><td>France</td><td>0.436</td><td>1.324</td><td>0.111</td><td>24</td><td>6.592</td><td>1.045</td><td>1.472</td></tr><tr><td>0.097</td><td>Taiwan</td><td>0.351</td><td>1.368</td><td>0.242</td><td>25</td><td>6.446</td><td>0.914</td><td>1.43</td></tr><tr><td>0.056</td><td>Chile</td><td>0.357</td><td>1.159</td><td>0.187</td><td>26</td><td>6.444</td><td>0.92</td><td>1.369</td></tr><tr><td>0.078</td><td>Guatemala</td><td>0.535</td><td>0.8</td><td>0.175</td><td>27</td><td>6.436</td><td>0.746</td><td>1.269</td></tr><tr><td>0.132</td><td>Saudi Arabia</td><td>0.439</td><td>1.403</td><td>0.08</td><td>28</td><td>6.375</td><td>0.795</td><td>1.357</td></tr><tr><td>0.167</td><td>Qatar</td><td>0.555</td><td>1.684</td><td>0.22</td><td>29</td><td>6.374</td><td>0.871</td><td>1.313</td></tr><tr><td>0.079</td><td>Spain</td><td>0.362</td><td>1.286</td><td>0.153</td><td>30</td><td>6.354</td><td>1.062</td><td>1.484</td></tr><tr><td>0.054</td><td>Panama</td><td>0.516</td><td>1.149</td><td>0.109</td><td>31</td><td>6.321</td><td>0.91</td><td>1.442</td></tr><tr><td>0.086</td><td>Brazil</td><td>0.39</td><td>1.004</td><td>0.099</td><td>32</td><td>6.3</td><td>0.802</td><td>1.439</td></tr><tr><td>0.15</td><td>Uruguay</td><td>0.523</td><td>1.124</td><td>0.127</td><td>33</td><td>6.293</td><td>0.891</td><td>1.465</td></tr><tr><td>0.453</td><td>Singapore</td><td>0.556</td><td>1.572</td><td>0.271</td><td>34</td><td>6.262</td><td>1.141</td><td>1.463</td></tr><tr><td>0.074</td><td>El Salvador</td><td>0.43</td><td>0.794</td><td>0.093</td><td>35</td><td>6.253</td><td>0.789</td><td>1.242</td></tr><tr><td>0.03</td><td>Italy</td><td>0.231</td><td>1.294</td><td>0.158</td><td>36</td><td>6.223</td><td>1.039</td><td>1.488</td></tr><tr><td>0.11</td><td>Bahrain</td><td>0.536</td><td>1.362</td><td>0.255</td><td>37</td><td>6.199</td><td>0.871</td><td>1.368</td></tr><tr><td>0.014</td><td>Slovakia</td><td>0.334</td><td>1.246</td><td>0.121</td><td>38</td><td>6.198</td><td>0.881</td><td>1.504</td></tr><tr><td>0.016</td><td>Trinidad & Tobago</td><td>0.489</td><td>1.231</td><td>0.185</td><td>39</td><td>6.192</td><td>0.713</td><td>1.477</td></tr><tr><td>0.05</td><td>Poland</td><td>0.483</td><td>1.206</td><td>0.117</td><td>40</td><td>6.182</td><td>0.884</td><td>1.438</td></tr><tr><td>0.24</td><td>Uzbekistan</td><td>0.631</td><td>0.745</td><td>0.322</td><td>41</td><td>6.174</td><td>0.756</td><td>1.529</td></tr><tr><td>0.042</td><td>Lithuania</td><td>0.291</td><td>1.238</td><td>0.043</td><td>42</td><td>6.149</td><td>0.818</td><td>1.515</td></tr><tr><td>0.034</td><td>Colombia</td><td>0.47</td><td>0.985</td><td>0.099</td><td>43</td><td>6.125</td><td>0.841</td><td>1.41</td></tr><tr><td>0.057</td><td>Slovenia</td><td>0.564</td><td>1.258</td><td>0.144</td><td>44</td><td>6.118</td><td>0.953</td><td>1.523</td></tr><tr><td>0.127</td><td>Nicaragua</td><td>0.435</td><td>0.694</td><td>0.2</td><td>45</td><td>6.105</td><td>0.835</td><td>1.325</td></tr><tr><td>0.006</td><td>Kosovo</td><td>0.489</td><td>0.882</td><td>0.262</td><td>46</td><td>6.1</td><td>0.758</td><td>1.232</td></tr><tr><td>0.05</td><td>Argentina</td><td>0.471</td><td>1.092</td><td>0.066</td><td>47</td><td>6.086</td><td>0.881</td><td>1.432</td></tr><tr><td>0.005</td><td>Romania</td><td>0.462</td><td>1.162</td><td>0.083</td><td>48</td><td>6.07</td><td>0.825</td><td>1.232</td></tr><tr><td>0.041</td><td>Cyprus</td><td>0.406</td><td>1.263</td><td>0.19</td><td>49</td><td>6.046</td><td>1.042</td><td>1.223</td></tr><tr><td>0.087</td><td>Ecuador</td><td>0.498</td><td>0.912</td><td>0.126</td><td>50</td><td>6.028</td><td>0.868</td><td>1.312</td></tr><tr><td>0.097</td><td>Kuwait</td><td>0.493</td><td>1.5</td><td>0.142</td><td>51</td><td>6.021</td><td>0.808</td><td>1.319</td></tr><tr><td>0.028</td><td>Thailand</td><td>0.557</td><td>1.05</td><td>0.359</td><td>52</td><td>6.008</td><td>0.828</td><td>1.409</td></tr><tr><td>0.064</td><td>Latvia</td><td>0.264</td><td>1.187</td><td>0.075</td><td>53</td><td>5.94</td><td>0.812</td><td>1.465</td></tr><tr><td>0.056</td><td>South Korea</td><td>0.159</td><td>1.301</td><td>0.175</td><td>54</td><td>5.895</td><td>1.036</td><td>1.219</td></tr><tr><td>0.161</td><td>Estonia</td><td>0.495</td><td>1.237</td><td>0.103</td><td>55</td><td>5.893</td><td>0.874</td><td>1.528</td></tr><tr><td>0.028</td><td>Jamaica</td><td>0.49</td><td>0.831</td><td>0.107</td><td>56</td><td>5.89</td><td>0.831</td><td>1.478</td></tr><tr><td>0.06</td><td>Mauritius</td><td>0.498</td><td>1.12</td><td>0.215</td><td>57</td><td>5.888</td><td>0.798</td><td>1.402</td></tr><tr><td>0.14</td><td>Japan</td><td>0.445</td><td>1.327</td><td>0.069</td><td>58</td><td>5.886</td><td>1.088</td><td>1.419</td></tr><tr><td>0.078</td><td>Honduras</td><td>0.507</td><td>0.642</td><td>0.246</td><td>59</td><td>5.86</td><td>0.828</td><td>1.236</td></tr><tr><td>0.096</td><td>Kazakhstan</td><td>0.41</td><td>1.173</td><td>0.146</td><td>60</td><td>5.809</td><td>0.729</td><td>1.508</td></tr><tr><td>0.064</td><td>Bolivia</td><td>0.511</td><td>0.776</td><td>0.137</td><td>61</td><td>5.779</td><td>0.706</td><td>1.209</td></tr><tr><td>0.02</td><td>Hungary</td><td>0.199</td><td>1.201</td><td>0.081</td><td>62</td><td>5.758</td><td>0.828</td><td>1.41</td></tr><tr><td>0.08</td><td>Paraguay</td><td>0.514</td><td>0.855</td><td>0.184</td><td>63</td><td>5.743</td><td>0.777</td><td>1.475</td></tr><tr><td>0.162</td><td>Northern Cyprus</td><td>0.417</td><td>1.263</td><td>0.191</td><td>64</td><td>5.718</td><td>1.042</td><td>1.252</td></tr><tr><td>0.027</td><td>Peru</td><td>0.455</td><td>0.96</td><td>0.083</td><td>65</td><td>5.697</td><td>0.854</td><td>1.274</td></tr><tr><td>0.025</td><td>Portugal</td><td>0.508</td><td>1.221</td><td>0.047</td><td>66</td><td>5.693</td><td>0.999</td><td>1.431</td></tr><tr><td>0.098</td><td>Pakistan</td><td>0.313</td><td>0.677</td><td>0.22</td><td>67</td><td>5.653</td><td>0.535</td><td>0.886</td></tr><tr><td>0.031</td><td>Russia</td><td>0.334</td><td>1.183</td><td>0.082</td><td>68</td><td>5.648</td><td>0.726</td><td>1.452</td></tr><tr><td>0.107</td><td>Philippines</td><td>0.558</td><td>0.807</td><td>0.117</td><td>69</td><td>5.631</td><td>0.657</td><td>1.293</td></tr><tr><td>0.039</td><td>Serbia</td><td>0.282</td><td>1.004</td><td>0.137</td><td>70</td><td>5.603</td><td>0.854</td><td>1.383</td></tr><tr><td>0</td><td>Moldova</td><td>0.245</td><td>0.685</td><td>0.181</td><td>71</td><td>5.529</td><td>0.739</td><td>1.328</td></tr><tr><td>0.152</td><td>Libya</td><td>0.416</td><td>1.044</td><td>0.133</td><td>72</td><td>5.525</td><td>0.673</td><td>1.303</td></tr><tr><td>0.08</td><td>Montenegro</td><td>0.197</td><td>1.051</td><td>0.142</td><td>73</td><td>5.523</td><td>0.871</td><td>1.361</td></tr><tr><td>0.144</td><td>Tajikistan</td><td>0.389</td><td>0.493</td><td>0.23</td><td>74</td><td>5.467</td><td>0.718</td><td>1.098</td></tr><tr><td>0.022</td><td>Croatia</td><td>0.296</td><td>1.155</td><td>0.119</td><td>75</td><td>5.432</td><td>0.914</td><td>1.266</td></tr><tr><td>0.287</td><td>Hong Kong</td><td>0.44</td><td>1.438</td><td>0.258</td><td>76</td><td>5.43</td><td>1.122</td><td>1.277</td></tr><tr><td>0.101</td><td>Dominican Republic</td><td>0.497</td><td>1.015</td><td>0.113</td><td>77</td><td>5.425</td><td>0.779</td><td>1.401</td></tr><tr><td>0.006</td><td>Bosnia and Herzegovina</td><td>0.212</td><td>0.945</td><td>0.263</td><td>78</td><td>5.386</td><td>0.845</td><td>1.212</td></tr><tr><td>0.106</td><td>Turkey</td><td>0.195</td><td>1.183</td><td>0.083</td><td>79</td><td>5.373</td><td>0.808</td><td>1.36</td></tr><tr><td>0.024</td><td>Malaysia</td><td>0.508</td><td>1.221</td><td>0.26</td><td>80</td><td>5.339</td><td>0.828</td><td>1.171</td></tr><tr><td>0.142</td><td>Belarus</td><td>0.235</td><td>1.067</td><td>0.094</td><td>81</td><td>5.323</td><td>0.789</td><td>1.465</td></tr><tr><td>0.034</td><td>Greece</td><td>0.067</td><td>1.181</td><td>0</td><td>82</td><td>5.287</td><td>0.999</td><td>1.156</td></tr><tr><td>0.038</td><td>Mongolia</td><td>0.317</td><td>0.948</td><td>0.235</td><td>83</td><td>5.285</td><td>0.667</td><td>1.531</td></tr><tr><td>0.034</td><td>North Macedonia</td><td>0.345</td><td>0.983</td><td>0.185</td><td>84</td><td>5.274</td><td>0.838</td><td>1.294</td></tr><tr><td>0.041</td><td>Nigeria</td><td>0.426</td><td>0.696</td><td>0.215</td><td>85</td><td>5.265</td><td>0.245</td><td>1.111</td></tr><tr><td>0.023</td><td>Kyrgyzstan</td><td>0.508</td><td>0.551</td><td>0.3</td><td>86</td><td>5.261</td><td>0.723</td><td>1.438</td></tr><tr><td>0.028</td><td>Turkmenistan</td><td>0.394</td><td>1.052</td><td>0.244</td><td>87</td><td>5.247</td><td>0.657</td><td>1.538</td></tr><tr><td>0.114</td><td>Algeria</td><td>0.086</td><td>1.002</td><td>0.073</td><td>88</td><td>5.211</td><td>0.785</td><td>1.16</td></tr><tr><td>0.076</td><td>Morocco</td><td>0.418</td><td>0.801</td><td>0.036</td><td>89</td><td>5.208</td><td>0.782</td><td>0.782</td></tr><tr><td>0.182</td><td>Azerbaijan</td><td>0.351</td><td>1.043</td><td>0.035</td><td>90</td><td>5.208</td><td>0.769</td><td>1.147</td></tr><tr><td>0.027</td><td>Lebanon</td><td>0.216</td><td>0.987</td><td>0.166</td><td>91</td><td>5.197</td><td>0.815</td><td>1.224</td></tr><tr><td>0.028</td><td>Indonesia</td><td>0.491</td><td>0.931</td><td>0.498</td><td>92</td><td>5.192</td><td>0.66</td><td>1.203</td></tr><tr><td>0.1</td><td>China</td><td>0.521</td><td>1.029</td><td>0.058</td><td>93</td><td>5.191</td><td>0.893</td><td>1.125</td></tr><tr><td>0.073</td><td>Vietnam</td><td>0.543</td><td>0.741</td><td>0.147</td><td>94</td><td>5.175</td><td>0.851</td><td>1.346</td></tr><tr><td>0.167</td><td>Bhutan</td><td>0.457</td><td>0.813</td><td>0.37</td><td>95</td><td>5.082</td><td>0.604</td><td>1.321</td></tr><tr><td>0.037</td><td>Cameroon</td><td>0.381</td><td>0.549</td><td>0.187</td><td>96</td><td>5.044</td><td>0.331</td><td>0.91</td></tr><tr><td>0.004</td><td>Bulgaria</td><td>0.311</td><td>1.092</td><td>0.081</td><td>97</td><td>5.011</td><td>0.815</td><td>1.513</td></tr><tr><td>0.04</td><td>Ghana</td><td>0.381</td><td>0.611</td><td>0.245</td><td>98</td><td>4.996</td><td>0.486</td><td>0.868</td></tr><tr><td>0.09</td><td>Ivory Coast</td><td>0.352</td><td>0.569</td><td>0.154</td><td>99</td><td>4.944</td><td>0.232</td><td>0.808</td></tr><tr><td>0.089</td><td>Nepal</td><td>0.439</td><td>0.446</td><td>0.285</td><td>100</td><td>4.913</td><td>0.677</td><td>1.226</td></tr><tr><td>0.13</td><td>Jordan</td><td>0.383</td><td>0.837</td><td>0.11</td><td>101</td><td>4.906</td><td>0.815</td><td>1.225</td></tr><tr><td>0.082</td><td>Benin</td><td>0.349</td><td>0.393</td><td>0.175</td><td>102</td><td>4.883</td><td>0.397</td><td>0.437</td></tr><tr><td>0.093</td><td>Congo (Brazzaville)</td><td>0.372</td><td>0.673</td><td>0.105</td><td>103</td><td>4.812</td><td>0.508</td><td>0.799</td></tr><tr><td>0.055</td><td>Gabon</td><td>0.295</td><td>1.057</td><td>0.043</td><td>104</td><td>4.799</td><td>0.571</td><td>1.183</td></tr><tr><td>0.164</td><td>Laos</td><td>0.547</td><td>0.764</td><td>0.266</td><td>105</td><td>4.796</td><td>0.551</td><td>1.03</td></tr><tr><td>0.055</td><td>South Africa</td><td>0.389</td><td>0.96</td><td>0.13</td><td>106</td><td>4.722</td><td>0.469</td><td>1.351</td></tr><tr><td>0.027</td><td>Albania</td><td>0.383</td><td>0.947</td><td>0.178</td><td>107</td><td>4.719</td><td>0.874</td><td>0.848</td></tr><tr><td>0.047</td><td>Venezuela</td><td>0.154</td><td>0.96</td><td>0.064</td><td>108</td><td>4.707</td><td>0.805</td><td>1.427</td></tr><tr><td>0.062</td><td>Cambodia</td><td>0.609</td><td>0.574</td><td>0.232</td><td>109</td><td>4.7</td><td>0.637</td><td>1.122</td></tr><tr><td>0.066</td><td>Palestinian Territories</td><td>0.225</td><td>0.657</td><td>0.103</td><td>110</td><td>4.696</td><td>0.672</td><td>1.247</td></tr><tr><td>0.072</td><td>Senegal</td><td>0.292</td><td>0.45</td><td>0.153</td><td>111</td><td>4.681</td><td>0.571</td><td>1.134</td></tr><tr><td>0.27</td><td>Somalia</td><td>0.559</td><td>0</td><td>0.243</td><td>112</td><td>4.668</td><td>0.268</td><td>0.698</td></tr><tr><td>0.056</td><td>Namibia</td><td>0.401</td><td>0.879</td><td>0.07</td><td>113</td><td>4.639</td><td>0.477</td><td>1.313</td></tr><tr><td>0.102</td><td>Niger</td><td>0.318</td><td>0.138</td><td>0.188</td><td>114</td><td>4.628</td><td>0.366</td><td>0.774</td></tr><tr><td>0.113</td><td>Burkina Faso</td><td>0.255</td><td>0.331</td><td>0.177</td><td>115</td><td>4.587</td><td>0.38</td><td>1.056</td></tr><tr><td>0.064</td><td>Armenia</td><td>0.283</td><td>0.85</td><td>0.095</td><td>116</td><td>4.559</td><td>0.815</td><td>1.055</td></tr><tr><td>0.125</td><td>Iran</td><td>0.305</td><td>1.1</td><td>0.27</td><td>117</td><td>4.548</td><td>0.785</td><td>0.842</td></tr><tr><td>0.086</td><td>Guinea</td><td>0.332</td><td>0.38</td><td>0.207</td><td>118</td><td>4.534</td><td>0.375</td><td>0.829</td></tr><tr><td>0.164</td><td>Georgia</td><td>0.346</td><td>0.886</td><td>0.043</td><td>119</td><td>4.519</td><td>0.752</td><td>0.666</td></tr><tr><td>0.167</td><td>Gambia</td><td>0.382</td><td>0.308</td><td>0.269</td><td>120</td><td>4.516</td><td>0.428</td><td>0.939</td></tr><tr><td>0.053</td><td>Kenya</td><td>0.431</td><td>0.512</td><td>0.372</td><td>121</td><td>4.509</td><td>0.581</td><td>0.983</td></tr><tr><td>0.088</td><td>Mauritania</td><td>0.066</td><td>0.57</td><td>0.106</td><td>122</td><td>4.49</td><td>0.489</td><td>1.167</td></tr><tr><td>0.138</td><td>Mozambique</td><td>0.494</td><td>0.204</td><td>0.197</td><td>123</td><td>4.466</td><td>0.39</td><td>0.986</td></tr><tr><td>0.055</td><td>Tunisia</td><td>0.167</td><td>0.921</td><td>0.059</td><td>124</td><td>4.461</td><td>0.815</td><td>1</td></tr><tr><td>0.143</td><td>Bangladesh</td><td>0.527</td><td>0.562</td><td>0.166</td><td>125</td><td>4.456</td><td>0.723</td><td>0.928</td></tr><tr><td>0.089</td><td>Iraq</td><td>0.241</td><td>1.043</td><td>0.148</td><td>126</td><td>4.437</td><td>0.574</td><td>0.98</td></tr><tr><td>0.053</td><td>Congo (Kinshasa)</td><td>0.269</td><td>0.094</td><td>0.212</td><td>127</td><td>4.418</td><td>0.357</td><td>1.125</td></tr><tr><td>0.052</td><td>Mali</td><td>0.327</td><td>0.385</td><td>0.153</td><td>128</td><td>4.39</td><td>0.308</td><td>1.105</td></tr><tr><td>0.045</td><td>Sierra Leone</td><td>0.309</td><td>0.268</td><td>0.252</td><td>129</td><td>4.374</td><td>0.242</td><td>0.841</td></tr><tr><td>0.047</td><td>Sri Lanka</td><td>0.47</td><td>0.949</td><td>0.244</td><td>130</td><td>4.366</td><td>0.831</td><td>1.265</td></tr><tr><td>0.172</td><td>Myanmar</td><td>0.525</td><td>0.71</td><td>0.566</td><td>131</td><td>4.36</td><td>0.555</td><td>1.181</td></tr><tr><td>0.078</td><td>Chad</td><td>0.174</td><td>0.35</td><td>0.198</td><td>132</td><td>4.35</td><td>0.192</td><td>0.766</td></tr><tr><td>0.01</td><td>Ukraine</td><td>0.178</td><td>0.82</td><td>0.187</td><td>133</td><td>4.332</td><td>0.739</td><td>1.39</td></tr><tr><td>0.1</td><td>Ethiopia</td><td>0.344</td><td>0.336</td><td>0.209</td><td>134</td><td>4.286</td><td>0.532</td><td>1.033</td></tr><tr><td>0.135</td><td>Swaziland</td><td>0.313</td><td>0.811</td><td>0.074</td><td>135</td><td>4.212</td><td>0</td><td>1.149</td></tr><tr><td>0.06</td><td>Uganda</td><td>0.356</td><td>0.332</td><td>0.252</td><td>136</td><td>4.189</td><td>0.443</td><td>1.069</td></tr><tr><td>0.067</td><td>Egypt</td><td>0.241</td><td>0.913</td><td>0.076</td><td>137</td><td>4.166</td><td>0.644</td><td>1.039</td></tr><tr><td>0.087</td><td>Zambia</td><td>0.431</td><td>0.578</td><td>0.247</td><td>138</td><td>4.107</td><td>0.426</td><td>1.058</td></tr><tr><td>0.085</td><td>Togo</td><td>0.293</td><td>0.275</td><td>0.177</td><td>139</td><td>4.085</td><td>0.41</td><td>0.572</td></tr><tr><td>0.085</td><td>India</td><td>0.498</td><td>0.755</td><td>0.2</td><td>140</td><td>4.015</td><td>0.588</td><td>0.765</td></tr><tr><td>0.033</td><td>Liberia</td><td>0.37</td><td>0.073</td><td>0.233</td><td>141</td><td>3.975</td><td>0.443</td><td>0.922</td></tr><tr><td>0.078</td><td>Comoros</td><td>0.142</td><td>0.274</td><td>0.275</td><td>142</td><td>3.973</td><td>0.505</td><td>0.757</td></tr><tr><td>0.041</td><td>Madagascar</td><td>0.148</td><td>0.274</td><td>0.169</td><td>143</td><td>3.933</td><td>0.555</td><td>0.916</td></tr><tr><td>0.093</td><td>Lesotho</td><td>0.359</td><td>0.489</td><td>0.107</td><td>144</td><td>3.802</td><td>0.168</td><td>1.169</td></tr><tr><td>0.18</td><td>Burundi</td><td>0.22</td><td>0.046</td><td>0.176</td><td>145</td><td>3.775</td><td>0.38</td><td>0.447</td></tr><tr><td>0.089</td><td>Zimbabwe</td><td>0.361</td><td>0.366</td><td>0.151</td><td>146</td><td>3.663</td><td>0.433</td><td>1.114</td></tr><tr><td>0.11</td><td>Haiti</td><td>0.026</td><td>0.323</td><td>0.419</td><td>147</td><td>3.597</td><td>0.449</td><td>0.688</td></tr><tr><td>0.1</td><td>Botswana</td><td>0.455</td><td>1.041</td><td>0.025</td><td>148</td><td>3.488</td><td>0.538</td><td>1.145</td></tr><tr><td>0.141</td><td>Syria</td><td>0.013</td><td>0.619</td><td>0.331</td><td>149</td><td>3.462</td><td>0.44</td><td>0.378</td></tr><tr><td>0.089</td><td>Malawi</td><td>0.443</td><td>0.191</td><td>0.218</td><td>150</td><td>3.41</td><td>0.495</td><td>0.56</td></tr><tr><td>0.077</td><td>Yemen</td><td>0.143</td><td>0.287</td><td>0.108</td><td>151</td><td>3.38</td><td>0.463</td><td>1.163</td></tr><tr><td>0.411</td><td>Rwanda</td><td>0.555</td><td>0.359</td><td>0.217</td><td>152</td><td>3.334</td><td>0.614</td><td>0.711</td></tr><tr><td>0.147</td><td>Tanzania</td><td>0.417</td><td>0.476</td><td>0.276</td><td>153</td><td>3.231</td><td>0.499</td><td>0.885</td></tr><tr><td>0.025</td><td>Afghanistan</td><td>0</td><td>0.35</td><td>0.158</td><td>154</td><td>3.203</td><td>0.361</td><td>0.517</td></tr><tr><td>0.035</td><td>Central African Republic</td><td>0.225</td><td>0.026</td><td>0.235</td><td>155</td><td>3.083</td><td>0.105</td><td>0</td></tr><tr><td>0.091</td><td>South Sudan</td><td>0.01</td><td>0.306</td><td>0.202</td><td>156</td><td>2.853</td><td>0.295</td><td>0.575</td></tr></tbody></table></div>"
      ]
     },
     "metadata": {
      "application/vnd.databricks.v1+output": {
       "addedWidgets": {},
       "aggData": [],
       "aggError": "",
       "aggOverflow": false,
       "aggSchema": [],
       "aggSeriesLimitReached": false,
       "aggType": "",
       "arguments": {},
       "columnCustomDisplayInfos": {},
       "data": [
        [
         "perceptions of corruption",
         "country or region",
         "freedom to make life choices",
         "gdp per capita",
         "generosity",
         "overall rank",
         "score",
         "healthy life expectancy",
         "social support"
        ],
        [
         "0.393",
         "Finland",
         "0.596",
         "1.34",
         "0.153",
         "1",
         "7.769",
         "0.986",
         "1.587"
        ],
        [
         "0.41",
         "Denmark",
         "0.592",
         "1.383",
         "0.252",
         "2",
         "7.6",
         "0.996",
         "1.573"
        ],
        [
         "0.341",
         "Norway",
         "0.603",
         "1.488",
         "0.271",
         "3",
         "7.554",
         "1.028",
         "1.582"
        ],
        [
         "0.118",
         "Iceland",
         "0.591",
         "1.38",
         "0.354",
         "4",
         "7.494",
         "1.026",
         "1.624"
        ],
        [
         "0.298",
         "Netherlands",
         "0.557",
         "1.396",
         "0.322",
         "5",
         "7.488",
         "0.999",
         "1.522"
        ],
        [
         "0.343",
         "Switzerland",
         "0.572",
         "1.452",
         "0.263",
         "6",
         "7.48",
         "1.052",
         "1.526"
        ],
        [
         "0.373",
         "Sweden",
         "0.574",
         "1.387",
         "0.267",
         "7",
         "7.343",
         "1.009",
         "1.487"
        ],
        [
         "0.38",
         "New Zealand",
         "0.585",
         "1.303",
         "0.33",
         "8",
         "7.307",
         "1.026",
         "1.557"
        ],
        [
         "0.308",
         "Canada",
         "0.584",
         "1.365",
         "0.285",
         "9",
         "7.278",
         "1.039",
         "1.505"
        ],
        [
         "0.226",
         "Austria",
         "0.532",
         "1.376",
         "0.244",
         "10",
         "7.246",
         "1.016",
         "1.475"
        ],
        [
         "0.29",
         "Australia",
         "0.557",
         "1.372",
         "0.332",
         "11",
         "7.228",
         "1.036",
         "1.548"
        ],
        [
         "0.093",
         "Costa Rica",
         "0.558",
         "1.034",
         "0.144",
         "12",
         "7.167",
         "0.963",
         "1.441"
        ],
        [
         "0.082",
         "Israel",
         "0.371",
         "1.276",
         "0.261",
         "13",
         "7.139",
         "1.029",
         "1.455"
        ],
        [
         "0.316",
         "Luxembourg",
         "0.526",
         "1.609",
         "0.194",
         "14",
         "7.09",
         "1.012",
         "1.479"
        ],
        [
         "0.278",
         "United Kingdom",
         "0.45",
         "1.333",
         "0.348",
         "15",
         "7.054",
         "0.996",
         "1.538"
        ],
        [
         "0.31",
         "Ireland",
         "0.516",
         "1.499",
         "0.298",
         "16",
         "7.021",
         "0.999",
         "1.553"
        ],
        [
         "0.265",
         "Germany",
         "0.495",
         "1.373",
         "0.261",
         "17",
         "6.985",
         "0.987",
         "1.454"
        ],
        [
         "0.21",
         "Belgium",
         "0.473",
         "1.356",
         "0.16",
         "18",
         "6.923",
         "0.986",
         "1.504"
        ],
        [
         "0.128",
         "United States",
         "0.454",
         "1.433",
         "0.28",
         "19",
         "6.892",
         "0.874",
         "1.457"
        ],
        [
         "0.036",
         "Czech Republic",
         "0.457",
         "1.269",
         "0.046",
         "20",
         "6.852",
         "0.92",
         "1.487"
        ],
        [
         "0.182",
         "United Arab Emirates",
         "0.598",
         "1.503",
         "0.262",
         "21",
         "6.825",
         "0.825",
         "1.31"
        ],
        [
         "0.151",
         "Malta",
         "0.564",
         "1.3",
         "0.375",
         "22",
         "6.726",
         "0.999",
         "1.52"
        ],
        [
         "0.073",
         "Mexico",
         "0.433",
         "1.07",
         "0.074",
         "23",
         "6.595",
         "0.861",
         "1.323"
        ],
        [
         "0.183",
         "France",
         "0.436",
         "1.324",
         "0.111",
         "24",
         "6.592",
         "1.045",
         "1.472"
        ],
        [
         "0.097",
         "Taiwan",
         "0.351",
         "1.368",
         "0.242",
         "25",
         "6.446",
         "0.914",
         "1.43"
        ],
        [
         "0.056",
         "Chile",
         "0.357",
         "1.159",
         "0.187",
         "26",
         "6.444",
         "0.92",
         "1.369"
        ],
        [
         "0.078",
         "Guatemala",
         "0.535",
         "0.8",
         "0.175",
         "27",
         "6.436",
         "0.746",
         "1.269"
        ],
        [
         "0.132",
         "Saudi Arabia",
         "0.439",
         "1.403",
         "0.08",
         "28",
         "6.375",
         "0.795",
         "1.357"
        ],
        [
         "0.167",
         "Qatar",
         "0.555",
         "1.684",
         "0.22",
         "29",
         "6.374",
         "0.871",
         "1.313"
        ],
        [
         "0.079",
         "Spain",
         "0.362",
         "1.286",
         "0.153",
         "30",
         "6.354",
         "1.062",
         "1.484"
        ],
        [
         "0.054",
         "Panama",
         "0.516",
         "1.149",
         "0.109",
         "31",
         "6.321",
         "0.91",
         "1.442"
        ],
        [
         "0.086",
         "Brazil",
         "0.39",
         "1.004",
         "0.099",
         "32",
         "6.3",
         "0.802",
         "1.439"
        ],
        [
         "0.15",
         "Uruguay",
         "0.523",
         "1.124",
         "0.127",
         "33",
         "6.293",
         "0.891",
         "1.465"
        ],
        [
         "0.453",
         "Singapore",
         "0.556",
         "1.572",
         "0.271",
         "34",
         "6.262",
         "1.141",
         "1.463"
        ],
        [
         "0.074",
         "El Salvador",
         "0.43",
         "0.794",
         "0.093",
         "35",
         "6.253",
         "0.789",
         "1.242"
        ],
        [
         "0.03",
         "Italy",
         "0.231",
         "1.294",
         "0.158",
         "36",
         "6.223",
         "1.039",
         "1.488"
        ],
        [
         "0.11",
         "Bahrain",
         "0.536",
         "1.362",
         "0.255",
         "37",
         "6.199",
         "0.871",
         "1.368"
        ],
        [
         "0.014",
         "Slovakia",
         "0.334",
         "1.246",
         "0.121",
         "38",
         "6.198",
         "0.881",
         "1.504"
        ],
        [
         "0.016",
         "Trinidad & Tobago",
         "0.489",
         "1.231",
         "0.185",
         "39",
         "6.192",
         "0.713",
         "1.477"
        ],
        [
         "0.05",
         "Poland",
         "0.483",
         "1.206",
         "0.117",
         "40",
         "6.182",
         "0.884",
         "1.438"
        ],
        [
         "0.24",
         "Uzbekistan",
         "0.631",
         "0.745",
         "0.322",
         "41",
         "6.174",
         "0.756",
         "1.529"
        ],
        [
         "0.042",
         "Lithuania",
         "0.291",
         "1.238",
         "0.043",
         "42",
         "6.149",
         "0.818",
         "1.515"
        ],
        [
         "0.034",
         "Colombia",
         "0.47",
         "0.985",
         "0.099",
         "43",
         "6.125",
         "0.841",
         "1.41"
        ],
        [
         "0.057",
         "Slovenia",
         "0.564",
         "1.258",
         "0.144",
         "44",
         "6.118",
         "0.953",
         "1.523"
        ],
        [
         "0.127",
         "Nicaragua",
         "0.435",
         "0.694",
         "0.2",
         "45",
         "6.105",
         "0.835",
         "1.325"
        ],
        [
         "0.006",
         "Kosovo",
         "0.489",
         "0.882",
         "0.262",
         "46",
         "6.1",
         "0.758",
         "1.232"
        ],
        [
         "0.05",
         "Argentina",
         "0.471",
         "1.092",
         "0.066",
         "47",
         "6.086",
         "0.881",
         "1.432"
        ],
        [
         "0.005",
         "Romania",
         "0.462",
         "1.162",
         "0.083",
         "48",
         "6.07",
         "0.825",
         "1.232"
        ],
        [
         "0.041",
         "Cyprus",
         "0.406",
         "1.263",
         "0.19",
         "49",
         "6.046",
         "1.042",
         "1.223"
        ],
        [
         "0.087",
         "Ecuador",
         "0.498",
         "0.912",
         "0.126",
         "50",
         "6.028",
         "0.868",
         "1.312"
        ],
        [
         "0.097",
         "Kuwait",
         "0.493",
         "1.5",
         "0.142",
         "51",
         "6.021",
         "0.808",
         "1.319"
        ],
        [
         "0.028",
         "Thailand",
         "0.557",
         "1.05",
         "0.359",
         "52",
         "6.008",
         "0.828",
         "1.409"
        ],
        [
         "0.064",
         "Latvia",
         "0.264",
         "1.187",
         "0.075",
         "53",
         "5.94",
         "0.812",
         "1.465"
        ],
        [
         "0.056",
         "South Korea",
         "0.159",
         "1.301",
         "0.175",
         "54",
         "5.895",
         "1.036",
         "1.219"
        ],
        [
         "0.161",
         "Estonia",
         "0.495",
         "1.237",
         "0.103",
         "55",
         "5.893",
         "0.874",
         "1.528"
        ],
        [
         "0.028",
         "Jamaica",
         "0.49",
         "0.831",
         "0.107",
         "56",
         "5.89",
         "0.831",
         "1.478"
        ],
        [
         "0.06",
         "Mauritius",
         "0.498",
         "1.12",
         "0.215",
         "57",
         "5.888",
         "0.798",
         "1.402"
        ],
        [
         "0.14",
         "Japan",
         "0.445",
         "1.327",
         "0.069",
         "58",
         "5.886",
         "1.088",
         "1.419"
        ],
        [
         "0.078",
         "Honduras",
         "0.507",
         "0.642",
         "0.246",
         "59",
         "5.86",
         "0.828",
         "1.236"
        ],
        [
         "0.096",
         "Kazakhstan",
         "0.41",
         "1.173",
         "0.146",
         "60",
         "5.809",
         "0.729",
         "1.508"
        ],
        [
         "0.064",
         "Bolivia",
         "0.511",
         "0.776",
         "0.137",
         "61",
         "5.779",
         "0.706",
         "1.209"
        ],
        [
         "0.02",
         "Hungary",
         "0.199",
         "1.201",
         "0.081",
         "62",
         "5.758",
         "0.828",
         "1.41"
        ],
        [
         "0.08",
         "Paraguay",
         "0.514",
         "0.855",
         "0.184",
         "63",
         "5.743",
         "0.777",
         "1.475"
        ],
        [
         "0.162",
         "Northern Cyprus",
         "0.417",
         "1.263",
         "0.191",
         "64",
         "5.718",
         "1.042",
         "1.252"
        ],
        [
         "0.027",
         "Peru",
         "0.455",
         "0.96",
         "0.083",
         "65",
         "5.697",
         "0.854",
         "1.274"
        ],
        [
         "0.025",
         "Portugal",
         "0.508",
         "1.221",
         "0.047",
         "66",
         "5.693",
         "0.999",
         "1.431"
        ],
        [
         "0.098",
         "Pakistan",
         "0.313",
         "0.677",
         "0.22",
         "67",
         "5.653",
         "0.535",
         "0.886"
        ],
        [
         "0.031",
         "Russia",
         "0.334",
         "1.183",
         "0.082",
         "68",
         "5.648",
         "0.726",
         "1.452"
        ],
        [
         "0.107",
         "Philippines",
         "0.558",
         "0.807",
         "0.117",
         "69",
         "5.631",
         "0.657",
         "1.293"
        ],
        [
         "0.039",
         "Serbia",
         "0.282",
         "1.004",
         "0.137",
         "70",
         "5.603",
         "0.854",
         "1.383"
        ],
        [
         "0",
         "Moldova",
         "0.245",
         "0.685",
         "0.181",
         "71",
         "5.529",
         "0.739",
         "1.328"
        ],
        [
         "0.152",
         "Libya",
         "0.416",
         "1.044",
         "0.133",
         "72",
         "5.525",
         "0.673",
         "1.303"
        ],
        [
         "0.08",
         "Montenegro",
         "0.197",
         "1.051",
         "0.142",
         "73",
         "5.523",
         "0.871",
         "1.361"
        ],
        [
         "0.144",
         "Tajikistan",
         "0.389",
         "0.493",
         "0.23",
         "74",
         "5.467",
         "0.718",
         "1.098"
        ],
        [
         "0.022",
         "Croatia",
         "0.296",
         "1.155",
         "0.119",
         "75",
         "5.432",
         "0.914",
         "1.266"
        ],
        [
         "0.287",
         "Hong Kong",
         "0.44",
         "1.438",
         "0.258",
         "76",
         "5.43",
         "1.122",
         "1.277"
        ],
        [
         "0.101",
         "Dominican Republic",
         "0.497",
         "1.015",
         "0.113",
         "77",
         "5.425",
         "0.779",
         "1.401"
        ],
        [
         "0.006",
         "Bosnia and Herzegovina",
         "0.212",
         "0.945",
         "0.263",
         "78",
         "5.386",
         "0.845",
         "1.212"
        ],
        [
         "0.106",
         "Turkey",
         "0.195",
         "1.183",
         "0.083",
         "79",
         "5.373",
         "0.808",
         "1.36"
        ],
        [
         "0.024",
         "Malaysia",
         "0.508",
         "1.221",
         "0.26",
         "80",
         "5.339",
         "0.828",
         "1.171"
        ],
        [
         "0.142",
         "Belarus",
         "0.235",
         "1.067",
         "0.094",
         "81",
         "5.323",
         "0.789",
         "1.465"
        ],
        [
         "0.034",
         "Greece",
         "0.067",
         "1.181",
         "0",
         "82",
         "5.287",
         "0.999",
         "1.156"
        ],
        [
         "0.038",
         "Mongolia",
         "0.317",
         "0.948",
         "0.235",
         "83",
         "5.285",
         "0.667",
         "1.531"
        ],
        [
         "0.034",
         "North Macedonia",
         "0.345",
         "0.983",
         "0.185",
         "84",
         "5.274",
         "0.838",
         "1.294"
        ],
        [
         "0.041",
         "Nigeria",
         "0.426",
         "0.696",
         "0.215",
         "85",
         "5.265",
         "0.245",
         "1.111"
        ],
        [
         "0.023",
         "Kyrgyzstan",
         "0.508",
         "0.551",
         "0.3",
         "86",
         "5.261",
         "0.723",
         "1.438"
        ],
        [
         "0.028",
         "Turkmenistan",
         "0.394",
         "1.052",
         "0.244",
         "87",
         "5.247",
         "0.657",
         "1.538"
        ],
        [
         "0.114",
         "Algeria",
         "0.086",
         "1.002",
         "0.073",
         "88",
         "5.211",
         "0.785",
         "1.16"
        ],
        [
         "0.076",
         "Morocco",
         "0.418",
         "0.801",
         "0.036",
         "89",
         "5.208",
         "0.782",
         "0.782"
        ],
        [
         "0.182",
         "Azerbaijan",
         "0.351",
         "1.043",
         "0.035",
         "90",
         "5.208",
         "0.769",
         "1.147"
        ],
        [
         "0.027",
         "Lebanon",
         "0.216",
         "0.987",
         "0.166",
         "91",
         "5.197",
         "0.815",
         "1.224"
        ],
        [
         "0.028",
         "Indonesia",
         "0.491",
         "0.931",
         "0.498",
         "92",
         "5.192",
         "0.66",
         "1.203"
        ],
        [
         "0.1",
         "China",
         "0.521",
         "1.029",
         "0.058",
         "93",
         "5.191",
         "0.893",
         "1.125"
        ],
        [
         "0.073",
         "Vietnam",
         "0.543",
         "0.741",
         "0.147",
         "94",
         "5.175",
         "0.851",
         "1.346"
        ],
        [
         "0.167",
         "Bhutan",
         "0.457",
         "0.813",
         "0.37",
         "95",
         "5.082",
         "0.604",
         "1.321"
        ],
        [
         "0.037",
         "Cameroon",
         "0.381",
         "0.549",
         "0.187",
         "96",
         "5.044",
         "0.331",
         "0.91"
        ],
        [
         "0.004",
         "Bulgaria",
         "0.311",
         "1.092",
         "0.081",
         "97",
         "5.011",
         "0.815",
         "1.513"
        ],
        [
         "0.04",
         "Ghana",
         "0.381",
         "0.611",
         "0.245",
         "98",
         "4.996",
         "0.486",
         "0.868"
        ],
        [
         "0.09",
         "Ivory Coast",
         "0.352",
         "0.569",
         "0.154",
         "99",
         "4.944",
         "0.232",
         "0.808"
        ],
        [
         "0.089",
         "Nepal",
         "0.439",
         "0.446",
         "0.285",
         "100",
         "4.913",
         "0.677",
         "1.226"
        ],
        [
         "0.13",
         "Jordan",
         "0.383",
         "0.837",
         "0.11",
         "101",
         "4.906",
         "0.815",
         "1.225"
        ],
        [
         "0.082",
         "Benin",
         "0.349",
         "0.393",
         "0.175",
         "102",
         "4.883",
         "0.397",
         "0.437"
        ],
        [
         "0.093",
         "Congo (Brazzaville)",
         "0.372",
         "0.673",
         "0.105",
         "103",
         "4.812",
         "0.508",
         "0.799"
        ],
        [
         "0.055",
         "Gabon",
         "0.295",
         "1.057",
         "0.043",
         "104",
         "4.799",
         "0.571",
         "1.183"
        ],
        [
         "0.164",
         "Laos",
         "0.547",
         "0.764",
         "0.266",
         "105",
         "4.796",
         "0.551",
         "1.03"
        ],
        [
         "0.055",
         "South Africa",
         "0.389",
         "0.96",
         "0.13",
         "106",
         "4.722",
         "0.469",
         "1.351"
        ],
        [
         "0.027",
         "Albania",
         "0.383",
         "0.947",
         "0.178",
         "107",
         "4.719",
         "0.874",
         "0.848"
        ],
        [
         "0.047",
         "Venezuela",
         "0.154",
         "0.96",
         "0.064",
         "108",
         "4.707",
         "0.805",
         "1.427"
        ],
        [
         "0.062",
         "Cambodia",
         "0.609",
         "0.574",
         "0.232",
         "109",
         "4.7",
         "0.637",
         "1.122"
        ],
        [
         "0.066",
         "Palestinian Territories",
         "0.225",
         "0.657",
         "0.103",
         "110",
         "4.696",
         "0.672",
         "1.247"
        ],
        [
         "0.072",
         "Senegal",
         "0.292",
         "0.45",
         "0.153",
         "111",
         "4.681",
         "0.571",
         "1.134"
        ],
        [
         "0.27",
         "Somalia",
         "0.559",
         "0",
         "0.243",
         "112",
         "4.668",
         "0.268",
         "0.698"
        ],
        [
         "0.056",
         "Namibia",
         "0.401",
         "0.879",
         "0.07",
         "113",
         "4.639",
         "0.477",
         "1.313"
        ],
        [
         "0.102",
         "Niger",
         "0.318",
         "0.138",
         "0.188",
         "114",
         "4.628",
         "0.366",
         "0.774"
        ],
        [
         "0.113",
         "Burkina Faso",
         "0.255",
         "0.331",
         "0.177",
         "115",
         "4.587",
         "0.38",
         "1.056"
        ],
        [
         "0.064",
         "Armenia",
         "0.283",
         "0.85",
         "0.095",
         "116",
         "4.559",
         "0.815",
         "1.055"
        ],
        [
         "0.125",
         "Iran",
         "0.305",
         "1.1",
         "0.27",
         "117",
         "4.548",
         "0.785",
         "0.842"
        ],
        [
         "0.086",
         "Guinea",
         "0.332",
         "0.38",
         "0.207",
         "118",
         "4.534",
         "0.375",
         "0.829"
        ],
        [
         "0.164",
         "Georgia",
         "0.346",
         "0.886",
         "0.043",
         "119",
         "4.519",
         "0.752",
         "0.666"
        ],
        [
         "0.167",
         "Gambia",
         "0.382",
         "0.308",
         "0.269",
         "120",
         "4.516",
         "0.428",
         "0.939"
        ],
        [
         "0.053",
         "Kenya",
         "0.431",
         "0.512",
         "0.372",
         "121",
         "4.509",
         "0.581",
         "0.983"
        ],
        [
         "0.088",
         "Mauritania",
         "0.066",
         "0.57",
         "0.106",
         "122",
         "4.49",
         "0.489",
         "1.167"
        ],
        [
         "0.138",
         "Mozambique",
         "0.494",
         "0.204",
         "0.197",
         "123",
         "4.466",
         "0.39",
         "0.986"
        ],
        [
         "0.055",
         "Tunisia",
         "0.167",
         "0.921",
         "0.059",
         "124",
         "4.461",
         "0.815",
         "1"
        ],
        [
         "0.143",
         "Bangladesh",
         "0.527",
         "0.562",
         "0.166",
         "125",
         "4.456",
         "0.723",
         "0.928"
        ],
        [
         "0.089",
         "Iraq",
         "0.241",
         "1.043",
         "0.148",
         "126",
         "4.437",
         "0.574",
         "0.98"
        ],
        [
         "0.053",
         "Congo (Kinshasa)",
         "0.269",
         "0.094",
         "0.212",
         "127",
         "4.418",
         "0.357",
         "1.125"
        ],
        [
         "0.052",
         "Mali",
         "0.327",
         "0.385",
         "0.153",
         "128",
         "4.39",
         "0.308",
         "1.105"
        ],
        [
         "0.045",
         "Sierra Leone",
         "0.309",
         "0.268",
         "0.252",
         "129",
         "4.374",
         "0.242",
         "0.841"
        ],
        [
         "0.047",
         "Sri Lanka",
         "0.47",
         "0.949",
         "0.244",
         "130",
         "4.366",
         "0.831",
         "1.265"
        ],
        [
         "0.172",
         "Myanmar",
         "0.525",
         "0.71",
         "0.566",
         "131",
         "4.36",
         "0.555",
         "1.181"
        ],
        [
         "0.078",
         "Chad",
         "0.174",
         "0.35",
         "0.198",
         "132",
         "4.35",
         "0.192",
         "0.766"
        ],
        [
         "0.01",
         "Ukraine",
         "0.178",
         "0.82",
         "0.187",
         "133",
         "4.332",
         "0.739",
         "1.39"
        ],
        [
         "0.1",
         "Ethiopia",
         "0.344",
         "0.336",
         "0.209",
         "134",
         "4.286",
         "0.532",
         "1.033"
        ],
        [
         "0.135",
         "Swaziland",
         "0.313",
         "0.811",
         "0.074",
         "135",
         "4.212",
         "0",
         "1.149"
        ],
        [
         "0.06",
         "Uganda",
         "0.356",
         "0.332",
         "0.252",
         "136",
         "4.189",
         "0.443",
         "1.069"
        ],
        [
         "0.067",
         "Egypt",
         "0.241",
         "0.913",
         "0.076",
         "137",
         "4.166",
         "0.644",
         "1.039"
        ],
        [
         "0.087",
         "Zambia",
         "0.431",
         "0.578",
         "0.247",
         "138",
         "4.107",
         "0.426",
         "1.058"
        ],
        [
         "0.085",
         "Togo",
         "0.293",
         "0.275",
         "0.177",
         "139",
         "4.085",
         "0.41",
         "0.572"
        ],
        [
         "0.085",
         "India",
         "0.498",
         "0.755",
         "0.2",
         "140",
         "4.015",
         "0.588",
         "0.765"
        ],
        [
         "0.033",
         "Liberia",
         "0.37",
         "0.073",
         "0.233",
         "141",
         "3.975",
         "0.443",
         "0.922"
        ],
        [
         "0.078",
         "Comoros",
         "0.142",
         "0.274",
         "0.275",
         "142",
         "3.973",
         "0.505",
         "0.757"
        ],
        [
         "0.041",
         "Madagascar",
         "0.148",
         "0.274",
         "0.169",
         "143",
         "3.933",
         "0.555",
         "0.916"
        ],
        [
         "0.093",
         "Lesotho",
         "0.359",
         "0.489",
         "0.107",
         "144",
         "3.802",
         "0.168",
         "1.169"
        ],
        [
         "0.18",
         "Burundi",
         "0.22",
         "0.046",
         "0.176",
         "145",
         "3.775",
         "0.38",
         "0.447"
        ],
        [
         "0.089",
         "Zimbabwe",
         "0.361",
         "0.366",
         "0.151",
         "146",
         "3.663",
         "0.433",
         "1.114"
        ],
        [
         "0.11",
         "Haiti",
         "0.026",
         "0.323",
         "0.419",
         "147",
         "3.597",
         "0.449",
         "0.688"
        ],
        [
         "0.1",
         "Botswana",
         "0.455",
         "1.041",
         "0.025",
         "148",
         "3.488",
         "0.538",
         "1.145"
        ],
        [
         "0.141",
         "Syria",
         "0.013",
         "0.619",
         "0.331",
         "149",
         "3.462",
         "0.44",
         "0.378"
        ],
        [
         "0.089",
         "Malawi",
         "0.443",
         "0.191",
         "0.218",
         "150",
         "3.41",
         "0.495",
         "0.56"
        ],
        [
         "0.077",
         "Yemen",
         "0.143",
         "0.287",
         "0.108",
         "151",
         "3.38",
         "0.463",
         "1.163"
        ],
        [
         "0.411",
         "Rwanda",
         "0.555",
         "0.359",
         "0.217",
         "152",
         "3.334",
         "0.614",
         "0.711"
        ],
        [
         "0.147",
         "Tanzania",
         "0.417",
         "0.476",
         "0.276",
         "153",
         "3.231",
         "0.499",
         "0.885"
        ],
        [
         "0.025",
         "Afghanistan",
         "0",
         "0.35",
         "0.158",
         "154",
         "3.203",
         "0.361",
         "0.517"
        ],
        [
         "0.035",
         "Central African Republic",
         "0.225",
         "0.026",
         "0.235",
         "155",
         "3.083",
         "0.105",
         "0"
        ],
        [
         "0.091",
         "South Sudan",
         "0.01",
         "0.306",
         "0.202",
         "156",
         "2.853",
         "0.295",
         "0.575"
        ]
       ],
       "datasetInfos": [
        {
         "name": "df",
         "schema": {
          "fields": [
           {
            "metadata": {},
            "name": "corruption",
            "nullable": true,
            "type": "string"
           },
           {
            "metadata": {},
            "name": "country",
            "nullable": true,
            "type": "string"
           },
           {
            "metadata": {},
            "name": "freedom",
            "nullable": true,
            "type": "string"
           },
           {
            "metadata": {},
            "name": "gdp_per_capita",
            "nullable": true,
            "type": "string"
           },
           {
            "metadata": {},
            "name": "generosity",
            "nullable": true,
            "type": "string"
           },
           {
            "metadata": {},
            "name": "happiness_rank",
            "nullable": true,
            "type": "string"
           },
           {
            "metadata": {},
            "name": "happiness_score",
            "nullable": true,
            "type": "string"
           },
           {
            "metadata": {},
            "name": "health",
            "nullable": true,
            "type": "string"
           },
           {
            "metadata": {},
            "name": "social_support",
            "nullable": true,
            "type": "string"
           }
          ],
          "type": "struct"
         },
         "tableIdentifier": null,
         "typeStr": "pyspark.sql.dataframe.DataFrame"
        }
       ],
       "dbfsResultPath": null,
       "isJsonSchema": true,
       "metadata": {},
       "overflow": false,
       "plotOptions": {
        "customPlotOptions": {},
        "displayType": "table",
        "pivotAggregation": null,
        "pivotColumns": null,
        "xColumns": null,
        "yColumns": null
       },
       "removedWidgets": [],
       "schema": [
        {
         "metadata": "{}",
         "name": "corruption",
         "type": "\"string\""
        },
        {
         "metadata": "{}",
         "name": "country",
         "type": "\"string\""
        },
        {
         "metadata": "{}",
         "name": "freedom",
         "type": "\"string\""
        },
        {
         "metadata": "{}",
         "name": "gdp_per_capita",
         "type": "\"string\""
        },
        {
         "metadata": "{}",
         "name": "generosity",
         "type": "\"string\""
        },
        {
         "metadata": "{}",
         "name": "happiness_rank",
         "type": "\"string\""
        },
        {
         "metadata": "{}",
         "name": "happiness_score",
         "type": "\"string\""
        },
        {
         "metadata": "{}",
         "name": "health",
         "type": "\"string\""
        },
        {
         "metadata": "{}",
         "name": "social_support",
         "type": "\"string\""
        }
       ],
       "type": "table"
      }
     },
     "output_type": "display_data"
    }
   ],
   "source": [
    "#Construimos un datraframe\n",
    "df = sqlContext.createDataFrame(parsed_rdd)\n",
    "display(df)"
   ]
  },
  {
   "cell_type": "code",
   "execution_count": 0,
   "metadata": {
    "application/vnd.databricks.v1+cell": {
     "cellMetadata": {},
     "inputWidgets": {},
     "nuid": "0cad9618-9e98-4936-8517-47ff70f171e7",
     "showTitle": false,
     "tableResultSettingsMap": {},
     "title": ""
    }
   },
   "outputs": [
    {
     "output_type": "display_data",
     "data": {
      "text/html": [
       "<style scoped>\n",
       "  .ansiout {\n",
       "    display: block;\n",
       "    unicode-bidi: embed;\n",
       "    white-space: pre-wrap;\n",
       "    word-wrap: break-word;\n",
       "    word-break: break-all;\n",
       "    font-family: \"Menlo\", \"Monaco\", \"Consolas\", \"Ubuntu Mono\", \"Source Code Pro\", monospace;\n",
       "    font-size: 13px;\n",
       "    color: #555;\n",
       "    margin-left: 4px;\n",
       "    line-height: 19px;\n",
       "  }\n",
       "</style>\n",
       "<div class=\"ansiout\">root\n",
       "-- corruption: string (nullable = true)\n",
       "-- country: string (nullable = true)\n",
       "-- freedom: string (nullable = true)\n",
       "-- gdp_per_capita: string (nullable = true)\n",
       "-- generosity: string (nullable = true)\n",
       "-- happiness_rank: string (nullable = true)\n",
       "-- happiness_score: string (nullable = true)\n",
       "-- health: string (nullable = true)\n",
       "-- social_support: string (nullable = true)\n",
       "\n",
       "</div>"
      ]
     },
     "metadata": {
      "application/vnd.databricks.v1+output": {
       "addedWidgets": {},
       "arguments": {},
       "data": "<div class=\"ansiout\">root\n |-- corruption: string (nullable = true)\n |-- country: string (nullable = true)\n |-- freedom: string (nullable = true)\n |-- gdp_per_capita: string (nullable = true)\n |-- generosity: string (nullable = true)\n |-- happiness_rank: string (nullable = true)\n |-- happiness_score: string (nullable = true)\n |-- health: string (nullable = true)\n |-- social_support: string (nullable = true)\n\n</div>",
       "datasetInfos": [],
       "metadata": {},
       "removedWidgets": [],
       "type": "html"
      }
     },
     "output_type": "display_data"
    }
   ],
   "source": [
    "#Revisamos el esquema del datraframe creado\n",
    "df.printSchema()"
   ]
  },
  {
   "cell_type": "code",
   "execution_count": 0,
   "metadata": {
    "application/vnd.databricks.v1+cell": {
     "cellMetadata": {},
     "inputWidgets": {},
     "nuid": "821bbc0c-1cab-488e-8c61-788b65a4fe3d",
     "showTitle": false,
     "tableResultSettingsMap": {},
     "title": ""
    }
   },
   "outputs": [
    {
     "output_type": "display_data",
     "data": {
      "text/html": [
       "<style scoped>\n",
       "  .ansiout {\n",
       "    display: block;\n",
       "    unicode-bidi: embed;\n",
       "    white-space: pre-wrap;\n",
       "    word-wrap: break-word;\n",
       "    word-break: break-all;\n",
       "    font-family: \"Menlo\", \"Monaco\", \"Consolas\", \"Ubuntu Mono\", \"Source Code Pro\", monospace;\n",
       "    font-size: 13px;\n",
       "    color: #555;\n",
       "    margin-left: 4px;\n",
       "    line-height: 19px;\n",
       "  }\n",
       "</style>\n",
       "<div class=\"ansiout\"></div>"
      ]
     },
     "metadata": {
      "application/vnd.databricks.v1+output": {
       "addedWidgets": {},
       "arguments": {},
       "data": "<div class=\"ansiout\"></div>",
       "datasetInfos": [],
       "metadata": {},
       "removedWidgets": [],
       "type": "html"
      }
     },
     "output_type": "display_data"
    }
   ],
   "source": [
    "#Construimos una tabla temporal para correr comandos de SQL\n",
    "#La tabla solo estará activa para esta sesión\n",
    "df.registerTempTable(\"happiness\")"
   ]
  },
  {
   "cell_type": "code",
   "execution_count": 0,
   "metadata": {
    "application/vnd.databricks.v1+cell": {
     "cellMetadata": {},
     "inputWidgets": {},
     "nuid": "5ab004f1-2905-4da2-a136-5316439561ef",
     "showTitle": false,
     "tableResultSettingsMap": {},
     "title": ""
    }
   },
   "outputs": [
    {
     "output_type": "display_data",
     "data": {
      "text/html": [
       "<style scoped>\n",
       "  .table-result-container {\n",
       "    max-height: 300px;\n",
       "    overflow: auto;\n",
       "  }\n",
       "  table, th, td {\n",
       "    border: 1px solid black;\n",
       "    border-collapse: collapse;\n",
       "  }\n",
       "  th, td {\n",
       "    padding: 5px;\n",
       "  }\n",
       "  th {\n",
       "    text-align: left;\n",
       "  }\n",
       "</style><div class='table-result-container'><table class='table-result'><thead style='background-color: white'><tr><th>happiness_score</th><th>count</th></tr></thead><tbody><tr><td>5.208</td><td>2</td></tr><tr><td>5.529</td><td>1</td></tr><tr><td>5.274</td><td>1</td></tr><tr><td>5.175</td><td>1</td></tr><tr><td>2.853</td><td>1</td></tr><tr><td>4.534</td><td>1</td></tr><tr><td>7.48</td><td>1</td></tr><tr><td>3.663</td><td>1</td></tr><tr><td>5.94</td><td>1</td></tr><tr><td>6.321</td><td>1</td></tr><tr><td>7.769</td><td>1</td></tr><tr><td>4.015</td><td>1</td></tr><tr><td>7.139</td><td>1</td></tr><tr><td>6.1</td><td>1</td></tr><tr><td>3.975</td><td>1</td></tr><tr><td>3.231</td><td>1</td></tr><tr><td>4.799</td><td>1</td></tr><tr><td>4.519</td><td>1</td></tr><tr><td>4.107</td><td>1</td></tr><tr><td>4.812</td><td>1</td></tr><tr><td>6.028</td><td>1</td></tr><tr><td>4.696</td><td>1</td></tr><tr><td>4.722</td><td>1</td></tr><tr><td>4.883</td><td>1</td></tr><tr><td>4.461</td><td>1</td></tr><tr><td>5.425</td><td>1</td></tr><tr><td>5.718</td><td>1</td></tr><tr><td>6.852</td><td>1</td></tr><tr><td>6.726</td><td>1</td></tr><tr><td>5.386</td><td>1</td></tr><tr><td>5.525</td><td>1</td></tr><tr><td>4.796</td><td>1</td></tr><tr><td>4.719</td><td>1</td></tr><tr><td>5.809</td><td>1</td></tr><tr><td>4.509</td><td>1</td></tr><tr><td>4.366</td><td>1</td></tr><tr><td>5.432</td><td>1</td></tr><tr><td>4.996</td><td>1</td></tr><tr><td>5.631</td><td>1</td></tr><tr><td>5.743</td><td>1</td></tr><tr><td>7.494</td><td>1</td></tr><tr><td>7.343</td><td>1</td></tr><tr><td>4.639</td><td>1</td></tr><tr><td>5.893</td><td>1</td></tr><tr><td>4.39</td><td>1</td></tr><tr><td>6.374</td><td>1</td></tr><tr><td>6.592</td><td>1</td></tr><tr><td>5.693</td><td>1</td></tr><tr><td>6.118</td><td>1</td></tr><tr><td>3.802</td><td>1</td></tr><tr><td>6.293</td><td>1</td></tr><tr><td>4.374</td><td>1</td></tr><tr><td>6.595</td><td>1</td></tr><tr><td>5.287</td><td>1</td></tr><tr><td>4.668</td><td>1</td></tr><tr><td>5.43</td><td>1</td></tr><tr><td>5.011</td><td>1</td></tr><tr><td>3.933</td><td>1</td></tr><tr><td>6.985</td><td>1</td></tr><tr><td>3.462</td><td>1</td></tr><tr><td>5.192</td><td>1</td></tr><tr><td>4.681</td><td>1</td></tr><tr><td>3.334</td><td>1</td></tr><tr><td>7.278</td><td>1</td></tr><tr><td>5.467</td><td>1</td></tr><tr><td>5.886</td><td>1</td></tr><tr><td>7.054</td><td>1</td></tr><tr><td>5.523</td><td>1</td></tr><tr><td>5.323</td><td>1</td></tr><tr><td>7.228</td><td>1</td></tr><tr><td>7.021</td><td>1</td></tr><tr><td>6.446</td><td>1</td></tr><tr><td>5.697</td><td>1</td></tr><tr><td>4.559</td><td>1</td></tr><tr><td>4.189</td><td>1</td></tr><tr><td>6.375</td><td>1</td></tr><tr><td>4.587</td><td>1</td></tr><tr><td>4.332</td><td>1</td></tr><tr><td>7.246</td><td>1</td></tr><tr><td>5.339</td><td>1</td></tr><tr><td>7.6</td><td>1</td></tr><tr><td>5.265</td><td>1</td></tr><tr><td>4.166</td><td>1</td></tr><tr><td>6.008</td><td>1</td></tr><tr><td>6.125</td><td>1</td></tr><tr><td>4.437</td><td>1</td></tr><tr><td>3.775</td><td>1</td></tr><tr><td>6.199</td><td>1</td></tr><tr><td>3.597</td><td>1</td></tr><tr><td>3.488</td><td>1</td></tr><tr><td>5.197</td><td>1</td></tr><tr><td>5.89</td><td>1</td></tr><tr><td>4.36</td><td>1</td></tr><tr><td>3.203</td><td>1</td></tr><tr><td>4.418</td><td>1</td></tr><tr><td>5.86</td><td>1</td></tr><tr><td>4.466</td><td>1</td></tr><tr><td>5.191</td><td>1</td></tr><tr><td>3.083</td><td>1</td></tr><tr><td>5.261</td><td>1</td></tr><tr><td>6.046</td><td>1</td></tr><tr><td>5.211</td><td>1</td></tr><tr><td>4.913</td><td>1</td></tr><tr><td>6.149</td><td>1</td></tr><tr><td>5.779</td><td>1</td></tr><tr><td>4.628</td><td>1</td></tr><tr><td>6.825</td><td>1</td></tr><tr><td>6.223</td><td>1</td></tr><tr><td>5.653</td><td>1</td></tr><tr><td>5.285</td><td>1</td></tr><tr><td>5.082</td><td>1</td></tr><tr><td>4.707</td><td>1</td></tr><tr><td>3.41</td><td>1</td></tr><tr><td>6.174</td><td>1</td></tr><tr><td>4.516</td><td>1</td></tr><tr><td>6.086</td><td>1</td></tr><tr><td>6.192</td><td>1</td></tr><tr><td>7.488</td><td>1</td></tr><tr><td>6.182</td><td>1</td></tr><tr><td>5.044</td><td>1</td></tr><tr><td>score</td><td>1</td></tr><tr><td>4.49</td><td>1</td></tr><tr><td>4.085</td><td>1</td></tr><tr><td>5.648</td><td>1</td></tr><tr><td>4.7</td><td>1</td></tr><tr><td>4.35</td><td>1</td></tr><tr><td>6.3</td><td>1</td></tr><tr><td>4.548</td><td>1</td></tr><tr><td>6.253</td><td>1</td></tr><tr><td>3.973</td><td>1</td></tr><tr><td>6.262</td><td>1</td></tr><tr><td>7.554</td><td>1</td></tr><tr><td>4.456</td><td>1</td></tr><tr><td>6.892</td><td>1</td></tr><tr><td>4.944</td><td>1</td></tr><tr><td>7.09</td><td>1</td></tr><tr><td>6.436</td><td>1</td></tr><tr><td>6.198</td><td>1</td></tr><tr><td>5.247</td><td>1</td></tr><tr><td>7.167</td><td>1</td></tr><tr><td>4.212</td><td>1</td></tr><tr><td>6.444</td><td>1</td></tr><tr><td>5.758</td><td>1</td></tr><tr><td>6.923</td><td>1</td></tr><tr><td>6.105</td><td>1</td></tr><tr><td>6.07</td><td>1</td></tr><tr><td>5.373</td><td>1</td></tr><tr><td>7.307</td><td>1</td></tr><tr><td>5.603</td><td>1</td></tr><tr><td>6.354</td><td>1</td></tr><tr><td>6.021</td><td>1</td></tr><tr><td>4.906</td><td>1</td></tr><tr><td>4.286</td><td>1</td></tr><tr><td>3.38</td><td>1</td></tr><tr><td>5.895</td><td>1</td></tr><tr><td>5.888</td><td>1</td></tr></tbody></table></div>"
      ]
     },
     "metadata": {
      "application/vnd.databricks.v1+output": {
       "addedWidgets": {},
       "aggData": [],
       "aggError": "",
       "aggOverflow": false,
       "aggSchema": [],
       "aggSeriesLimitReached": false,
       "aggType": "",
       "arguments": {},
       "columnCustomDisplayInfos": {},
       "data": [
        [
         "5.208",
         2
        ],
        [
         "5.529",
         1
        ],
        [
         "5.274",
         1
        ],
        [
         "5.175",
         1
        ],
        [
         "2.853",
         1
        ],
        [
         "4.534",
         1
        ],
        [
         "7.48",
         1
        ],
        [
         "3.663",
         1
        ],
        [
         "5.94",
         1
        ],
        [
         "6.321",
         1
        ],
        [
         "7.769",
         1
        ],
        [
         "4.015",
         1
        ],
        [
         "7.139",
         1
        ],
        [
         "6.1",
         1
        ],
        [
         "3.975",
         1
        ],
        [
         "3.231",
         1
        ],
        [
         "4.799",
         1
        ],
        [
         "4.519",
         1
        ],
        [
         "4.107",
         1
        ],
        [
         "4.812",
         1
        ],
        [
         "6.028",
         1
        ],
        [
         "4.696",
         1
        ],
        [
         "4.722",
         1
        ],
        [
         "4.883",
         1
        ],
        [
         "4.461",
         1
        ],
        [
         "5.425",
         1
        ],
        [
         "5.718",
         1
        ],
        [
         "6.852",
         1
        ],
        [
         "6.726",
         1
        ],
        [
         "5.386",
         1
        ],
        [
         "5.525",
         1
        ],
        [
         "4.796",
         1
        ],
        [
         "4.719",
         1
        ],
        [
         "5.809",
         1
        ],
        [
         "4.509",
         1
        ],
        [
         "4.366",
         1
        ],
        [
         "5.432",
         1
        ],
        [
         "4.996",
         1
        ],
        [
         "5.631",
         1
        ],
        [
         "5.743",
         1
        ],
        [
         "7.494",
         1
        ],
        [
         "7.343",
         1
        ],
        [
         "4.639",
         1
        ],
        [
         "5.893",
         1
        ],
        [
         "4.39",
         1
        ],
        [
         "6.374",
         1
        ],
        [
         "6.592",
         1
        ],
        [
         "5.693",
         1
        ],
        [
         "6.118",
         1
        ],
        [
         "3.802",
         1
        ],
        [
         "6.293",
         1
        ],
        [
         "4.374",
         1
        ],
        [
         "6.595",
         1
        ],
        [
         "5.287",
         1
        ],
        [
         "4.668",
         1
        ],
        [
         "5.43",
         1
        ],
        [
         "5.011",
         1
        ],
        [
         "3.933",
         1
        ],
        [
         "6.985",
         1
        ],
        [
         "3.462",
         1
        ],
        [
         "5.192",
         1
        ],
        [
         "4.681",
         1
        ],
        [
         "3.334",
         1
        ],
        [
         "7.278",
         1
        ],
        [
         "5.467",
         1
        ],
        [
         "5.886",
         1
        ],
        [
         "7.054",
         1
        ],
        [
         "5.523",
         1
        ],
        [
         "5.323",
         1
        ],
        [
         "7.228",
         1
        ],
        [
         "7.021",
         1
        ],
        [
         "6.446",
         1
        ],
        [
         "5.697",
         1
        ],
        [
         "4.559",
         1
        ],
        [
         "4.189",
         1
        ],
        [
         "6.375",
         1
        ],
        [
         "4.587",
         1
        ],
        [
         "4.332",
         1
        ],
        [
         "7.246",
         1
        ],
        [
         "5.339",
         1
        ],
        [
         "7.6",
         1
        ],
        [
         "5.265",
         1
        ],
        [
         "4.166",
         1
        ],
        [
         "6.008",
         1
        ],
        [
         "6.125",
         1
        ],
        [
         "4.437",
         1
        ],
        [
         "3.775",
         1
        ],
        [
         "6.199",
         1
        ],
        [
         "3.597",
         1
        ],
        [
         "3.488",
         1
        ],
        [
         "5.197",
         1
        ],
        [
         "5.89",
         1
        ],
        [
         "4.36",
         1
        ],
        [
         "3.203",
         1
        ],
        [
         "4.418",
         1
        ],
        [
         "5.86",
         1
        ],
        [
         "4.466",
         1
        ],
        [
         "5.191",
         1
        ],
        [
         "3.083",
         1
        ],
        [
         "5.261",
         1
        ],
        [
         "6.046",
         1
        ],
        [
         "5.211",
         1
        ],
        [
         "4.913",
         1
        ],
        [
         "6.149",
         1
        ],
        [
         "5.779",
         1
        ],
        [
         "4.628",
         1
        ],
        [
         "6.825",
         1
        ],
        [
         "6.223",
         1
        ],
        [
         "5.653",
         1
        ],
        [
         "5.285",
         1
        ],
        [
         "5.082",
         1
        ],
        [
         "4.707",
         1
        ],
        [
         "3.41",
         1
        ],
        [
         "6.174",
         1
        ],
        [
         "4.516",
         1
        ],
        [
         "6.086",
         1
        ],
        [
         "6.192",
         1
        ],
        [
         "7.488",
         1
        ],
        [
         "6.182",
         1
        ],
        [
         "5.044",
         1
        ],
        [
         "score",
         1
        ],
        [
         "4.49",
         1
        ],
        [
         "4.085",
         1
        ],
        [
         "5.648",
         1
        ],
        [
         "4.7",
         1
        ],
        [
         "4.35",
         1
        ],
        [
         "6.3",
         1
        ],
        [
         "4.548",
         1
        ],
        [
         "6.253",
         1
        ],
        [
         "3.973",
         1
        ],
        [
         "6.262",
         1
        ],
        [
         "7.554",
         1
        ],
        [
         "4.456",
         1
        ],
        [
         "6.892",
         1
        ],
        [
         "4.944",
         1
        ],
        [
         "7.09",
         1
        ],
        [
         "6.436",
         1
        ],
        [
         "6.198",
         1
        ],
        [
         "5.247",
         1
        ],
        [
         "7.167",
         1
        ],
        [
         "4.212",
         1
        ],
        [
         "6.444",
         1
        ],
        [
         "5.758",
         1
        ],
        [
         "6.923",
         1
        ],
        [
         "6.105",
         1
        ],
        [
         "6.07",
         1
        ],
        [
         "5.373",
         1
        ],
        [
         "7.307",
         1
        ],
        [
         "5.603",
         1
        ],
        [
         "6.354",
         1
        ],
        [
         "6.021",
         1
        ],
        [
         "4.906",
         1
        ],
        [
         "4.286",
         1
        ],
        [
         "3.38",
         1
        ],
        [
         "5.895",
         1
        ],
        [
         "5.888",
         1
        ]
       ],
       "datasetInfos": [],
       "dbfsResultPath": null,
       "isJsonSchema": true,
       "metadata": {},
       "overflow": false,
       "plotOptions": {
        "customPlotOptions": {},
        "displayType": "table",
        "pivotAggregation": null,
        "pivotColumns": null,
        "xColumns": null,
        "yColumns": null
       },
       "removedWidgets": [],
       "schema": [
        {
         "metadata": "{}",
         "name": "happiness_score",
         "type": "\"string\""
        },
        {
         "metadata": "{}",
         "name": "count",
         "type": "\"long\""
        }
       ],
       "type": "table"
      }
     },
     "output_type": "display_data"
    }
   ],
   "source": [
    "#Primera consulta: agrupamos los registros de la tabla por el campo de happiness_score (usando la sintáxis del DataFrame)\n",
    "display(df.groupBy('happiness_score')\n",
    "          .count()\n",
    "          .orderBy('count', ascending=False)\n",
    "       )"
   ]
  },
  {
   "cell_type": "code",
   "execution_count": 0,
   "metadata": {
    "application/vnd.databricks.v1+cell": {
     "cellMetadata": {},
     "inputWidgets": {},
     "nuid": "0d0566a6-fec6-4bbe-8294-d39257d774cb",
     "showTitle": false,
     "tableResultSettingsMap": {},
     "title": ""
    }
   },
   "outputs": [
    {
     "output_type": "display_data",
     "data": {
      "text/html": [
       "<style scoped>\n",
       "  .table-result-container {\n",
       "    max-height: 300px;\n",
       "    overflow: auto;\n",
       "  }\n",
       "  table, th, td {\n",
       "    border: 1px solid black;\n",
       "    border-collapse: collapse;\n",
       "  }\n",
       "  th, td {\n",
       "    padding: 5px;\n",
       "  }\n",
       "  th {\n",
       "    text-align: left;\n",
       "  }\n",
       "</style><div class='table-result-container'><table class='table-result'><thead style='background-color: white'><tr><th>happiness_score</th><th>freq</th></tr></thead><tbody><tr><td>5.208</td><td>2</td></tr><tr><td>5.529</td><td>1</td></tr><tr><td>5.274</td><td>1</td></tr><tr><td>5.175</td><td>1</td></tr><tr><td>2.853</td><td>1</td></tr><tr><td>4.534</td><td>1</td></tr><tr><td>6.321</td><td>1</td></tr><tr><td>7.48</td><td>1</td></tr><tr><td>3.663</td><td>1</td></tr><tr><td>5.94</td><td>1</td></tr><tr><td>4.812</td><td>1</td></tr><tr><td>7.139</td><td>1</td></tr><tr><td>6.1</td><td>1</td></tr><tr><td>6.028</td><td>1</td></tr><tr><td>7.769</td><td>1</td></tr><tr><td>4.015</td><td>1</td></tr><tr><td>5.425</td><td>1</td></tr><tr><td>3.231</td><td>1</td></tr><tr><td>4.799</td><td>1</td></tr><tr><td>4.519</td><td>1</td></tr><tr><td>4.107</td><td>1</td></tr><tr><td>3.975</td><td>1</td></tr><tr><td>4.722</td><td>1</td></tr><tr><td>4.461</td><td>1</td></tr><tr><td>6.726</td><td>1</td></tr><tr><td>5.386</td><td>1</td></tr><tr><td>4.696</td><td>1</td></tr><tr><td>6.852</td><td>1</td></tr><tr><td>4.883</td><td>1</td></tr><tr><td>5.525</td><td>1</td></tr><tr><td>4.796</td><td>1</td></tr><tr><td>4.719</td><td>1</td></tr><tr><td>5.718</td><td>1</td></tr><tr><td>5.809</td><td>1</td></tr><tr><td>4.509</td><td>1</td></tr><tr><td>5.743</td><td>1</td></tr><tr><td>4.366</td><td>1</td></tr><tr><td>4.996</td><td>1</td></tr><tr><td>5.432</td><td>1</td></tr><tr><td>5.893</td><td>1</td></tr><tr><td>4.39</td><td>1</td></tr><tr><td>5.631</td><td>1</td></tr><tr><td>6.595</td><td>1</td></tr><tr><td>7.494</td><td>1</td></tr><tr><td>7.343</td><td>1</td></tr><tr><td>4.639</td><td>1</td></tr><tr><td>6.374</td><td>1</td></tr><tr><td>6.293</td><td>1</td></tr><tr><td>4.374</td><td>1</td></tr><tr><td>6.592</td><td>1</td></tr><tr><td>5.693</td><td>1</td></tr><tr><td>6.118</td><td>1</td></tr><tr><td>3.802</td><td>1</td></tr><tr><td>5.287</td><td>1</td></tr><tr><td>4.668</td><td>1</td></tr><tr><td>3.933</td><td>1</td></tr><tr><td>5.43</td><td>1</td></tr><tr><td>5.011</td><td>1</td></tr><tr><td>4.681</td><td>1</td></tr><tr><td>3.334</td><td>1</td></tr><tr><td>5.192</td><td>1</td></tr><tr><td>7.278</td><td>1</td></tr><tr><td>6.985</td><td>1</td></tr><tr><td>3.462</td><td>1</td></tr><tr><td>5.886</td><td>1</td></tr><tr><td>6.446</td><td>1</td></tr><tr><td>5.697</td><td>1</td></tr><tr><td>4.559</td><td>1</td></tr><tr><td>4.189</td><td>1</td></tr><tr><td>5.467</td><td>1</td></tr><tr><td>7.228</td><td>1</td></tr><tr><td>7.021</td><td>1</td></tr><tr><td>7.054</td><td>1</td></tr><tr><td>5.523</td><td>1</td></tr><tr><td>5.323</td><td>1</td></tr><tr><td>6.375</td><td>1</td></tr><tr><td>6.125</td><td>1</td></tr><tr><td>4.437</td><td>1</td></tr><tr><td>3.775</td><td>1</td></tr><tr><td>6.199</td><td>1</td></tr><tr><td>3.597</td><td>1</td></tr><tr><td>4.587</td><td>1</td></tr><tr><td>4.332</td><td>1</td></tr><tr><td>7.6</td><td>1</td></tr><tr><td>5.265</td><td>1</td></tr><tr><td>5.339</td><td>1</td></tr><tr><td>4.166</td><td>1</td></tr><tr><td>3.203</td><td>1</td></tr><tr><td>7.246</td><td>1</td></tr><tr><td>3.488</td><td>1</td></tr><tr><td>5.86</td><td>1</td></tr><tr><td>4.466</td><td>1</td></tr><tr><td>6.008</td><td>1</td></tr><tr><td>5.191</td><td>1</td></tr><tr><td>3.083</td><td>1</td></tr><tr><td>5.197</td><td>1</td></tr><tr><td>4.418</td><td>1</td></tr><tr><td>4.913</td><td>1</td></tr><tr><td>5.261</td><td>1</td></tr><tr><td>5.89</td><td>1</td></tr><tr><td>4.36</td><td>1</td></tr><tr><td>6.046</td><td>1</td></tr><tr><td>5.211</td><td>1</td></tr><tr><td>6.149</td><td>1</td></tr><tr><td>5.779</td><td>1</td></tr><tr><td>6.825</td><td>1</td></tr><tr><td>5.082</td><td>1</td></tr><tr><td>4.707</td><td>1</td></tr><tr><td>3.41</td><td>1</td></tr><tr><td>4.628</td><td>1</td></tr><tr><td>6.223</td><td>1</td></tr><tr><td>5.653</td><td>1</td></tr><tr><td>5.285</td><td>1</td></tr><tr><td>score</td><td>1</td></tr><tr><td>4.49</td><td>1</td></tr><tr><td>4.085</td><td>1</td></tr><tr><td>5.648</td><td>1</td></tr><tr><td>7.488</td><td>1</td></tr><tr><td>6.182</td><td>1</td></tr><tr><td>5.044</td><td>1</td></tr><tr><td>6.174</td><td>1</td></tr><tr><td>4.516</td><td>1</td></tr><tr><td>6.086</td><td>1</td></tr><tr><td>6.253</td><td>1</td></tr><tr><td>3.973</td><td>1</td></tr><tr><td>6.192</td><td>1</td></tr><tr><td>4.35</td><td>1</td></tr><tr><td>6.198</td><td>1</td></tr><tr><td>4.7</td><td>1</td></tr><tr><td>7.09</td><td>1</td></tr><tr><td>6.436</td><td>1</td></tr><tr><td>6.262</td><td>1</td></tr><tr><td>6.892</td><td>1</td></tr><tr><td>4.944</td><td>1</td></tr><tr><td>6.3</td><td>1</td></tr><tr><td>4.548</td><td>1</td></tr><tr><td>6.444</td><td>1</td></tr><tr><td>7.554</td><td>1</td></tr><tr><td>4.456</td><td>1</td></tr><tr><td>6.923</td><td>1</td></tr><tr><td>6.105</td><td>1</td></tr><tr><td>6.07</td><td>1</td></tr><tr><td>5.373</td><td>1</td></tr><tr><td>7.307</td><td>1</td></tr><tr><td>5.603</td><td>1</td></tr><tr><td>5.758</td><td>1</td></tr><tr><td>6.354</td><td>1</td></tr><tr><td>4.906</td><td>1</td></tr><tr><td>7.167</td><td>1</td></tr><tr><td>4.212</td><td>1</td></tr><tr><td>5.247</td><td>1</td></tr><tr><td>6.021</td><td>1</td></tr><tr><td>4.286</td><td>1</td></tr><tr><td>5.895</td><td>1</td></tr><tr><td>5.888</td><td>1</td></tr><tr><td>3.38</td><td>1</td></tr></tbody></table></div>"
      ]
     },
     "metadata": {
      "application/vnd.databricks.v1+output": {
       "addedWidgets": {},
       "aggData": [],
       "aggError": "",
       "aggOverflow": false,
       "aggSchema": [],
       "aggSeriesLimitReached": false,
       "aggType": "",
       "arguments": {},
       "columnCustomDisplayInfos": {},
       "data": [
        [
         "5.208",
         2
        ],
        [
         "5.529",
         1
        ],
        [
         "5.274",
         1
        ],
        [
         "5.175",
         1
        ],
        [
         "2.853",
         1
        ],
        [
         "4.534",
         1
        ],
        [
         "6.321",
         1
        ],
        [
         "7.48",
         1
        ],
        [
         "3.663",
         1
        ],
        [
         "5.94",
         1
        ],
        [
         "4.812",
         1
        ],
        [
         "7.139",
         1
        ],
        [
         "6.1",
         1
        ],
        [
         "6.028",
         1
        ],
        [
         "7.769",
         1
        ],
        [
         "4.015",
         1
        ],
        [
         "5.425",
         1
        ],
        [
         "3.231",
         1
        ],
        [
         "4.799",
         1
        ],
        [
         "4.519",
         1
        ],
        [
         "4.107",
         1
        ],
        [
         "3.975",
         1
        ],
        [
         "4.722",
         1
        ],
        [
         "4.461",
         1
        ],
        [
         "6.726",
         1
        ],
        [
         "5.386",
         1
        ],
        [
         "4.696",
         1
        ],
        [
         "6.852",
         1
        ],
        [
         "4.883",
         1
        ],
        [
         "5.525",
         1
        ],
        [
         "4.796",
         1
        ],
        [
         "4.719",
         1
        ],
        [
         "5.718",
         1
        ],
        [
         "5.809",
         1
        ],
        [
         "4.509",
         1
        ],
        [
         "5.743",
         1
        ],
        [
         "4.366",
         1
        ],
        [
         "4.996",
         1
        ],
        [
         "5.432",
         1
        ],
        [
         "5.893",
         1
        ],
        [
         "4.39",
         1
        ],
        [
         "5.631",
         1
        ],
        [
         "6.595",
         1
        ],
        [
         "7.494",
         1
        ],
        [
         "7.343",
         1
        ],
        [
         "4.639",
         1
        ],
        [
         "6.374",
         1
        ],
        [
         "6.293",
         1
        ],
        [
         "4.374",
         1
        ],
        [
         "6.592",
         1
        ],
        [
         "5.693",
         1
        ],
        [
         "6.118",
         1
        ],
        [
         "3.802",
         1
        ],
        [
         "5.287",
         1
        ],
        [
         "4.668",
         1
        ],
        [
         "3.933",
         1
        ],
        [
         "5.43",
         1
        ],
        [
         "5.011",
         1
        ],
        [
         "4.681",
         1
        ],
        [
         "3.334",
         1
        ],
        [
         "5.192",
         1
        ],
        [
         "7.278",
         1
        ],
        [
         "6.985",
         1
        ],
        [
         "3.462",
         1
        ],
        [
         "5.886",
         1
        ],
        [
         "6.446",
         1
        ],
        [
         "5.697",
         1
        ],
        [
         "4.559",
         1
        ],
        [
         "4.189",
         1
        ],
        [
         "5.467",
         1
        ],
        [
         "7.228",
         1
        ],
        [
         "7.021",
         1
        ],
        [
         "7.054",
         1
        ],
        [
         "5.523",
         1
        ],
        [
         "5.323",
         1
        ],
        [
         "6.375",
         1
        ],
        [
         "6.125",
         1
        ],
        [
         "4.437",
         1
        ],
        [
         "3.775",
         1
        ],
        [
         "6.199",
         1
        ],
        [
         "3.597",
         1
        ],
        [
         "4.587",
         1
        ],
        [
         "4.332",
         1
        ],
        [
         "7.6",
         1
        ],
        [
         "5.265",
         1
        ],
        [
         "5.339",
         1
        ],
        [
         "4.166",
         1
        ],
        [
         "3.203",
         1
        ],
        [
         "7.246",
         1
        ],
        [
         "3.488",
         1
        ],
        [
         "5.86",
         1
        ],
        [
         "4.466",
         1
        ],
        [
         "6.008",
         1
        ],
        [
         "5.191",
         1
        ],
        [
         "3.083",
         1
        ],
        [
         "5.197",
         1
        ],
        [
         "4.418",
         1
        ],
        [
         "4.913",
         1
        ],
        [
         "5.261",
         1
        ],
        [
         "5.89",
         1
        ],
        [
         "4.36",
         1
        ],
        [
         "6.046",
         1
        ],
        [
         "5.211",
         1
        ],
        [
         "6.149",
         1
        ],
        [
         "5.779",
         1
        ],
        [
         "6.825",
         1
        ],
        [
         "5.082",
         1
        ],
        [
         "4.707",
         1
        ],
        [
         "3.41",
         1
        ],
        [
         "4.628",
         1
        ],
        [
         "6.223",
         1
        ],
        [
         "5.653",
         1
        ],
        [
         "5.285",
         1
        ],
        [
         "score",
         1
        ],
        [
         "4.49",
         1
        ],
        [
         "4.085",
         1
        ],
        [
         "5.648",
         1
        ],
        [
         "7.488",
         1
        ],
        [
         "6.182",
         1
        ],
        [
         "5.044",
         1
        ],
        [
         "6.174",
         1
        ],
        [
         "4.516",
         1
        ],
        [
         "6.086",
         1
        ],
        [
         "6.253",
         1
        ],
        [
         "3.973",
         1
        ],
        [
         "6.192",
         1
        ],
        [
         "4.35",
         1
        ],
        [
         "6.198",
         1
        ],
        [
         "4.7",
         1
        ],
        [
         "7.09",
         1
        ],
        [
         "6.436",
         1
        ],
        [
         "6.262",
         1
        ],
        [
         "6.892",
         1
        ],
        [
         "4.944",
         1
        ],
        [
         "6.3",
         1
        ],
        [
         "4.548",
         1
        ],
        [
         "6.444",
         1
        ],
        [
         "7.554",
         1
        ],
        [
         "4.456",
         1
        ],
        [
         "6.923",
         1
        ],
        [
         "6.105",
         1
        ],
        [
         "6.07",
         1
        ],
        [
         "5.373",
         1
        ],
        [
         "7.307",
         1
        ],
        [
         "5.603",
         1
        ],
        [
         "5.758",
         1
        ],
        [
         "6.354",
         1
        ],
        [
         "4.906",
         1
        ],
        [
         "7.167",
         1
        ],
        [
         "4.212",
         1
        ],
        [
         "5.247",
         1
        ],
        [
         "6.021",
         1
        ],
        [
         "4.286",
         1
        ],
        [
         "5.895",
         1
        ],
        [
         "5.888",
         1
        ],
        [
         "3.38",
         1
        ]
       ],
       "datasetInfos": [
        {
         "name": "happ_query",
         "schema": {
          "fields": [
           {
            "metadata": {},
            "name": "happiness_score",
            "nullable": true,
            "type": "string"
           },
           {
            "metadata": {},
            "name": "freq",
            "nullable": false,
            "type": "long"
           }
          ],
          "type": "struct"
         },
         "tableIdentifier": null,
         "typeStr": "pyspark.sql.dataframe.DataFrame"
        }
       ],
       "dbfsResultPath": null,
       "isJsonSchema": true,
       "metadata": {},
       "overflow": false,
       "plotOptions": {
        "customPlotOptions": {},
        "displayType": "table",
        "pivotAggregation": null,
        "pivotColumns": null,
        "xColumns": null,
        "yColumns": null
       },
       "removedWidgets": [],
       "schema": [
        {
         "metadata": "{}",
         "name": "happiness_score",
         "type": "\"string\""
        },
        {
         "metadata": "{}",
         "name": "freq",
         "type": "\"long\""
        }
       ],
       "type": "table"
      }
     },
     "output_type": "display_data"
    }
   ],
   "source": [
    "#Misma consulta, ahora usando la sintáxis de SQL\n",
    "happ_query = sqlContext.sql(\"\"\"\n",
    "                        SELECT happiness_score, count(*) as freq\n",
    "                        FROM happiness\n",
    "                        GROUP BY happiness_score\n",
    "                        ORDER BY 2 DESC\n",
    "                        \"\"\")\n",
    "display(happ_query)"
   ]
  },
  {
   "cell_type": "code",
   "execution_count": 0,
   "metadata": {
    "application/vnd.databricks.v1+cell": {
     "cellMetadata": {},
     "inputWidgets": {},
     "nuid": "e630a646-8306-4309-8f07-1c4d3152b0fd",
     "showTitle": false,
     "tableResultSettingsMap": {},
     "title": ""
    }
   },
   "outputs": [
    {
     "output_type": "display_data",
     "data": {
      "text/html": [
       "<style scoped>\n",
       "  .table-result-container {\n",
       "    max-height: 300px;\n",
       "    overflow: auto;\n",
       "  }\n",
       "  table, th, td {\n",
       "    border: 1px solid black;\n",
       "    border-collapse: collapse;\n",
       "  }\n",
       "  th, td {\n",
       "    padding: 5px;\n",
       "  }\n",
       "  th {\n",
       "    text-align: left;\n",
       "  }\n",
       "</style><div class='table-result-container'><table class='table-result'><thead style='background-color: white'><tr><th>country</th><th>happiness_score</th></tr></thead><tbody><tr><td>Morocco</td><td>5.208</td></tr><tr><td>Azerbaijan</td><td>5.208</td></tr></tbody></table></div>"
      ]
     },
     "metadata": {
      "application/vnd.databricks.v1+output": {
       "addedWidgets": {},
       "aggData": [],
       "aggError": "",
       "aggOverflow": false,
       "aggSchema": [],
       "aggSeriesLimitReached": false,
       "aggType": "",
       "arguments": {},
       "columnCustomDisplayInfos": {},
       "data": [
        [
         "Morocco",
         "5.208"
        ],
        [
         "Azerbaijan",
         "5.208"
        ]
       ],
       "datasetInfos": [
        {
         "name": "happ_query",
         "schema": {
          "fields": [
           {
            "metadata": {},
            "name": "country",
            "nullable": true,
            "type": "string"
           },
           {
            "metadata": {},
            "name": "happiness_score",
            "nullable": true,
            "type": "string"
           }
          ],
          "type": "struct"
         },
         "tableIdentifier": null,
         "typeStr": "pyspark.sql.dataframe.DataFrame"
        }
       ],
       "dbfsResultPath": null,
       "isJsonSchema": true,
       "metadata": {},
       "overflow": false,
       "plotOptions": {
        "customPlotOptions": {},
        "displayType": "table",
        "pivotAggregation": null,
        "pivotColumns": null,
        "xColumns": null,
        "yColumns": null
       },
       "removedWidgets": [],
       "schema": [
        {
         "metadata": "{}",
         "name": "country",
         "type": "\"string\""
        },
        {
         "metadata": "{}",
         "name": "happiness_score",
         "type": "\"string\""
        }
       ],
       "type": "table"
      }
     },
     "output_type": "display_data"
    }
   ],
   "source": [
    "#Vamos a listar qué paises son los que tienen el mismo nivel de felicidad\n",
    "happ_query = sqlContext(\"\"\"\n",
    "                        SELECT country, happiness_score\n",
    "                        FROM happiness\n",
    "                        where happiness_score ==5.208\n",
    "                        \"\"\")\n",
    "display(happ_query)"
   ]
  },
  {
   "cell_type": "code",
   "execution_count": 0,
   "metadata": {
    "application/vnd.databricks.v1+cell": {
     "cellMetadata": {},
     "inputWidgets": {},
     "nuid": "e27468a1-01be-47fa-958c-ca94f6526b16",
     "showTitle": false,
     "tableResultSettingsMap": {},
     "title": ""
    }
   },
   "outputs": [
    {
     "output_type": "display_data",
     "data": {
      "text/html": [
       "<style scoped>\n",
       "  .table-result-container {\n",
       "    max-height: 300px;\n",
       "    overflow: auto;\n",
       "  }\n",
       "  table, th, td {\n",
       "    border: 1px solid black;\n",
       "    border-collapse: collapse;\n",
       "  }\n",
       "  th, td {\n",
       "    padding: 5px;\n",
       "  }\n",
       "  th {\n",
       "    text-align: left;\n",
       "  }\n",
       "</style><div class='table-result-container'><table class='table-result'><thead style='background-color: white'><tr><th>country</th><th>happiness_rank</th><th>corruption</th></tr></thead><tbody><tr><td>United Arab Emirates</td><td>21</td><td>0.182</td></tr><tr><td>Malta</td><td>22</td><td>0.151</td></tr><tr><td>Mexico</td><td>23</td><td>0.073</td></tr><tr><td>France</td><td>24</td><td>0.183</td></tr><tr><td>Taiwan</td><td>25</td><td>0.097</td></tr><tr><td>Chile</td><td>26</td><td>0.056</td></tr><tr><td>Guatemala</td><td>27</td><td>0.078</td></tr><tr><td>Saudi Arabia</td><td>28</td><td>0.132</td></tr><tr><td>Qatar</td><td>29</td><td>0.167</td></tr><tr><td>Spain</td><td>30</td><td>0.079</td></tr><tr><td>Panama</td><td>31</td><td>0.054</td></tr><tr><td>Brazil</td><td>32</td><td>0.086</td></tr><tr><td>Uruguay</td><td>33</td><td>0.15</td></tr><tr><td>Singapore</td><td>34</td><td>0.453</td></tr><tr><td>El Salvador</td><td>35</td><td>0.074</td></tr><tr><td>Italy</td><td>36</td><td>0.03</td></tr><tr><td>Bahrain</td><td>37</td><td>0.11</td></tr><tr><td>Slovakia</td><td>38</td><td>0.014</td></tr><tr><td>Trinidad & Tobago</td><td>39</td><td>0.016</td></tr><tr><td>Poland</td><td>40</td><td>0.05</td></tr><tr><td>Uzbekistan</td><td>41</td><td>0.24</td></tr><tr><td>Lithuania</td><td>42</td><td>0.042</td></tr><tr><td>Colombia</td><td>43</td><td>0.034</td></tr><tr><td>Slovenia</td><td>44</td><td>0.057</td></tr><tr><td>Nicaragua</td><td>45</td><td>0.127</td></tr><tr><td>Kosovo</td><td>46</td><td>0.006</td></tr><tr><td>Argentina</td><td>47</td><td>0.05</td></tr><tr><td>Romania</td><td>48</td><td>0.005</td></tr><tr><td>Cyprus</td><td>49</td><td>0.041</td></tr><tr><td>Ecuador</td><td>50</td><td>0.087</td></tr><tr><td>Kuwait</td><td>51</td><td>0.097</td></tr><tr><td>Thailand</td><td>52</td><td>0.028</td></tr><tr><td>Latvia</td><td>53</td><td>0.064</td></tr><tr><td>South Korea</td><td>54</td><td>0.056</td></tr><tr><td>Estonia</td><td>55</td><td>0.161</td></tr><tr><td>Jamaica</td><td>56</td><td>0.028</td></tr><tr><td>Mauritius</td><td>57</td><td>0.06</td></tr><tr><td>Japan</td><td>58</td><td>0.14</td></tr><tr><td>Honduras</td><td>59</td><td>0.078</td></tr><tr><td>Kazakhstan</td><td>60</td><td>0.096</td></tr><tr><td>Bolivia</td><td>61</td><td>0.064</td></tr><tr><td>Hungary</td><td>62</td><td>0.02</td></tr><tr><td>Paraguay</td><td>63</td><td>0.08</td></tr><tr><td>Northern Cyprus</td><td>64</td><td>0.162</td></tr><tr><td>Peru</td><td>65</td><td>0.027</td></tr><tr><td>Portugal</td><td>66</td><td>0.025</td></tr><tr><td>Pakistan</td><td>67</td><td>0.098</td></tr><tr><td>Russia</td><td>68</td><td>0.031</td></tr><tr><td>Philippines</td><td>69</td><td>0.107</td></tr><tr><td>Serbia</td><td>70</td><td>0.039</td></tr><tr><td>Moldova</td><td>71</td><td>0</td></tr><tr><td>Libya</td><td>72</td><td>0.152</td></tr><tr><td>Montenegro</td><td>73</td><td>0.08</td></tr><tr><td>Tajikistan</td><td>74</td><td>0.144</td></tr><tr><td>Croatia</td><td>75</td><td>0.022</td></tr><tr><td>Hong Kong</td><td>76</td><td>0.287</td></tr><tr><td>Dominican Republic</td><td>77</td><td>0.101</td></tr><tr><td>Bosnia and Herzegovina</td><td>78</td><td>0.006</td></tr><tr><td>Turkey</td><td>79</td><td>0.106</td></tr><tr><td>Malaysia</td><td>80</td><td>0.024</td></tr><tr><td>Belarus</td><td>81</td><td>0.142</td></tr><tr><td>Greece</td><td>82</td><td>0.034</td></tr><tr><td>Mongolia</td><td>83</td><td>0.038</td></tr><tr><td>North Macedonia</td><td>84</td><td>0.034</td></tr><tr><td>Nigeria</td><td>85</td><td>0.041</td></tr><tr><td>Kyrgyzstan</td><td>86</td><td>0.023</td></tr><tr><td>Turkmenistan</td><td>87</td><td>0.028</td></tr><tr><td>Algeria</td><td>88</td><td>0.114</td></tr><tr><td>Morocco</td><td>89</td><td>0.076</td></tr><tr><td>Azerbaijan</td><td>90</td><td>0.182</td></tr><tr><td>Lebanon</td><td>91</td><td>0.027</td></tr><tr><td>Indonesia</td><td>92</td><td>0.028</td></tr><tr><td>China</td><td>93</td><td>0.1</td></tr><tr><td>Vietnam</td><td>94</td><td>0.073</td></tr><tr><td>Bhutan</td><td>95</td><td>0.167</td></tr><tr><td>Cameroon</td><td>96</td><td>0.037</td></tr><tr><td>Bulgaria</td><td>97</td><td>0.004</td></tr><tr><td>Ghana</td><td>98</td><td>0.04</td></tr><tr><td>Ivory Coast</td><td>99</td><td>0.09</td></tr><tr><td>Nepal</td><td>100</td><td>0.089</td></tr><tr><td>Jordan</td><td>101</td><td>0.13</td></tr><tr><td>Benin</td><td>102</td><td>0.082</td></tr><tr><td>Congo (Brazzaville)</td><td>103</td><td>0.093</td></tr><tr><td>Gabon</td><td>104</td><td>0.055</td></tr><tr><td>Laos</td><td>105</td><td>0.164</td></tr><tr><td>South Africa</td><td>106</td><td>0.055</td></tr><tr><td>Albania</td><td>107</td><td>0.027</td></tr><tr><td>Venezuela</td><td>108</td><td>0.047</td></tr><tr><td>Cambodia</td><td>109</td><td>0.062</td></tr><tr><td>Palestinian Territories</td><td>110</td><td>0.066</td></tr><tr><td>Senegal</td><td>111</td><td>0.072</td></tr><tr><td>Somalia</td><td>112</td><td>0.27</td></tr><tr><td>Namibia</td><td>113</td><td>0.056</td></tr><tr><td>Niger</td><td>114</td><td>0.102</td></tr><tr><td>Burkina Faso</td><td>115</td><td>0.113</td></tr><tr><td>Armenia</td><td>116</td><td>0.064</td></tr><tr><td>Iran</td><td>117</td><td>0.125</td></tr><tr><td>Guinea</td><td>118</td><td>0.086</td></tr><tr><td>Georgia</td><td>119</td><td>0.164</td></tr><tr><td>Gambia</td><td>120</td><td>0.167</td></tr><tr><td>Kenya</td><td>121</td><td>0.053</td></tr><tr><td>Mauritania</td><td>122</td><td>0.088</td></tr><tr><td>Mozambique</td><td>123</td><td>0.138</td></tr><tr><td>Tunisia</td><td>124</td><td>0.055</td></tr><tr><td>Bangladesh</td><td>125</td><td>0.143</td></tr><tr><td>Iraq</td><td>126</td><td>0.089</td></tr><tr><td>Congo (Kinshasa)</td><td>127</td><td>0.053</td></tr><tr><td>Mali</td><td>128</td><td>0.052</td></tr><tr><td>Sierra Leone</td><td>129</td><td>0.045</td></tr><tr><td>Sri Lanka</td><td>130</td><td>0.047</td></tr><tr><td>Myanmar</td><td>131</td><td>0.172</td></tr><tr><td>Chad</td><td>132</td><td>0.078</td></tr><tr><td>Ukraine</td><td>133</td><td>0.01</td></tr><tr><td>Ethiopia</td><td>134</td><td>0.1</td></tr><tr><td>Swaziland</td><td>135</td><td>0.135</td></tr><tr><td>Uganda</td><td>136</td><td>0.06</td></tr><tr><td>Egypt</td><td>137</td><td>0.067</td></tr><tr><td>Zambia</td><td>138</td><td>0.087</td></tr><tr><td>Togo</td><td>139</td><td>0.085</td></tr><tr><td>India</td><td>140</td><td>0.085</td></tr><tr><td>Liberia</td><td>141</td><td>0.033</td></tr><tr><td>Comoros</td><td>142</td><td>0.078</td></tr><tr><td>Madagascar</td><td>143</td><td>0.041</td></tr><tr><td>Lesotho</td><td>144</td><td>0.093</td></tr><tr><td>Burundi</td><td>145</td><td>0.18</td></tr><tr><td>Zimbabwe</td><td>146</td><td>0.089</td></tr><tr><td>Haiti</td><td>147</td><td>0.11</td></tr><tr><td>Botswana</td><td>148</td><td>0.1</td></tr><tr><td>Syria</td><td>149</td><td>0.141</td></tr><tr><td>Malawi</td><td>150</td><td>0.089</td></tr><tr><td>Yemen</td><td>151</td><td>0.077</td></tr><tr><td>Rwanda</td><td>152</td><td>0.411</td></tr><tr><td>Tanzania</td><td>153</td><td>0.147</td></tr><tr><td>Afghanistan</td><td>154</td><td>0.025</td></tr><tr><td>Central African Republic</td><td>155</td><td>0.035</td></tr><tr><td>South Sudan</td><td>156</td><td>0.091</td></tr></tbody></table></div>"
      ]
     },
     "metadata": {
      "application/vnd.databricks.v1+output": {
       "addedWidgets": {},
       "aggData": [],
       "aggError": "",
       "aggOverflow": false,
       "aggSchema": [],
       "aggSeriesLimitReached": false,
       "aggType": "",
       "arguments": {},
       "columnCustomDisplayInfos": {},
       "data": [
        [
         "United Arab Emirates",
         "21",
         "0.182"
        ],
        [
         "Malta",
         "22",
         "0.151"
        ],
        [
         "Mexico",
         "23",
         "0.073"
        ],
        [
         "France",
         "24",
         "0.183"
        ],
        [
         "Taiwan",
         "25",
         "0.097"
        ],
        [
         "Chile",
         "26",
         "0.056"
        ],
        [
         "Guatemala",
         "27",
         "0.078"
        ],
        [
         "Saudi Arabia",
         "28",
         "0.132"
        ],
        [
         "Qatar",
         "29",
         "0.167"
        ],
        [
         "Spain",
         "30",
         "0.079"
        ],
        [
         "Panama",
         "31",
         "0.054"
        ],
        [
         "Brazil",
         "32",
         "0.086"
        ],
        [
         "Uruguay",
         "33",
         "0.15"
        ],
        [
         "Singapore",
         "34",
         "0.453"
        ],
        [
         "El Salvador",
         "35",
         "0.074"
        ],
        [
         "Italy",
         "36",
         "0.03"
        ],
        [
         "Bahrain",
         "37",
         "0.11"
        ],
        [
         "Slovakia",
         "38",
         "0.014"
        ],
        [
         "Trinidad & Tobago",
         "39",
         "0.016"
        ],
        [
         "Poland",
         "40",
         "0.05"
        ],
        [
         "Uzbekistan",
         "41",
         "0.24"
        ],
        [
         "Lithuania",
         "42",
         "0.042"
        ],
        [
         "Colombia",
         "43",
         "0.034"
        ],
        [
         "Slovenia",
         "44",
         "0.057"
        ],
        [
         "Nicaragua",
         "45",
         "0.127"
        ],
        [
         "Kosovo",
         "46",
         "0.006"
        ],
        [
         "Argentina",
         "47",
         "0.05"
        ],
        [
         "Romania",
         "48",
         "0.005"
        ],
        [
         "Cyprus",
         "49",
         "0.041"
        ],
        [
         "Ecuador",
         "50",
         "0.087"
        ],
        [
         "Kuwait",
         "51",
         "0.097"
        ],
        [
         "Thailand",
         "52",
         "0.028"
        ],
        [
         "Latvia",
         "53",
         "0.064"
        ],
        [
         "South Korea",
         "54",
         "0.056"
        ],
        [
         "Estonia",
         "55",
         "0.161"
        ],
        [
         "Jamaica",
         "56",
         "0.028"
        ],
        [
         "Mauritius",
         "57",
         "0.06"
        ],
        [
         "Japan",
         "58",
         "0.14"
        ],
        [
         "Honduras",
         "59",
         "0.078"
        ],
        [
         "Kazakhstan",
         "60",
         "0.096"
        ],
        [
         "Bolivia",
         "61",
         "0.064"
        ],
        [
         "Hungary",
         "62",
         "0.02"
        ],
        [
         "Paraguay",
         "63",
         "0.08"
        ],
        [
         "Northern Cyprus",
         "64",
         "0.162"
        ],
        [
         "Peru",
         "65",
         "0.027"
        ],
        [
         "Portugal",
         "66",
         "0.025"
        ],
        [
         "Pakistan",
         "67",
         "0.098"
        ],
        [
         "Russia",
         "68",
         "0.031"
        ],
        [
         "Philippines",
         "69",
         "0.107"
        ],
        [
         "Serbia",
         "70",
         "0.039"
        ],
        [
         "Moldova",
         "71",
         "0"
        ],
        [
         "Libya",
         "72",
         "0.152"
        ],
        [
         "Montenegro",
         "73",
         "0.08"
        ],
        [
         "Tajikistan",
         "74",
         "0.144"
        ],
        [
         "Croatia",
         "75",
         "0.022"
        ],
        [
         "Hong Kong",
         "76",
         "0.287"
        ],
        [
         "Dominican Republic",
         "77",
         "0.101"
        ],
        [
         "Bosnia and Herzegovina",
         "78",
         "0.006"
        ],
        [
         "Turkey",
         "79",
         "0.106"
        ],
        [
         "Malaysia",
         "80",
         "0.024"
        ],
        [
         "Belarus",
         "81",
         "0.142"
        ],
        [
         "Greece",
         "82",
         "0.034"
        ],
        [
         "Mongolia",
         "83",
         "0.038"
        ],
        [
         "North Macedonia",
         "84",
         "0.034"
        ],
        [
         "Nigeria",
         "85",
         "0.041"
        ],
        [
         "Kyrgyzstan",
         "86",
         "0.023"
        ],
        [
         "Turkmenistan",
         "87",
         "0.028"
        ],
        [
         "Algeria",
         "88",
         "0.114"
        ],
        [
         "Morocco",
         "89",
         "0.076"
        ],
        [
         "Azerbaijan",
         "90",
         "0.182"
        ],
        [
         "Lebanon",
         "91",
         "0.027"
        ],
        [
         "Indonesia",
         "92",
         "0.028"
        ],
        [
         "China",
         "93",
         "0.1"
        ],
        [
         "Vietnam",
         "94",
         "0.073"
        ],
        [
         "Bhutan",
         "95",
         "0.167"
        ],
        [
         "Cameroon",
         "96",
         "0.037"
        ],
        [
         "Bulgaria",
         "97",
         "0.004"
        ],
        [
         "Ghana",
         "98",
         "0.04"
        ],
        [
         "Ivory Coast",
         "99",
         "0.09"
        ],
        [
         "Nepal",
         "100",
         "0.089"
        ],
        [
         "Jordan",
         "101",
         "0.13"
        ],
        [
         "Benin",
         "102",
         "0.082"
        ],
        [
         "Congo (Brazzaville)",
         "103",
         "0.093"
        ],
        [
         "Gabon",
         "104",
         "0.055"
        ],
        [
         "Laos",
         "105",
         "0.164"
        ],
        [
         "South Africa",
         "106",
         "0.055"
        ],
        [
         "Albania",
         "107",
         "0.027"
        ],
        [
         "Venezuela",
         "108",
         "0.047"
        ],
        [
         "Cambodia",
         "109",
         "0.062"
        ],
        [
         "Palestinian Territories",
         "110",
         "0.066"
        ],
        [
         "Senegal",
         "111",
         "0.072"
        ],
        [
         "Somalia",
         "112",
         "0.27"
        ],
        [
         "Namibia",
         "113",
         "0.056"
        ],
        [
         "Niger",
         "114",
         "0.102"
        ],
        [
         "Burkina Faso",
         "115",
         "0.113"
        ],
        [
         "Armenia",
         "116",
         "0.064"
        ],
        [
         "Iran",
         "117",
         "0.125"
        ],
        [
         "Guinea",
         "118",
         "0.086"
        ],
        [
         "Georgia",
         "119",
         "0.164"
        ],
        [
         "Gambia",
         "120",
         "0.167"
        ],
        [
         "Kenya",
         "121",
         "0.053"
        ],
        [
         "Mauritania",
         "122",
         "0.088"
        ],
        [
         "Mozambique",
         "123",
         "0.138"
        ],
        [
         "Tunisia",
         "124",
         "0.055"
        ],
        [
         "Bangladesh",
         "125",
         "0.143"
        ],
        [
         "Iraq",
         "126",
         "0.089"
        ],
        [
         "Congo (Kinshasa)",
         "127",
         "0.053"
        ],
        [
         "Mali",
         "128",
         "0.052"
        ],
        [
         "Sierra Leone",
         "129",
         "0.045"
        ],
        [
         "Sri Lanka",
         "130",
         "0.047"
        ],
        [
         "Myanmar",
         "131",
         "0.172"
        ],
        [
         "Chad",
         "132",
         "0.078"
        ],
        [
         "Ukraine",
         "133",
         "0.01"
        ],
        [
         "Ethiopia",
         "134",
         "0.1"
        ],
        [
         "Swaziland",
         "135",
         "0.135"
        ],
        [
         "Uganda",
         "136",
         "0.06"
        ],
        [
         "Egypt",
         "137",
         "0.067"
        ],
        [
         "Zambia",
         "138",
         "0.087"
        ],
        [
         "Togo",
         "139",
         "0.085"
        ],
        [
         "India",
         "140",
         "0.085"
        ],
        [
         "Liberia",
         "141",
         "0.033"
        ],
        [
         "Comoros",
         "142",
         "0.078"
        ],
        [
         "Madagascar",
         "143",
         "0.041"
        ],
        [
         "Lesotho",
         "144",
         "0.093"
        ],
        [
         "Burundi",
         "145",
         "0.18"
        ],
        [
         "Zimbabwe",
         "146",
         "0.089"
        ],
        [
         "Haiti",
         "147",
         "0.11"
        ],
        [
         "Botswana",
         "148",
         "0.1"
        ],
        [
         "Syria",
         "149",
         "0.141"
        ],
        [
         "Malawi",
         "150",
         "0.089"
        ],
        [
         "Yemen",
         "151",
         "0.077"
        ],
        [
         "Rwanda",
         "152",
         "0.411"
        ],
        [
         "Tanzania",
         "153",
         "0.147"
        ],
        [
         "Afghanistan",
         "154",
         "0.025"
        ],
        [
         "Central African Republic",
         "155",
         "0.035"
        ],
        [
         "South Sudan",
         "156",
         "0.091"
        ]
       ],
       "datasetInfos": [
        {
         "name": "happ_stats",
         "schema": {
          "fields": [
           {
            "metadata": {},
            "name": "country",
            "nullable": true,
            "type": "string"
           },
           {
            "metadata": {},
            "name": "happiness_rank",
            "nullable": true,
            "type": "string"
           },
           {
            "metadata": {},
            "name": "corruption",
            "nullable": true,
            "type": "string"
           }
          ],
          "type": "struct"
         },
         "tableIdentifier": null,
         "typeStr": "pyspark.sql.dataframe.DataFrame"
        }
       ],
       "dbfsResultPath": null,
       "isJsonSchema": true,
       "metadata": {},
       "overflow": false,
       "plotOptions": {
        "customPlotOptions": {},
        "displayType": "table",
        "pivotAggregation": null,
        "pivotColumns": null,
        "xColumns": null,
        "yColumns": null
       },
       "removedWidgets": [],
       "schema": [
        {
         "metadata": "{}",
         "name": "country",
         "type": "\"string\""
        },
        {
         "metadata": "{}",
         "name": "happiness_rank",
         "type": "\"string\""
        },
        {
         "metadata": "{}",
         "name": "corruption",
         "type": "\"string\""
        }
       ],
       "type": "table"
      }
     },
     "output_type": "display_data"
    }
   ],
   "source": [
    "#Segunda consulta\n",
    "happ_stats = sqlContext.sql(\"\"\"\n",
    "                            SELECT country, happiness_rank, corruption\n",
    "                            FROM happiness\n",
    "                            WHERE happiness_rank > 20\n",
    "                            \"\"\")\n",
    "display(happ_stats)"
   ]
  },
  {
   "cell_type": "code",
   "execution_count": 0,
   "metadata": {
    "application/vnd.databricks.v1+cell": {
     "cellMetadata": {},
     "inputWidgets": {},
     "nuid": "76e7df5a-0306-4f0a-a87f-130bd6096ee8",
     "showTitle": false,
     "tableResultSettingsMap": {},
     "title": ""
    }
   },
   "outputs": [
    {
     "output_type": "display_data",
     "data": {
      "text/html": [
       "<style scoped>\n",
       "  .ansiout {\n",
       "    display: block;\n",
       "    unicode-bidi: embed;\n",
       "    white-space: pre-wrap;\n",
       "    word-wrap: break-word;\n",
       "    word-break: break-all;\n",
       "    font-family: \"Menlo\", \"Monaco\", \"Consolas\", \"Ubuntu Mono\", \"Source Code Pro\", monospace;\n",
       "    font-size: 13px;\n",
       "    color: #555;\n",
       "    margin-left: 4px;\n",
       "    line-height: 19px;\n",
       "  }\n",
       "</style>\n",
       "<div class=\"ansiout\"></div>"
      ]
     },
     "metadata": {
      "application/vnd.databricks.v1+output": {
       "addedWidgets": {},
       "arguments": {},
       "data": "<div class=\"ansiout\"></div>",
       "datasetInfos": [],
       "metadata": {},
       "removedWidgets": [],
       "type": "html"
      }
     },
     "output_type": "display_data"
    }
   ],
   "source": [
    "#Guardamos la tabla de manera permanente para su posterior uso\n",
    "permanent_table_name = \"2019_csv\"\n",
    "df.write.format(\"parquet\").saveAsTable(permanent_table_name)"
   ]
  }
 ],
 "metadata": {
  "application/vnd.databricks.v1+notebook": {
   "computePreferences": null,
   "dashboards": [],
   "environmentMetadata": null,
   "language": "python",
   "notebookMetadata": {
    "pythonIndentUnit": 2
   },
   "notebookName": "1Happiness",
   "widgets": {}
  }
 },
 "nbformat": 4,
 "nbformat_minor": 0
}
